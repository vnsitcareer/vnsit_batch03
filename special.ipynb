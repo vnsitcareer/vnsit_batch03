{
 "cells": [
  {
   "cell_type": "markdown",
   "id": "e5c80b04",
   "metadata": {},
   "source": [
    "# Recursive"
   ]
  },
  {
   "cell_type": "code",
   "execution_count": 2,
   "id": "8ef9c7ce",
   "metadata": {},
   "outputs": [
    {
     "name": "stdout",
     "output_type": "stream",
     "text": [
      "120\n"
     ]
    }
   ],
   "source": [
    "def factorial(n):\n",
    "    sum = 1\n",
    "    for i in range(1, n+1):\n",
    "        sum = sum*i\n",
    "    return sum\n",
    "print(factorial(5))"
   ]
  },
  {
   "cell_type": "code",
   "execution_count": 3,
   "id": "799a5ba5",
   "metadata": {},
   "outputs": [
    {
     "name": "stdout",
     "output_type": "stream",
     "text": [
      "120\n"
     ]
    }
   ],
   "source": [
    "def factorial(n): # 5*4*3*2*1\n",
    "    if n == 1:\n",
    "        return n\n",
    "    return n*factorial(n-1)\n",
    "print(factorial(5))"
   ]
  },
  {
   "cell_type": "code",
   "execution_count": 4,
   "id": "e3a79e0b",
   "metadata": {},
   "outputs": [
    {
     "name": "stdout",
     "output_type": "stream",
     "text": [
      "6\n"
     ]
    }
   ],
   "source": [
    "def factorial(n): # 5*4*3*2*1\n",
    "    if n == 1:\n",
    "        return n\n",
    "    res = n*factorial(n-1)\n",
    "    return res\n",
    "print(factorial(3))"
   ]
  },
  {
   "cell_type": "markdown",
   "id": "abb5d24b",
   "metadata": {},
   "source": [
    "# closure"
   ]
  },
  {
   "cell_type": "code",
   "execution_count": 15,
   "id": "85eff5d7",
   "metadata": {},
   "outputs": [],
   "source": [
    "def outer(func):\n",
    "    a1 = 100\n",
    "    def inner(*args, **kwargs): # args = (3, 5)\n",
    "        print(\"Hello VNS\", a1)\n",
    "        return func(*args, **kwargs)+2 # *() ---> 3,5\n",
    "    return inner\n",
    "\n",
    "def myfun(a, b):\n",
    "    return a+b\n",
    "\n",
    "def myfun1(a, b,c):\n",
    "    return a+b*c"
   ]
  },
  {
   "cell_type": "code",
   "execution_count": 7,
   "id": "b17e7029",
   "metadata": {},
   "outputs": [
    {
     "name": "stdout",
     "output_type": "stream",
     "text": [
      "<function outer.<locals>.inner at 0x000002300EC62B90>\n"
     ]
    }
   ],
   "source": [
    "res = outer(myfun)\n",
    "print(res)"
   ]
  },
  {
   "cell_type": "code",
   "execution_count": 8,
   "id": "34bd62da",
   "metadata": {},
   "outputs": [
    {
     "name": "stdout",
     "output_type": "stream",
     "text": [
      "Hello VNS 100\n",
      "11\n"
     ]
    }
   ],
   "source": [
    "print(res(3, 8))"
   ]
  },
  {
   "cell_type": "code",
   "execution_count": 9,
   "id": "0175fa06",
   "metadata": {},
   "outputs": [
    {
     "name": "stdout",
     "output_type": "stream",
     "text": [
      "Hello VNS 100\n",
      "30\n"
     ]
    }
   ],
   "source": [
    "print(res(a=10,b = 20))"
   ]
  },
  {
   "cell_type": "code",
   "execution_count": 13,
   "id": "43d1ff9a",
   "metadata": {},
   "outputs": [
    {
     "name": "stdout",
     "output_type": "stream",
     "text": [
      "Hello VNS 100\n",
      "17\n"
     ]
    }
   ],
   "source": [
    "res = outer(myfun1)\n",
    "print(res(2, 5, 3))"
   ]
  },
  {
   "cell_type": "code",
   "execution_count": 14,
   "id": "148e6317",
   "metadata": {},
   "outputs": [
    {
     "name": "stdout",
     "output_type": "stream",
     "text": [
      "8\n"
     ]
    }
   ],
   "source": [
    "print(myfun(3,5))"
   ]
  },
  {
   "cell_type": "code",
   "execution_count": 16,
   "id": "d8719636",
   "metadata": {},
   "outputs": [
    {
     "name": "stdout",
     "output_type": "stream",
     "text": [
      "Hello VNS 100\n",
      "10\n"
     ]
    }
   ],
   "source": [
    "res = outer(myfun)\n",
    "print(res(3, 5))"
   ]
  },
  {
   "cell_type": "code",
   "execution_count": 17,
   "id": "6b74b64a",
   "metadata": {},
   "outputs": [],
   "source": [
    "def outer(func):\n",
    "    a1 = 100\n",
    "    def inner(*args, **kwargs): # args = (3, 5)\n",
    "        print(\"Hello VNS\", a1)\n",
    "        return func(*args, **kwargs)+2 # *() ---> 3,5\n",
    "    return inner\n",
    "\n",
    "@outer\n",
    "def myfun(a, b):\n",
    "    return a+b\n",
    "\n",
    "@outer\n",
    "def myfun1(a, b,c):\n",
    "    return a+b*c"
   ]
  },
  {
   "cell_type": "code",
   "execution_count": 18,
   "id": "5d56948f",
   "metadata": {},
   "outputs": [
    {
     "name": "stdout",
     "output_type": "stream",
     "text": [
      "Hello VNS 100\n",
      "17\n"
     ]
    }
   ],
   "source": [
    "print(myfun(7,8))"
   ]
  },
  {
   "cell_type": "code",
   "execution_count": 19,
   "id": "b71e9a7e",
   "metadata": {},
   "outputs": [
    {
     "name": "stdout",
     "output_type": "stream",
     "text": [
      "Hello VNS 100\n",
      "45\n"
     ]
    }
   ],
   "source": [
    "print(myfun1(3,8,5))"
   ]
  },
  {
   "cell_type": "code",
   "execution_count": 22,
   "id": "7ec592ce",
   "metadata": {},
   "outputs": [],
   "source": [
    "from time import sleep, time\n",
    "def calculate_time(func):\n",
    "    a1 = 100\n",
    "    def execute(*args, **kwargs): # args = (3, 5)\n",
    "        t = time()\n",
    "        res = func(*args, **kwargs)+2 # *() ---> 3,5\n",
    "        print(\"executed time is\", time()-t)\n",
    "        return res\n",
    "    return execute\n",
    "\n",
    "@calculate_time\n",
    "def myfun(a, b):\n",
    "    sleep(5)\n",
    "    return a+b\n",
    "\n",
    "@calculate_time\n",
    "def myfun1(a, b,c):\n",
    "    sleep(10)\n",
    "    return a+b*c"
   ]
  },
  {
   "cell_type": "code",
   "execution_count": 23,
   "id": "e65fed64",
   "metadata": {},
   "outputs": [
    {
     "name": "stdout",
     "output_type": "stream",
     "text": [
      "executed time is 5.000744104385376\n",
      "13\n"
     ]
    }
   ],
   "source": [
    "print(myfun(3, 8))"
   ]
  },
  {
   "cell_type": "code",
   "execution_count": 24,
   "id": "b5589892",
   "metadata": {},
   "outputs": [
    {
     "name": "stdout",
     "output_type": "stream",
     "text": [
      "executed time is 10.003926515579224\n",
      "85\n"
     ]
    }
   ],
   "source": [
    "print(myfun1(3, 8, 10))"
   ]
  },
  {
   "cell_type": "markdown",
   "id": "2cc51130",
   "metadata": {},
   "source": [
    "# Generator"
   ]
  },
  {
   "cell_type": "code",
   "execution_count": 1,
   "id": "d25c7fbc",
   "metadata": {},
   "outputs": [
    {
     "name": "stdout",
     "output_type": "stream",
     "text": [
      "0\n"
     ]
    }
   ],
   "source": [
    "def myfun(n):\n",
    "    for x in range(n):\n",
    "        return x*2\n",
    "print(myfun(10))     "
   ]
  },
  {
   "cell_type": "code",
   "execution_count": 12,
   "id": "8aae58ca",
   "metadata": {},
   "outputs": [],
   "source": [
    "def myfun(n):\n",
    "    for x in range(n):\n",
    "        yield x*2\n",
    "        #print(x+2)\n",
    "g = myfun(10)"
   ]
  },
  {
   "cell_type": "code",
   "execution_count": 13,
   "id": "11e264f3",
   "metadata": {},
   "outputs": [
    {
     "name": "stdout",
     "output_type": "stream",
     "text": [
      "<generator object myfun at 0x0000014050A4C820>\n"
     ]
    }
   ],
   "source": [
    "print(g)"
   ]
  },
  {
   "cell_type": "code",
   "execution_count": 14,
   "id": "60ecd4d9",
   "metadata": {},
   "outputs": [
    {
     "name": "stdout",
     "output_type": "stream",
     "text": [
      "0\n"
     ]
    }
   ],
   "source": [
    "print(next(g))"
   ]
  },
  {
   "cell_type": "code",
   "execution_count": 15,
   "id": "03b25dad",
   "metadata": {},
   "outputs": [
    {
     "name": "stdout",
     "output_type": "stream",
     "text": [
      "2\n"
     ]
    }
   ],
   "source": [
    "print(next(g))"
   ]
  },
  {
   "cell_type": "code",
   "execution_count": 16,
   "id": "a6398e0d",
   "metadata": {},
   "outputs": [
    {
     "name": "stdout",
     "output_type": "stream",
     "text": [
      "4\n"
     ]
    }
   ],
   "source": [
    "print(next(g))"
   ]
  },
  {
   "cell_type": "code",
   "execution_count": 17,
   "id": "c147e334",
   "metadata": {},
   "outputs": [
    {
     "name": "stdout",
     "output_type": "stream",
     "text": [
      "6\n",
      "8\n",
      "10\n",
      "12\n",
      "14\n",
      "16\n",
      "18\n"
     ]
    }
   ],
   "source": [
    "for y in g:\n",
    "    print(y)"
   ]
  },
  {
   "cell_type": "code",
   "execution_count": 11,
   "id": "728e1e0d",
   "metadata": {},
   "outputs": [
    {
     "ename": "StopIteration",
     "evalue": "",
     "output_type": "error",
     "traceback": [
      "\u001b[1;31m---------------------------------------------------------------------------\u001b[0m",
      "\u001b[1;31mStopIteration\u001b[0m                             Traceback (most recent call last)",
      "Input \u001b[1;32mIn [11]\u001b[0m, in \u001b[0;36m<cell line: 1>\u001b[1;34m()\u001b[0m\n\u001b[1;32m----> 1\u001b[0m \u001b[38;5;28mprint\u001b[39m(\u001b[38;5;28;43mnext\u001b[39;49m\u001b[43m(\u001b[49m\u001b[43mg\u001b[49m\u001b[43m)\u001b[49m)\n",
      "\u001b[1;31mStopIteration\u001b[0m: "
     ]
    }
   ],
   "source": [
    "print(next(g))"
   ]
  },
  {
   "cell_type": "code",
   "execution_count": 18,
   "id": "c8f0f3fa",
   "metadata": {},
   "outputs": [
    {
     "name": "stdout",
     "output_type": "stream",
     "text": [
      "0\n",
      "2\n",
      "4\n",
      "6\n",
      "8\n",
      "10\n",
      "12\n",
      "14\n",
      "16\n",
      "18\n"
     ]
    }
   ],
   "source": [
    "g = myfun(10)\n",
    "for y in g:\n",
    "    print(y)"
   ]
  },
  {
   "cell_type": "markdown",
   "id": "be31a9ed",
   "metadata": {},
   "source": [
    "# map filter reduce"
   ]
  },
  {
   "cell_type": "code",
   "execution_count": 23,
   "id": "aaa911d8",
   "metadata": {},
   "outputs": [
    {
     "name": "stdout",
     "output_type": "stream",
     "text": [
      "[(2, 4), (3, 5), (4, 10)]\n",
      "<zip object at 0x0000014050B36F40>\n"
     ]
    }
   ],
   "source": [
    "l1 = [2, 3, 4]\n",
    "l2 = [4, 5, 10]\n",
    "print(list(zip(l1, l2)))\n",
    "print(zip(l1,l2))"
   ]
  },
  {
   "cell_type": "code",
   "execution_count": 21,
   "id": "79a8cbd8",
   "metadata": {},
   "outputs": [
    {
     "name": "stdout",
     "output_type": "stream",
     "text": [
      "[(2, 4, 3), (3, 5, 8), (4, 10, 20)]\n"
     ]
    }
   ],
   "source": [
    "l1 = [2, 3, 4]\n",
    "l2 = [4, 5, 10]\n",
    "l3 = [3, 8, 20]\n",
    "print(list(zip(l1, l2, l3)))"
   ]
  },
  {
   "cell_type": "code",
   "execution_count": 22,
   "id": "a7b3dc18",
   "metadata": {},
   "outputs": [
    {
     "ename": "TypeError",
     "evalue": "list expected at most 1 argument, got 3",
     "output_type": "error",
     "traceback": [
      "\u001b[1;31m---------------------------------------------------------------------------\u001b[0m",
      "\u001b[1;31mTypeError\u001b[0m                                 Traceback (most recent call last)",
      "Input \u001b[1;32mIn [22]\u001b[0m, in \u001b[0;36m<cell line: 4>\u001b[1;34m()\u001b[0m\n\u001b[0;32m      2\u001b[0m l2 \u001b[38;5;241m=\u001b[39m [\u001b[38;5;241m4\u001b[39m, \u001b[38;5;241m5\u001b[39m, \u001b[38;5;241m10\u001b[39m]\n\u001b[0;32m      3\u001b[0m l3 \u001b[38;5;241m=\u001b[39m [\u001b[38;5;241m3\u001b[39m, \u001b[38;5;241m8\u001b[39m, \u001b[38;5;241m20\u001b[39m]\n\u001b[1;32m----> 4\u001b[0m \u001b[38;5;28mprint\u001b[39m(\u001b[38;5;28;43mlist\u001b[39;49m\u001b[43m(\u001b[49m\u001b[43ml1\u001b[49m\u001b[43m,\u001b[49m\u001b[43m \u001b[49m\u001b[43ml2\u001b[49m\u001b[43m,\u001b[49m\u001b[43m \u001b[49m\u001b[43ml3\u001b[49m\u001b[43m)\u001b[49m)\n",
      "\u001b[1;31mTypeError\u001b[0m: list expected at most 1 argument, got 3"
     ]
    }
   ],
   "source": [
    "l1 = [2, 3, 4]\n",
    "l2 = [4, 5, 10]\n",
    "l3 = [3, 8, 20]\n",
    "print(list(l1, l2, l3))"
   ]
  },
  {
   "cell_type": "code",
   "execution_count": 24,
   "id": "e2fcd275",
   "metadata": {},
   "outputs": [
    {
     "name": "stdout",
     "output_type": "stream",
     "text": [
      "9\n",
      "16\n",
      "34\n"
     ]
    }
   ],
   "source": [
    "for x,y,z in zip(l1, l2, l3):\n",
    "    print(x+y+z)"
   ]
  },
  {
   "cell_type": "code",
   "execution_count": 25,
   "id": "9a24e386",
   "metadata": {},
   "outputs": [
    {
     "name": "stdout",
     "output_type": "stream",
     "text": [
      "9\n",
      "16\n",
      "34\n"
     ]
    }
   ],
   "source": [
    "for y in zip(l1, l2, l3):\n",
    "    print(sum(y))"
   ]
  },
  {
   "cell_type": "markdown",
   "id": "203382f0",
   "metadata": {},
   "source": [
    "# lambda ----> ananyious function"
   ]
  },
  {
   "cell_type": "code",
   "execution_count": 26,
   "id": "5d479e3c",
   "metadata": {},
   "outputs": [
    {
     "name": "stdout",
     "output_type": "stream",
     "text": [
      "<function <lambda> at 0x000001404EF6EF80>\n"
     ]
    }
   ],
   "source": [
    "f = lambda x,y:x+y\n",
    "print(f)"
   ]
  },
  {
   "cell_type": "code",
   "execution_count": 27,
   "id": "a06690b0",
   "metadata": {},
   "outputs": [
    {
     "name": "stdout",
     "output_type": "stream",
     "text": [
      "<function <lambda> at 0x000001404EF6E560>\n"
     ]
    }
   ],
   "source": [
    "f1 = lambda x,y,z:x+y-z\n",
    "print(f1)"
   ]
  },
  {
   "cell_type": "code",
   "execution_count": 28,
   "id": "e238e48d",
   "metadata": {},
   "outputs": [
    {
     "name": "stdout",
     "output_type": "stream",
     "text": [
      "8\n"
     ]
    }
   ],
   "source": [
    "print(f(3,5))"
   ]
  },
  {
   "cell_type": "code",
   "execution_count": 29,
   "id": "f22437af",
   "metadata": {},
   "outputs": [
    {
     "name": "stdout",
     "output_type": "stream",
     "text": [
      "0\n"
     ]
    }
   ],
   "source": [
    "print(f1(3,5,8))"
   ]
  },
  {
   "cell_type": "code",
   "execution_count": 30,
   "id": "7ae46cbc",
   "metadata": {},
   "outputs": [
    {
     "name": "stdout",
     "output_type": "stream",
     "text": [
      "<function <lambda> at 0x0000014050B01510>\n",
      "10\n"
     ]
    }
   ],
   "source": [
    "f1 = lambda x,y,z:x+y-z if x>y else y+z-x\n",
    "print(f1)\n",
    "print(f1(3,5,8))"
   ]
  },
  {
   "cell_type": "code",
   "execution_count": 31,
   "id": "c9905efd",
   "metadata": {},
   "outputs": [
    {
     "name": "stdout",
     "output_type": "stream",
     "text": [
      "<class 'int'>\n"
     ]
    }
   ],
   "source": [
    "l = ['10', '20']\n",
    "print(int)"
   ]
  },
  {
   "cell_type": "code",
   "execution_count": 32,
   "id": "c45eadbf",
   "metadata": {},
   "outputs": [
    {
     "name": "stdout",
     "output_type": "stream",
     "text": [
      "<class 'map'>\n"
     ]
    }
   ],
   "source": [
    "print(map)"
   ]
  },
  {
   "cell_type": "code",
   "execution_count": 33,
   "id": "3aa7b288",
   "metadata": {},
   "outputs": [
    {
     "name": "stdout",
     "output_type": "stream",
     "text": [
      "[10, 20]\n"
     ]
    }
   ],
   "source": [
    "print(list(map(int, l)))"
   ]
  },
  {
   "cell_type": "code",
   "execution_count": 34,
   "id": "290d0f4b",
   "metadata": {},
   "outputs": [
    {
     "name": "stdout",
     "output_type": "stream",
     "text": [
      "[40, 100]\n"
     ]
    }
   ],
   "source": [
    "l1 = ['10', '30']\n",
    "l2 = ['30', '70']\n",
    "print(list(map(lambda x,y:int(x)+int(y), l1, l2)))"
   ]
  },
  {
   "cell_type": "code",
   "execution_count": 35,
   "id": "8a166d10",
   "metadata": {},
   "outputs": [
    {
     "name": "stdout",
     "output_type": "stream",
     "text": [
      "[40, 100]\n"
     ]
    }
   ],
   "source": [
    "def myfun(x,y):\n",
    "    return int(x)+int(y)\n",
    "print(list(map(myfun, l1, l2)))"
   ]
  },
  {
   "cell_type": "raw",
   "id": "6d08ba93",
   "metadata": {},
   "source": [
    "map is predefined function which takes as many as argument but first argument must be the function/class object and remaining objects must be sequences. it takes one by one value from sequences and send them as aruguments to functional object. finally return values of functional object are stored in map sequence"
   ]
  },
  {
   "cell_type": "code",
   "execution_count": 36,
   "id": "f7f92c4f",
   "metadata": {},
   "outputs": [
    {
     "name": "stdout",
     "output_type": "stream",
     "text": [
      "[40, 100]\n"
     ]
    }
   ],
   "source": [
    "print([int(x)+int(y) for x,y in zip(l1, l2)])"
   ]
  },
  {
   "cell_type": "code",
   "execution_count": 38,
   "id": "b11bfcdd",
   "metadata": {},
   "outputs": [
    {
     "name": "stdout",
     "output_type": "stream",
     "text": [
      "[40, 100]\n"
     ]
    }
   ],
   "source": [
    "le = len(l1)\n",
    "print([int(l1[x])+int(l2[x]) for x in range(le)])"
   ]
  },
  {
   "cell_type": "markdown",
   "id": "6f9ef0ab",
   "metadata": {},
   "source": [
    "# filter "
   ]
  },
  {
   "cell_type": "raw",
   "id": "e8ccf148",
   "metadata": {},
   "source": [
    "filter is used to filter out unwanted data. filter is also a predefined which takes exactly 2 arguments. where first arguments is a functional object and second arguments is a sequence. it takes one by one value from sequence and passes it as an argument to filter. if the return value is true then only particular value is stored in output sequence"
   ]
  },
  {
   "cell_type": "code",
   "execution_count": 40,
   "id": "e20f9ad7",
   "metadata": {},
   "outputs": [
    {
     "name": "stdout",
     "output_type": "stream",
     "text": [
      "<filter object at 0x000001404F1308E0>\n",
      "[2, 6, 8, 10]\n"
     ]
    }
   ],
   "source": [
    "l1 = [2, 3, 5, 6, 8, 10, 9, 13]\n",
    "def myfun(x):\n",
    "    return x%2 == 0\n",
    "print(filter(myfun, l1))\n",
    "print(list(filter(myfun, l1)))"
   ]
  },
  {
   "cell_type": "code",
   "execution_count": 41,
   "id": "8f55bb16",
   "metadata": {},
   "outputs": [
    {
     "name": "stdout",
     "output_type": "stream",
     "text": [
      "[2, 6, 8, 10]\n"
     ]
    }
   ],
   "source": [
    "print(list(filter(lambda x:x%2 == 0, l1)))"
   ]
  },
  {
   "cell_type": "markdown",
   "id": "63c2f951",
   "metadata": {},
   "source": [
    "# reduce"
   ]
  },
  {
   "cell_type": "code",
   "execution_count": 42,
   "id": "be027744",
   "metadata": {},
   "outputs": [],
   "source": [
    "from functools import reduce"
   ]
  },
  {
   "cell_type": "code",
   "execution_count": 43,
   "id": "48199ea1",
   "metadata": {},
   "outputs": [
    {
     "name": "stdout",
     "output_type": "stream",
     "text": [
      "18\n"
     ]
    }
   ],
   "source": [
    "l1 = [2, 5, 8]\n",
    "print(reduce(lambda x,y: x*y if y<=5 else x+y, l1))"
   ]
  },
  {
   "cell_type": "code",
   "execution_count": 44,
   "id": "87dc5677",
   "metadata": {},
   "outputs": [],
   "source": [
    "d = {\"host1\": [\"network1\", \"network2\", \"network5\"],\n",
    "    \"host2\": [\"network2\", \"network4\", \"netowrk3\"],\n",
    "    \"host3\": [\"netowrk3\", \"network4\", \"network2\"]}"
   ]
  },
  {
   "cell_type": "code",
   "execution_count": 45,
   "id": "078a2c60",
   "metadata": {},
   "outputs": [
    {
     "name": "stdout",
     "output_type": "stream",
     "text": [
      "[1, 2, 5, 6, 8, 8, 10, 11, 15]\n"
     ]
    }
   ],
   "source": [
    "l1 = [2, 1, 8, 5, 6, 15, 10, 11, 8]\n",
    "l1.sort()\n",
    "print(l1)"
   ]
  },
  {
   "cell_type": "code",
   "execution_count": 46,
   "id": "4c29ec07",
   "metadata": {},
   "outputs": [
    {
     "name": "stdout",
     "output_type": "stream",
     "text": [
      "[15, 11, 10, 8, 8, 6, 5, 2, 1]\n"
     ]
    }
   ],
   "source": [
    "l1 = [2, 1, 8, 5, 6, 15, 10, 11, 8]\n",
    "l1.sort(reverse=True)\n",
    "print(l1)"
   ]
  },
  {
   "cell_type": "code",
   "execution_count": 47,
   "id": "54dae007",
   "metadata": {},
   "outputs": [
    {
     "name": "stdout",
     "output_type": "stream",
     "text": [
      "Help on built-in function sorted in module builtins:\n",
      "\n",
      "sorted(iterable, /, *, key=None, reverse=False)\n",
      "    Return a new list containing all items from the iterable in ascending order.\n",
      "    \n",
      "    A custom key function can be supplied to customize the sort order, and the\n",
      "    reverse flag can be set to request the result in descending order.\n",
      "\n"
     ]
    }
   ],
   "source": [
    "help(sorted)"
   ]
  },
  {
   "cell_type": "code",
   "execution_count": 48,
   "id": "392cdd15",
   "metadata": {},
   "outputs": [
    {
     "name": "stdout",
     "output_type": "stream",
     "text": [
      "[1, 2, 5, 6, 8, 8, 10, 11, 15]\n"
     ]
    }
   ],
   "source": [
    "l1 = [2, 1, 8, 5, 6, 15, 10, 11, 8]\n",
    "print(sorted(l1))"
   ]
  },
  {
   "cell_type": "code",
   "execution_count": 49,
   "id": "e0e67904",
   "metadata": {},
   "outputs": [
    {
     "name": "stdout",
     "output_type": "stream",
     "text": [
      "[2, 1, 8, 5, 6, 15, 10, 11, 8]\n"
     ]
    }
   ],
   "source": [
    "print(l1)"
   ]
  },
  {
   "cell_type": "code",
   "execution_count": 50,
   "id": "103602e2",
   "metadata": {},
   "outputs": [
    {
     "name": "stdout",
     "output_type": "stream",
     "text": [
      "[2, 8, 6, 10, 8, 1, 5, 15, 11]\n"
     ]
    }
   ],
   "source": [
    "print(sorted(l1, key=lambda x:x%2))"
   ]
  },
  {
   "cell_type": "code",
   "execution_count": 51,
   "id": "d5a968c0",
   "metadata": {},
   "outputs": [
    {
     "name": "stdout",
     "output_type": "stream",
     "text": [
      "[6, 15, 1, 10, 2, 8, 5, 11, 8]\n"
     ]
    }
   ],
   "source": [
    "print(sorted(l1, key=lambda x:x%3))"
   ]
  },
  {
   "cell_type": "code",
   "execution_count": 52,
   "id": "ce1c076f",
   "metadata": {},
   "outputs": [
    {
     "name": "stdout",
     "output_type": "stream",
     "text": [
      "[(3, 6), (7, 8), (1, 10), (2, 15)]\n"
     ]
    }
   ],
   "source": [
    "d = {1:10, 2:15, 3:6, 7:8}\n",
    "print(sorted(d.items(), key=lambda x: x[1]))"
   ]
  },
  {
   "cell_type": "code",
   "execution_count": 54,
   "id": "9d234d19",
   "metadata": {},
   "outputs": [
    {
     "name": "stdout",
     "output_type": "stream",
     "text": [
      "15\n"
     ]
    }
   ],
   "source": [
    "print(sorted(d.items(), key=lambda x: x[1])[-1][-1])"
   ]
  },
  {
   "cell_type": "code",
   "execution_count": 55,
   "id": "e9b9f8b2",
   "metadata": {},
   "outputs": [
    {
     "name": "stdout",
     "output_type": "stream",
     "text": [
      "[(1, 10), (2, 15), (3, 6), (7, 8)]\n"
     ]
    }
   ],
   "source": [
    "d = {1:10, 2:15, 3:6, 7:8}\n",
    "print(sorted(d.items(), key=lambda x: x))"
   ]
  },
  {
   "cell_type": "code",
   "execution_count": null,
   "id": "547a9b50",
   "metadata": {},
   "outputs": [],
   "source": []
  }
 ],
 "metadata": {
  "kernelspec": {
   "display_name": "Python 3 (ipykernel)",
   "language": "python",
   "name": "python3"
  },
  "language_info": {
   "codemirror_mode": {
    "name": "ipython",
    "version": 3
   },
   "file_extension": ".py",
   "mimetype": "text/x-python",
   "name": "python",
   "nbconvert_exporter": "python",
   "pygments_lexer": "ipython3",
   "version": "3.10.8"
  }
 },
 "nbformat": 4,
 "nbformat_minor": 5
}
