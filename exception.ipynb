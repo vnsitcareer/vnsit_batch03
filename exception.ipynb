{
 "cells": [
  {
   "cell_type": "code",
   "execution_count": 1,
   "id": "d2265aae",
   "metadata": {},
   "outputs": [
    {
     "ename": "FileNotFoundError",
     "evalue": "[Errno 2] No such file or directory: 'yahoo.txt'",
     "output_type": "error",
     "traceback": [
      "\u001b[1;31m---------------------------------------------------------------------------\u001b[0m",
      "\u001b[1;31mFileNotFoundError\u001b[0m                         Traceback (most recent call last)",
      "Input \u001b[1;32mIn [1]\u001b[0m, in \u001b[0;36m<cell line: 1>\u001b[1;34m()\u001b[0m\n\u001b[1;32m----> 1\u001b[0m f \u001b[38;5;241m=\u001b[39m \u001b[38;5;28;43mopen\u001b[39;49m\u001b[43m(\u001b[49m\u001b[38;5;124;43m\"\u001b[39;49m\u001b[38;5;124;43myahoo.txt\u001b[39;49m\u001b[38;5;124;43m\"\u001b[39;49m\u001b[43m,\u001b[49m\u001b[43m \u001b[49m\u001b[38;5;124;43m'\u001b[39;49m\u001b[38;5;124;43mr\u001b[39;49m\u001b[38;5;124;43m'\u001b[39;49m\u001b[43m)\u001b[49m\n",
      "\u001b[1;31mFileNotFoundError\u001b[0m: [Errno 2] No such file or directory: 'yahoo.txt'"
     ]
    }
   ],
   "source": [
    "f = open(\"yahoo.txt\", 'r')"
   ]
  },
  {
   "cell_type": "code",
   "execution_count": 2,
   "id": "725cc149",
   "metadata": {},
   "outputs": [
    {
     "ename": "SyntaxError",
     "evalue": "incomplete input (3604488194.py, line 2)",
     "output_type": "error",
     "traceback": [
      "\u001b[1;36m  Input \u001b[1;32mIn [2]\u001b[1;36m\u001b[0m\n\u001b[1;33m    f = open(\"yahoo.txt\", \"r\")\u001b[0m\n\u001b[1;37m                              ^\u001b[0m\n\u001b[1;31mSyntaxError\u001b[0m\u001b[1;31m:\u001b[0m incomplete input\n"
     ]
    }
   ],
   "source": [
    "try:\n",
    "    f = open(\"yahoo.txt\", \"r\")"
   ]
  },
  {
   "cell_type": "code",
   "execution_count": 3,
   "id": "c3f3cc7f",
   "metadata": {},
   "outputs": [
    {
     "ename": "FileNotFoundError",
     "evalue": "[Errno 2] No such file or directory: 'yahoo.txt'",
     "output_type": "error",
     "traceback": [
      "\u001b[1;31m---------------------------------------------------------------------------\u001b[0m",
      "\u001b[1;31mFileNotFoundError\u001b[0m                         Traceback (most recent call last)",
      "Input \u001b[1;32mIn [3]\u001b[0m, in \u001b[0;36m<cell line: 1>\u001b[1;34m()\u001b[0m\n\u001b[0;32m      1\u001b[0m \u001b[38;5;28;01mtry\u001b[39;00m:\n\u001b[1;32m----> 2\u001b[0m     f \u001b[38;5;241m=\u001b[39m \u001b[38;5;28;43mopen\u001b[39;49m\u001b[43m(\u001b[49m\u001b[38;5;124;43m\"\u001b[39;49m\u001b[38;5;124;43myahoo.txt\u001b[39;49m\u001b[38;5;124;43m\"\u001b[39;49m\u001b[43m,\u001b[49m\u001b[43m \u001b[49m\u001b[38;5;124;43m\"\u001b[39;49m\u001b[38;5;124;43mr\u001b[39;49m\u001b[38;5;124;43m\"\u001b[39;49m\u001b[43m)\u001b[49m\n\u001b[0;32m      3\u001b[0m \u001b[38;5;28;01mfinally\u001b[39;00m:\n\u001b[0;32m      4\u001b[0m     \u001b[38;5;28;01mpass\u001b[39;00m\n",
      "\u001b[1;31mFileNotFoundError\u001b[0m: [Errno 2] No such file or directory: 'yahoo.txt'"
     ]
    }
   ],
   "source": [
    "try:\n",
    "    f = open(\"yahoo.txt\", \"r\")\n",
    "finally:\n",
    "    pass"
   ]
  },
  {
   "cell_type": "code",
   "execution_count": 4,
   "id": "c468608e",
   "metadata": {},
   "outputs": [],
   "source": [
    "try:\n",
    "    f = open(\"yahoo.txt\", \"r\")\n",
    "except:\n",
    "    pass"
   ]
  },
  {
   "cell_type": "code",
   "execution_count": 5,
   "id": "61d89e91",
   "metadata": {},
   "outputs": [
    {
     "name": "stdout",
     "output_type": "stream",
     "text": [
      "except\n"
     ]
    }
   ],
   "source": [
    "try:\n",
    "    f = open(\"yahoo.txt\", \"r\")\n",
    "    print(\"try\")\n",
    "except:\n",
    "    print(\"except\")"
   ]
  },
  {
   "cell_type": "code",
   "execution_count": 6,
   "id": "1a921ed9",
   "metadata": {},
   "outputs": [
    {
     "name": "stdout",
     "output_type": "stream",
     "text": [
      "try\n"
     ]
    }
   ],
   "source": [
    "try:\n",
    "    f = open(\"sample.txt\", \"r\")\n",
    "    print(\"try\")\n",
    "except:\n",
    "    print(\"except\")"
   ]
  },
  {
   "cell_type": "code",
   "execution_count": 7,
   "id": "3d80afab",
   "metadata": {},
   "outputs": [],
   "source": [
    "f.close()"
   ]
  },
  {
   "cell_type": "code",
   "execution_count": 8,
   "id": "dade6348",
   "metadata": {},
   "outputs": [
    {
     "name": "stdout",
     "output_type": "stream",
     "text": [
      "try\n",
      "else\n"
     ]
    }
   ],
   "source": [
    "try:\n",
    "    f = open(\"sample.txt\", \"r\")\n",
    "    print(\"try\")\n",
    "except:\n",
    "    print(\"except\")\n",
    "else:\n",
    "    print(\"else\")"
   ]
  },
  {
   "cell_type": "code",
   "execution_count": 10,
   "id": "de79b9c1",
   "metadata": {},
   "outputs": [
    {
     "name": "stdout",
     "output_type": "stream",
     "text": [
      "except\n"
     ]
    }
   ],
   "source": [
    "try:\n",
    "    f = open(\"yahoo.txt\", \"r\")\n",
    "    print(\"try\")\n",
    "except:\n",
    "    print(\"except\")\n",
    "else:\n",
    "    f.close()"
   ]
  },
  {
   "cell_type": "code",
   "execution_count": 11,
   "id": "7b702468",
   "metadata": {},
   "outputs": [
    {
     "name": "stdout",
     "output_type": "stream",
     "text": [
      "try\n"
     ]
    }
   ],
   "source": [
    "try:\n",
    "    f = open(\"sample.txt\", \"r\")\n",
    "    print(\"try\")\n",
    "except:\n",
    "    print(\"except\")\n",
    "else:\n",
    "    f.close()"
   ]
  },
  {
   "cell_type": "code",
   "execution_count": 13,
   "id": "a8315d74",
   "metadata": {},
   "outputs": [],
   "source": [
    "try:\n",
    "    f = open(\"yahoo.txt\", \"r\")\n",
    "    print(\"try\")\n",
    "except:\n",
    "    import os\n",
    "    os.system(\"powershell cp ../yahoo.txt .\")\n",
    "    f = open(\"yahoo.txt\")"
   ]
  },
  {
   "cell_type": "code",
   "execution_count": 14,
   "id": "0383407f",
   "metadata": {},
   "outputs": [
    {
     "name": "stdout",
     "output_type": "stream",
     "text": [
      "enter a first number10\n",
      "enter a second number0\n"
     ]
    },
    {
     "ename": "ZeroDivisionError",
     "evalue": "division by zero",
     "output_type": "error",
     "traceback": [
      "\u001b[1;31m---------------------------------------------------------------------------\u001b[0m",
      "\u001b[1;31mZeroDivisionError\u001b[0m                         Traceback (most recent call last)",
      "Input \u001b[1;32mIn [14]\u001b[0m, in \u001b[0;36m<cell line: 3>\u001b[1;34m()\u001b[0m\n\u001b[0;32m      1\u001b[0m a \u001b[38;5;241m=\u001b[39m \u001b[38;5;28mint\u001b[39m(\u001b[38;5;28minput\u001b[39m(\u001b[38;5;124m\"\u001b[39m\u001b[38;5;124menter a first number\u001b[39m\u001b[38;5;124m\"\u001b[39m))\n\u001b[0;32m      2\u001b[0m b \u001b[38;5;241m=\u001b[39m \u001b[38;5;28mint\u001b[39m(\u001b[38;5;28minput\u001b[39m(\u001b[38;5;124m\"\u001b[39m\u001b[38;5;124menter a second number\u001b[39m\u001b[38;5;124m\"\u001b[39m))\n\u001b[1;32m----> 3\u001b[0m \u001b[38;5;28mprint\u001b[39m(\u001b[43ma\u001b[49m\u001b[38;5;241;43m/\u001b[39;49m\u001b[43mb\u001b[49m)\n",
      "\u001b[1;31mZeroDivisionError\u001b[0m: division by zero"
     ]
    }
   ],
   "source": [
    "a = int(input(\"enter a first number\"))\n",
    "b = int(input(\"enter a second number\"))\n",
    "print(a/b)"
   ]
  },
  {
   "cell_type": "code",
   "execution_count": 15,
   "id": "209f94a1",
   "metadata": {},
   "outputs": [
    {
     "name": "stdout",
     "output_type": "stream",
     "text": [
      "enter a first number10\n",
      "enter a second number5.5\n"
     ]
    },
    {
     "ename": "ValueError",
     "evalue": "invalid literal for int() with base 10: '5.5'",
     "output_type": "error",
     "traceback": [
      "\u001b[1;31m---------------------------------------------------------------------------\u001b[0m",
      "\u001b[1;31mValueError\u001b[0m                                Traceback (most recent call last)",
      "Input \u001b[1;32mIn [15]\u001b[0m, in \u001b[0;36m<cell line: 2>\u001b[1;34m()\u001b[0m\n\u001b[0;32m      1\u001b[0m a \u001b[38;5;241m=\u001b[39m \u001b[38;5;28mint\u001b[39m(\u001b[38;5;28minput\u001b[39m(\u001b[38;5;124m\"\u001b[39m\u001b[38;5;124menter a first number\u001b[39m\u001b[38;5;124m\"\u001b[39m))\n\u001b[1;32m----> 2\u001b[0m b \u001b[38;5;241m=\u001b[39m \u001b[38;5;28;43mint\u001b[39;49m\u001b[43m(\u001b[49m\u001b[38;5;28;43minput\u001b[39;49m\u001b[43m(\u001b[49m\u001b[38;5;124;43m\"\u001b[39;49m\u001b[38;5;124;43menter a second number\u001b[39;49m\u001b[38;5;124;43m\"\u001b[39;49m\u001b[43m)\u001b[49m\u001b[43m)\u001b[49m\n\u001b[0;32m      3\u001b[0m \u001b[38;5;28mprint\u001b[39m(a\u001b[38;5;241m/\u001b[39mb)\n",
      "\u001b[1;31mValueError\u001b[0m: invalid literal for int() with base 10: '5.5'"
     ]
    }
   ],
   "source": [
    "a = int(input(\"enter a first number\"))\n",
    "b = int(input(\"enter a second number\"))\n",
    "print(a/b)"
   ]
  },
  {
   "cell_type": "code",
   "execution_count": 16,
   "id": "67a4f119",
   "metadata": {},
   "outputs": [
    {
     "name": "stdout",
     "output_type": "stream",
     "text": [
      "enter a first number12a\n"
     ]
    },
    {
     "ename": "ValueError",
     "evalue": "invalid literal for int() with base 10: '12a'",
     "output_type": "error",
     "traceback": [
      "\u001b[1;31m---------------------------------------------------------------------------\u001b[0m",
      "\u001b[1;31mValueError\u001b[0m                                Traceback (most recent call last)",
      "Input \u001b[1;32mIn [16]\u001b[0m, in \u001b[0;36m<cell line: 1>\u001b[1;34m()\u001b[0m\n\u001b[1;32m----> 1\u001b[0m a \u001b[38;5;241m=\u001b[39m \u001b[38;5;28;43mint\u001b[39;49m\u001b[43m(\u001b[49m\u001b[38;5;28;43minput\u001b[39;49m\u001b[43m(\u001b[49m\u001b[38;5;124;43m\"\u001b[39;49m\u001b[38;5;124;43menter a first number\u001b[39;49m\u001b[38;5;124;43m\"\u001b[39;49m\u001b[43m)\u001b[49m\u001b[43m)\u001b[49m\n\u001b[0;32m      2\u001b[0m b \u001b[38;5;241m=\u001b[39m \u001b[38;5;28mint\u001b[39m(\u001b[38;5;28minput\u001b[39m(\u001b[38;5;124m\"\u001b[39m\u001b[38;5;124menter a second number\u001b[39m\u001b[38;5;124m\"\u001b[39m))\n\u001b[0;32m      3\u001b[0m \u001b[38;5;28mprint\u001b[39m(a\u001b[38;5;241m/\u001b[39mb)\n",
      "\u001b[1;31mValueError\u001b[0m: invalid literal for int() with base 10: '12a'"
     ]
    }
   ],
   "source": [
    "a = int(input(\"enter a first number\"))\n",
    "b = int(input(\"enter a second number\"))\n",
    "print(a/b)"
   ]
  },
  {
   "cell_type": "code",
   "execution_count": 19,
   "id": "0a03c502",
   "metadata": {},
   "outputs": [
    {
     "name": "stdout",
     "output_type": "stream",
     "text": [
      "enter a first number10\n",
      "enter a second number2.8\n",
      "3.5714285714285716\n"
     ]
    }
   ],
   "source": [
    "try:\n",
    "    a = float(input(\"enter a first number\"))\n",
    "    b = float(input(\"enter a second number\"))\n",
    "    print(a/b)\n",
    "except:\n",
    "    print(\"denominator as zero\")"
   ]
  },
  {
   "cell_type": "code",
   "execution_count": 20,
   "id": "f46b41a6",
   "metadata": {},
   "outputs": [
    {
     "name": "stdout",
     "output_type": "stream",
     "text": [
      "enter a first number18b\n",
      "denominator as zero\n"
     ]
    }
   ],
   "source": [
    "try:\n",
    "    a = float(input(\"enter a first number\"))\n",
    "    b = float(input(\"enter a second number\"))\n",
    "    print(a/b)\n",
    "except:\n",
    "    print(\"denominator as zero\")"
   ]
  },
  {
   "cell_type": "code",
   "execution_count": 21,
   "id": "3ddd5d77",
   "metadata": {},
   "outputs": [
    {
     "name": "stdout",
     "output_type": "stream",
     "text": [
      "enter a first number18b\n",
      "denominator as zero\n"
     ]
    }
   ],
   "source": [
    "try:\n",
    "    a = float(input(\"enter a first number\"))\n",
    "    b = float(input(\"enter a second number\"))\n",
    "    print(a/b)\n",
    "except Exception as err:\n",
    "    print(\"denominator as zero\")"
   ]
  },
  {
   "cell_type": "code",
   "execution_count": 22,
   "id": "ff3a8df9",
   "metadata": {},
   "outputs": [
    {
     "name": "stdout",
     "output_type": "stream",
     "text": [
      "enter a first number18b\n",
      "denominator as zero\n",
      "could not convert string to float: '18b'\n"
     ]
    }
   ],
   "source": [
    "try:\n",
    "    a = float(input(\"enter a first number\"))\n",
    "    b = float(input(\"enter a second number\"))\n",
    "    print(a/b)\n",
    "except Exception as err:\n",
    "    print(\"denominator as zero\")\n",
    "    print(err)"
   ]
  },
  {
   "cell_type": "code",
   "execution_count": 23,
   "id": "0d362468",
   "metadata": {},
   "outputs": [
    {
     "name": "stdout",
     "output_type": "stream",
     "text": [
      "enter a first number18b\n"
     ]
    },
    {
     "ename": "ValueError",
     "evalue": "could not convert string to float: '18b'",
     "output_type": "error",
     "traceback": [
      "\u001b[1;31m---------------------------------------------------------------------------\u001b[0m",
      "\u001b[1;31mValueError\u001b[0m                                Traceback (most recent call last)",
      "Input \u001b[1;32mIn [23]\u001b[0m, in \u001b[0;36m<cell line: 1>\u001b[1;34m()\u001b[0m\n\u001b[0;32m      1\u001b[0m \u001b[38;5;28;01mtry\u001b[39;00m:\n\u001b[1;32m----> 2\u001b[0m     a \u001b[38;5;241m=\u001b[39m \u001b[38;5;28;43mfloat\u001b[39;49m\u001b[43m(\u001b[49m\u001b[38;5;28;43minput\u001b[39;49m\u001b[43m(\u001b[49m\u001b[38;5;124;43m\"\u001b[39;49m\u001b[38;5;124;43menter a first number\u001b[39;49m\u001b[38;5;124;43m\"\u001b[39;49m\u001b[43m)\u001b[49m\u001b[43m)\u001b[49m\n\u001b[0;32m      3\u001b[0m     b \u001b[38;5;241m=\u001b[39m \u001b[38;5;28mfloat\u001b[39m(\u001b[38;5;28minput\u001b[39m(\u001b[38;5;124m\"\u001b[39m\u001b[38;5;124menter a second number\u001b[39m\u001b[38;5;124m\"\u001b[39m))\n\u001b[0;32m      4\u001b[0m     \u001b[38;5;28mprint\u001b[39m(a\u001b[38;5;241m/\u001b[39mb)\n",
      "\u001b[1;31mValueError\u001b[0m: could not convert string to float: '18b'"
     ]
    }
   ],
   "source": [
    "try:\n",
    "    a = float(input(\"enter a first number\"))\n",
    "    b = float(input(\"enter a second number\"))\n",
    "    print(a/b)\n",
    "except AssertionError as err:\n",
    "    print(\"denominator as zero\")\n",
    "    print(err)"
   ]
  },
  {
   "cell_type": "code",
   "execution_count": 24,
   "id": "9ee318f9",
   "metadata": {},
   "outputs": [
    {
     "name": "stdout",
     "output_type": "stream",
     "text": [
      "enter a first number18b\n",
      "denominator as zero\n",
      "could not convert string to float: '18b'\n"
     ]
    }
   ],
   "source": [
    "try:\n",
    "    a = float(input(\"enter a first number\"))\n",
    "    b = float(input(\"enter a second number\"))\n",
    "    print(a/b)\n",
    "except ValueError as err:\n",
    "    print(\"denominator as zero\")\n",
    "    print(err)"
   ]
  },
  {
   "cell_type": "code",
   "execution_count": 25,
   "id": "0166b666",
   "metadata": {},
   "outputs": [
    {
     "name": "stdout",
     "output_type": "stream",
     "text": [
      "enter a first number18\n",
      "enter a second number0\n"
     ]
    },
    {
     "ename": "ZeroDivisionError",
     "evalue": "float division by zero",
     "output_type": "error",
     "traceback": [
      "\u001b[1;31m---------------------------------------------------------------------------\u001b[0m",
      "\u001b[1;31mZeroDivisionError\u001b[0m                         Traceback (most recent call last)",
      "Input \u001b[1;32mIn [25]\u001b[0m, in \u001b[0;36m<cell line: 1>\u001b[1;34m()\u001b[0m\n\u001b[0;32m      2\u001b[0m     a \u001b[38;5;241m=\u001b[39m \u001b[38;5;28mfloat\u001b[39m(\u001b[38;5;28minput\u001b[39m(\u001b[38;5;124m\"\u001b[39m\u001b[38;5;124menter a first number\u001b[39m\u001b[38;5;124m\"\u001b[39m))\n\u001b[0;32m      3\u001b[0m     b \u001b[38;5;241m=\u001b[39m \u001b[38;5;28mfloat\u001b[39m(\u001b[38;5;28minput\u001b[39m(\u001b[38;5;124m\"\u001b[39m\u001b[38;5;124menter a second number\u001b[39m\u001b[38;5;124m\"\u001b[39m))\n\u001b[1;32m----> 4\u001b[0m     \u001b[38;5;28mprint\u001b[39m(\u001b[43ma\u001b[49m\u001b[38;5;241;43m/\u001b[39;49m\u001b[43mb\u001b[49m)\n\u001b[0;32m      5\u001b[0m \u001b[38;5;28;01mexcept\u001b[39;00m \u001b[38;5;167;01mValueError\u001b[39;00m \u001b[38;5;28;01mas\u001b[39;00m err:\n\u001b[0;32m      6\u001b[0m     \u001b[38;5;28mprint\u001b[39m(\u001b[38;5;124m\"\u001b[39m\u001b[38;5;124mdenominator as zero\u001b[39m\u001b[38;5;124m\"\u001b[39m)\n",
      "\u001b[1;31mZeroDivisionError\u001b[0m: float division by zero"
     ]
    }
   ],
   "source": [
    "try:\n",
    "    a = float(input(\"enter a first number\"))\n",
    "    b = float(input(\"enter a second number\"))\n",
    "    print(a/b)\n",
    "except ValueError as err:\n",
    "    print(\"denominator as zero\")\n",
    "    print(err)"
   ]
  },
  {
   "cell_type": "code",
   "execution_count": 26,
   "id": "ac0b38ab",
   "metadata": {},
   "outputs": [
    {
     "name": "stdout",
     "output_type": "stream",
     "text": [
      "enter a first number10\n",
      "enter a second number0\n",
      "denominator as zero\n",
      "float division by zero\n"
     ]
    }
   ],
   "source": [
    "try:\n",
    "    a = float(input(\"enter a first number\"))\n",
    "    b = float(input(\"enter a second number\"))\n",
    "    print(a/b)\n",
    "except ZeroDivisionError as err:\n",
    "    print(\"denominator as zero\")\n",
    "    print(err)"
   ]
  },
  {
   "cell_type": "code",
   "execution_count": 27,
   "id": "46174a12",
   "metadata": {},
   "outputs": [
    {
     "name": "stdout",
     "output_type": "stream",
     "text": [
      "enter a first number10\n",
      "enter a second number0\n",
      "denominator as zero\n",
      "float division by zero\n"
     ]
    }
   ],
   "source": [
    "try:\n",
    "    a = float(input(\"enter a first number\"))\n",
    "    b = float(input(\"enter a second number\"))\n",
    "    print(a/b)\n",
    "except ArithmeticError as err:\n",
    "    print(\"denominator as zero\")\n",
    "    print(err)"
   ]
  },
  {
   "cell_type": "code",
   "execution_count": 28,
   "id": "ed485ae3",
   "metadata": {},
   "outputs": [
    {
     "name": "stdout",
     "output_type": "stream",
     "text": [
      "enter a first number18b\n",
      "value error\n",
      "could not convert string to float: '18b'\n"
     ]
    }
   ],
   "source": [
    "try:\n",
    "    a = float(input(\"enter a first number\"))\n",
    "    b = float(input(\"enter a second number\"))\n",
    "    print(a/b)\n",
    "except ZeroDivisionError as err:\n",
    "    print(\"denominator as zero\")\n",
    "    print(err)\n",
    "except ValueError as err:\n",
    "    print(\"value error\")\n",
    "    print(err)"
   ]
  },
  {
   "cell_type": "code",
   "execution_count": 29,
   "id": "9e390a0f",
   "metadata": {},
   "outputs": [
    {
     "name": "stdout",
     "output_type": "stream",
     "text": [
      "enter a first number18\n",
      "enter a second number0\n",
      "denominator as zero\n",
      "float division by zero\n"
     ]
    }
   ],
   "source": [
    "try:\n",
    "    a = float(input(\"enter a first number\"))\n",
    "    b = float(input(\"enter a second number\"))\n",
    "    print(a/b)\n",
    "except ZeroDivisionError as err:\n",
    "    print(\"denominator as zero\")\n",
    "    print(err)\n",
    "except ValueError as err:\n",
    "    print(\"value error\")\n",
    "    print(err)"
   ]
  },
  {
   "cell_type": "code",
   "execution_count": 30,
   "id": "531da2f4",
   "metadata": {},
   "outputs": [
    {
     "name": "stdout",
     "output_type": "stream",
     "text": [
      "enter a first number10\n",
      "enter a second number0\n",
      "exception\n"
     ]
    }
   ],
   "source": [
    "try:\n",
    "    a = float(input(\"enter a first number\"))\n",
    "    b = float(input(\"enter a second number\"))\n",
    "    print(a/b)\n",
    "except Exception as err:\n",
    "    print(\"exception\")\n",
    "except ZeroDivisionError as err:\n",
    "    print(\"denominator as zero\")\n",
    "    print(err)\n",
    "except ValueError as err:\n",
    "    print(\"value error\")\n",
    "    print(err)"
   ]
  },
  {
   "cell_type": "code",
   "execution_count": 31,
   "id": "513b2934",
   "metadata": {},
   "outputs": [
    {
     "name": "stdout",
     "output_type": "stream",
     "text": [
      "enter a first number10\n",
      "enter a second number0\n",
      "denominator as zero\n",
      "float division by zero\n"
     ]
    }
   ],
   "source": [
    "try:\n",
    "    a = float(input(\"enter a first number\"))\n",
    "    b = float(input(\"enter a second number\"))\n",
    "    print(a/b)\n",
    "except ZeroDivisionError as err:\n",
    "    print(\"denominator as zero\")\n",
    "    print(err)\n",
    "except ValueError as err:\n",
    "    print(\"value error\")\n",
    "    print(err)\n",
    "except Exception as err:\n",
    "    print(\"exception\")"
   ]
  },
  {
   "cell_type": "code",
   "execution_count": 32,
   "id": "884133f9",
   "metadata": {},
   "outputs": [
    {
     "name": "stdout",
     "output_type": "stream",
     "text": [
      "enter a first number18b\n",
      "value error\n",
      "could not convert string to float: '18b'\n"
     ]
    }
   ],
   "source": [
    "try:\n",
    "    a = float(input(\"enter a first number\"))\n",
    "    b = float(input(\"enter a second number\"))\n",
    "    print(a/b)\n",
    "except ZeroDivisionError as err:\n",
    "    print(\"denominator as zero\")\n",
    "    print(err)\n",
    "except ValueError as err:\n",
    "    print(\"value error\")\n",
    "    print(err)\n",
    "except Exception as err:\n",
    "    print(\"exception\")"
   ]
  },
  {
   "cell_type": "code",
   "execution_count": 33,
   "id": "d02d7788",
   "metadata": {},
   "outputs": [
    {
     "name": "stdout",
     "output_type": "stream",
     "text": [
      "enter a first number10\n",
      "enter a second number5\n",
      "2.0\n",
      "exception\n"
     ]
    }
   ],
   "source": [
    "try:\n",
    "    a = float(input(\"enter a first number\"))\n",
    "    b = float(input(\"enter a second number\"))\n",
    "    print(a/b)\n",
    "    print(c)\n",
    "except ZeroDivisionError as err:\n",
    "    print(\"denominator as zero\")\n",
    "    print(err)\n",
    "except ValueError as err:\n",
    "    print(\"value error\")\n",
    "    print(err)\n",
    "except Exception as err:\n",
    "    print(\"exception\")"
   ]
  },
  {
   "cell_type": "code",
   "execution_count": 34,
   "id": "04aec421",
   "metadata": {},
   "outputs": [
    {
     "name": "stdout",
     "output_type": "stream",
     "text": [
      "enter a first number10\n",
      "enter a second number5\n",
      "2.0\n"
     ]
    },
    {
     "ename": "NameError",
     "evalue": "name 'c' is not defined",
     "output_type": "error",
     "traceback": [
      "\u001b[1;31m---------------------------------------------------------------------------\u001b[0m",
      "\u001b[1;31mNameError\u001b[0m                                 Traceback (most recent call last)",
      "Input \u001b[1;32mIn [34]\u001b[0m, in \u001b[0;36m<cell line: 1>\u001b[1;34m()\u001b[0m\n\u001b[0;32m      3\u001b[0m     b \u001b[38;5;241m=\u001b[39m \u001b[38;5;28mfloat\u001b[39m(\u001b[38;5;28minput\u001b[39m(\u001b[38;5;124m\"\u001b[39m\u001b[38;5;124menter a second number\u001b[39m\u001b[38;5;124m\"\u001b[39m))\n\u001b[0;32m      4\u001b[0m     \u001b[38;5;28mprint\u001b[39m(a\u001b[38;5;241m/\u001b[39mb)\n\u001b[1;32m----> 5\u001b[0m     \u001b[38;5;28mprint\u001b[39m(\u001b[43mc\u001b[49m)\n\u001b[0;32m      6\u001b[0m \u001b[38;5;28;01mexcept\u001b[39;00m \u001b[38;5;167;01mZeroDivisionError\u001b[39;00m \u001b[38;5;28;01mas\u001b[39;00m err:\n\u001b[0;32m      7\u001b[0m     \u001b[38;5;28mprint\u001b[39m(\u001b[38;5;124m\"\u001b[39m\u001b[38;5;124mdenominator as zero\u001b[39m\u001b[38;5;124m\"\u001b[39m)\n",
      "\u001b[1;31mNameError\u001b[0m: name 'c' is not defined"
     ]
    }
   ],
   "source": [
    "try:\n",
    "    a = float(input(\"enter a first number\"))\n",
    "    b = float(input(\"enter a second number\"))\n",
    "    print(a/b)\n",
    "    print(c)\n",
    "except ZeroDivisionError as err:\n",
    "    print(\"denominator as zero\")\n",
    "    print(err)\n",
    "except ValueError as err:\n",
    "    print(\"value error\")\n",
    "    print(err)"
   ]
  },
  {
   "cell_type": "code",
   "execution_count": 35,
   "id": "c06916eb",
   "metadata": {},
   "outputs": [
    {
     "name": "stdout",
     "output_type": "stream",
     "text": [
      "enter a first number18\n",
      "enter a second number0\n",
      "Some issue with denom please enter second number again2\n",
      "9.0\n"
     ]
    }
   ],
   "source": [
    "try:\n",
    "    a = float(input(\"enter a first number\"))\n",
    "    b = float(input(\"enter a second number\"))\n",
    "    print(a/b)\n",
    "except ZeroDivisionError as err:\n",
    "    b = float(input(\"Some issue with denom please enter second number again\"))\n",
    "    print(a/b)\n",
    "except ValueError as err:\n",
    "    a = float(input(\"some characters in entered numer please enter first number again \"))\n",
    "    b = float(input(\"some characters in entered numer please enter second number again\"))\n",
    "    print(a/b)"
   ]
  },
  {
   "cell_type": "code",
   "execution_count": 36,
   "id": "66673f60",
   "metadata": {},
   "outputs": [
    {
     "name": "stdout",
     "output_type": "stream",
     "text": [
      "enter a first number11a\n",
      "some characters in entered numer please enter first number again 18\n",
      "some characters in entered numer please enter second number again9\n",
      "2.0\n"
     ]
    }
   ],
   "source": [
    "try:\n",
    "    a = float(input(\"enter a first number\"))\n",
    "    b = float(input(\"enter a second number\"))\n",
    "    print(a/b)\n",
    "except ZeroDivisionError as err:\n",
    "    b = float(input(\"Some issue with denom please enter second number again\"))\n",
    "    print(a/b)\n",
    "except ValueError as err:\n",
    "    a = float(input(\"some characters in entered numer please enter first number again \"))\n",
    "    b = float(input(\"some characters in entered numer please enter second number again\"))\n",
    "    print(a/b)"
   ]
  },
  {
   "cell_type": "code",
   "execution_count": 38,
   "id": "a8438b6e",
   "metadata": {},
   "outputs": [
    {
     "name": "stdout",
     "output_type": "stream",
     "text": [
      "enter a first number18\n",
      "enter a second number0\n",
      "Some issue with denom please enter second number again2\n",
      "9.0\n"
     ]
    }
   ],
   "source": [
    "try:\n",
    "    a = float(input(\"enter a first number\"))\n",
    "    b = float(input(\"enter a second number\"))\n",
    "    print(a/b)\n",
    "except ZeroDivisionError as err:\n",
    "    b = float(input(\"Some issue with denom please enter second number again\"))\n",
    "except ValueError as err:\n",
    "    a = float(input(\"some characters in entered numer please enter first number again \"))\n",
    "    b = float(input(\"some characters in entered numer please enter second number again\"))\n",
    "finally:\n",
    "    print(a/b)"
   ]
  },
  {
   "cell_type": "code",
   "execution_count": 39,
   "id": "31d4113e",
   "metadata": {},
   "outputs": [
    {
     "name": "stdout",
     "output_type": "stream",
     "text": [
      "enter a first number18\n",
      "enter a second number3\n",
      "6.0\n",
      "6.0\n"
     ]
    }
   ],
   "source": [
    "try:\n",
    "    a = float(input(\"enter a first number\"))\n",
    "    b = float(input(\"enter a second number\"))\n",
    "    print(a/b)\n",
    "except ZeroDivisionError as err:\n",
    "    b = float(input(\"Some issue with denom please enter second number again\"))\n",
    "except ValueError as err:\n",
    "    a = float(input(\"some characters in entered numer please enter first number again \"))\n",
    "    b = float(input(\"some characters in entered numer please enter second number again\"))\n",
    "finally:\n",
    "    print(a/b)"
   ]
  },
  {
   "cell_type": "code",
   "execution_count": 40,
   "id": "3488d2a5",
   "metadata": {},
   "outputs": [
    {
     "name": "stdout",
     "output_type": "stream",
     "text": [
      "enter a first number18\n",
      "enter a second number0\n",
      "Hello error\n",
      "Some issue with denom please enter second number again3\n",
      "6.0\n"
     ]
    }
   ],
   "source": [
    "try:\n",
    "    a = float(input(\"enter a first number\"))\n",
    "    b = float(input(\"enter a second number\"))\n",
    "    if b == 0.0:\n",
    "        raise ZeroDivisionError(\"Hello error\")\n",
    "except ZeroDivisionError as err:\n",
    "    print(err)\n",
    "    b = float(input(\"Some issue with denom please enter second number again\"))\n",
    "except ValueError as err:\n",
    "    a = float(input(\"some characters in entered numer please enter first number again \"))\n",
    "    b = float(input(\"some characters in entered numer please enter second number again\"))\n",
    "finally:\n",
    "    print(a/b)"
   ]
  },
  {
   "cell_type": "code",
   "execution_count": 41,
   "id": "2bbbb51c",
   "metadata": {},
   "outputs": [
    {
     "name": "stdout",
     "output_type": "stream",
     "text": [
      "division by zero\n"
     ]
    }
   ],
   "source": [
    "try:\n",
    "    f = open(\"except.txt\", \"r\")\n",
    "    data = f.read()\n",
    "    print(5/int(data))\n",
    "    f.close()\n",
    "except ZeroDivisionError as err:\n",
    "    print(err)"
   ]
  },
  {
   "cell_type": "code",
   "execution_count": 42,
   "id": "45a0a36d",
   "metadata": {},
   "outputs": [
    {
     "name": "stdout",
     "output_type": "stream",
     "text": [
      "False\n"
     ]
    }
   ],
   "source": [
    "print(f.closed)"
   ]
  },
  {
   "cell_type": "code",
   "execution_count": 43,
   "id": "b45eacd3",
   "metadata": {},
   "outputs": [
    {
     "name": "stdout",
     "output_type": "stream",
     "text": [
      "division by zero\n"
     ]
    }
   ],
   "source": [
    "try:\n",
    "    f = open(\"except.txt\", \"r\")\n",
    "    data = f.read()\n",
    "    print(5/int(data))\n",
    "except ZeroDivisionError as err:\n",
    "    print(err)\n",
    "    f.close()"
   ]
  },
  {
   "cell_type": "code",
   "execution_count": 44,
   "id": "2fc73273",
   "metadata": {},
   "outputs": [
    {
     "name": "stdout",
     "output_type": "stream",
     "text": [
      "True\n"
     ]
    }
   ],
   "source": [
    "print(f.closed)"
   ]
  },
  {
   "cell_type": "code",
   "execution_count": 45,
   "id": "789e2e1f",
   "metadata": {},
   "outputs": [
    {
     "name": "stdout",
     "output_type": "stream",
     "text": [
      "1.0\n"
     ]
    }
   ],
   "source": [
    "try:\n",
    "    f = open(\"except.txt\", \"r\")\n",
    "    data = f.read()\n",
    "    print(5/int(data))\n",
    "except ZeroDivisionError as err:\n",
    "    print(err)\n",
    "    f.close()"
   ]
  },
  {
   "cell_type": "code",
   "execution_count": 46,
   "id": "a5a39f71",
   "metadata": {},
   "outputs": [
    {
     "name": "stdout",
     "output_type": "stream",
     "text": [
      "False\n"
     ]
    }
   ],
   "source": [
    "print(f.closed)"
   ]
  },
  {
   "cell_type": "code",
   "execution_count": 47,
   "id": "c403b427",
   "metadata": {},
   "outputs": [
    {
     "name": "stdout",
     "output_type": "stream",
     "text": [
      "1.0\n"
     ]
    }
   ],
   "source": [
    "try:\n",
    "    f = open(\"except.txt\", \"r\")\n",
    "    data = f.read()\n",
    "    print(5/int(data))\n",
    "except ZeroDivisionError as err:\n",
    "    print(err)\n",
    "finally:\n",
    "    f.close()"
   ]
  },
  {
   "cell_type": "code",
   "execution_count": 48,
   "id": "04e8c630",
   "metadata": {},
   "outputs": [
    {
     "name": "stdout",
     "output_type": "stream",
     "text": [
      "True\n"
     ]
    }
   ],
   "source": [
    "print(f.closed)"
   ]
  },
  {
   "cell_type": "code",
   "execution_count": 49,
   "id": "1155de75",
   "metadata": {},
   "outputs": [
    {
     "name": "stdout",
     "output_type": "stream",
     "text": [
      "1.0\n"
     ]
    }
   ],
   "source": [
    "try:\n",
    "    f = open(\"except.txt\", \"r\")\n",
    "    data = f.read()\n",
    "    print(5/int(data))\n",
    "except ZeroDivisionError as err:\n",
    "    print(err)\n",
    "f.close()"
   ]
  },
  {
   "cell_type": "code",
   "execution_count": 50,
   "id": "ec17ee97",
   "metadata": {},
   "outputs": [
    {
     "name": "stdout",
     "output_type": "stream",
     "text": [
      "10\n"
     ]
    }
   ],
   "source": [
    "def myfun():\n",
    "    try: \n",
    "        return 10\n",
    "    except:\n",
    "        return 20\n",
    "    return 30\n",
    "val = myfun()\n",
    "print(val)"
   ]
  },
  {
   "cell_type": "code",
   "execution_count": 51,
   "id": "b9dfa501",
   "metadata": {},
   "outputs": [
    {
     "name": "stdout",
     "output_type": "stream",
     "text": [
      "20\n"
     ]
    }
   ],
   "source": [
    "def myfun():\n",
    "    try: \n",
    "        5/0\n",
    "        return 10\n",
    "    except:\n",
    "        return 20\n",
    "    return 30\n",
    "val = myfun()\n",
    "print(val)"
   ]
  },
  {
   "cell_type": "code",
   "execution_count": 52,
   "id": "cdd285c8",
   "metadata": {},
   "outputs": [
    {
     "name": "stdout",
     "output_type": "stream",
     "text": [
      "30\n"
     ]
    }
   ],
   "source": [
    "def myfun():\n",
    "    try: \n",
    "        5/0\n",
    "        return 10\n",
    "    except:\n",
    "        return 20\n",
    "    finally:\n",
    "        return 30\n",
    "val = myfun()\n",
    "print(val)"
   ]
  },
  {
   "cell_type": "code",
   "execution_count": 53,
   "id": "67eb557e",
   "metadata": {},
   "outputs": [
    {
     "name": "stdout",
     "output_type": "stream",
     "text": [
      "30\n"
     ]
    }
   ],
   "source": [
    "def myfun():\n",
    "    try: \n",
    "        return 10\n",
    "    except:\n",
    "        return 20\n",
    "    finally:\n",
    "        return 30\n",
    "val = myfun()\n",
    "print(val)"
   ]
  },
  {
   "cell_type": "code",
   "execution_count": 54,
   "id": "946b7c93",
   "metadata": {},
   "outputs": [],
   "source": [
    "class ValueException(Exception):\n",
    "    pass \n",
    "\n"
   ]
  },
  {
   "cell_type": "code",
   "execution_count": 55,
   "id": "a9c126ac",
   "metadata": {},
   "outputs": [
    {
     "ename": "ValueException",
     "evalue": "hello VNS",
     "output_type": "error",
     "traceback": [
      "\u001b[1;31m---------------------------------------------------------------------------\u001b[0m",
      "\u001b[1;31mValueException\u001b[0m                            Traceback (most recent call last)",
      "Input \u001b[1;32mIn [55]\u001b[0m, in \u001b[0;36m<cell line: 1>\u001b[1;34m()\u001b[0m\n\u001b[1;32m----> 1\u001b[0m \u001b[38;5;28;01mraise\u001b[39;00m ValueException(\u001b[38;5;124m\"\u001b[39m\u001b[38;5;124mhello VNS\u001b[39m\u001b[38;5;124m\"\u001b[39m)\n",
      "\u001b[1;31mValueException\u001b[0m: hello VNS"
     ]
    }
   ],
   "source": [
    "raise ValueException(\"hello VNS\")"
   ]
  },
  {
   "cell_type": "code",
   "execution_count": 57,
   "id": "11679e87",
   "metadata": {},
   "outputs": [
    {
     "name": "stdout",
     "output_type": "stream",
     "text": [
      "TRY VNS\n",
      "in except\n",
      "hello VNS\n"
     ]
    }
   ],
   "source": [
    "try:\n",
    "    print(\"TRY VNS\")\n",
    "    raise ValueException(\"hello VNS\")\n",
    "except ValueException as err:\n",
    "    print(\"in except\")\n",
    "    print(err)"
   ]
  },
  {
   "cell_type": "code",
   "execution_count": 60,
   "id": "5a4778aa",
   "metadata": {},
   "outputs": [
    {
     "name": "stdout",
     "output_type": "stream",
     "text": [
      "enter username py\n",
      "login success\n"
     ]
    }
   ],
   "source": [
    "class MyExceptions(Exception):\n",
    "    pass\n",
    "class InvalidUsername(MyExceptions):\n",
    "    def __init__(self, msg):\n",
    "        super().__init__(msg)\n",
    "        self.msg =  msg\n",
    "username = input(\"enter username \")\n",
    "try:\n",
    "    if username == \"python\":\n",
    "        raise InvalidUsername(\"invalid credentials\")\n",
    "    print(\"login success\")\n",
    "except InvalidUsername as e:\n",
    "    print(e)"
   ]
  },
  {
   "cell_type": "code",
   "execution_count": 61,
   "id": "9a8b31d3",
   "metadata": {},
   "outputs": [
    {
     "name": "stdout",
     "output_type": "stream",
     "text": [
      "enter username python\n",
      "invalid credentials\n"
     ]
    }
   ],
   "source": [
    "class MyExceptions(Exception):\n",
    "    pass\n",
    "class InvalidUsername(MyExceptions):\n",
    "    def __init__(self, msg):\n",
    "        super().__init__(msg)\n",
    "        self.msg =  msg\n",
    "username = input(\"enter username \")\n",
    "try:\n",
    "    if username == \"python\":\n",
    "        raise InvalidUsername(\"invalid credentials\")\n",
    "    print(\"login success\")\n",
    "except InvalidUsername as e:\n",
    "    print(e)"
   ]
  },
  {
   "cell_type": "code",
   "execution_count": null,
   "id": "450b1eb1",
   "metadata": {},
   "outputs": [],
   "source": []
  }
 ],
 "metadata": {
  "kernelspec": {
   "display_name": "Python 3 (ipykernel)",
   "language": "python",
   "name": "python3"
  },
  "language_info": {
   "codemirror_mode": {
    "name": "ipython",
    "version": 3
   },
   "file_extension": ".py",
   "mimetype": "text/x-python",
   "name": "python",
   "nbconvert_exporter": "python",
   "pygments_lexer": "ipython3",
   "version": "3.10.8"
  }
 },
 "nbformat": 4,
 "nbformat_minor": 5
}
