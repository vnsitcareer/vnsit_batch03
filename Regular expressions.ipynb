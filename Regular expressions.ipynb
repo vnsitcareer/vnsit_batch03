{
 "cells": [
  {
   "cell_type": "code",
   "execution_count": 3,
   "id": "2b3796ba",
   "metadata": {},
   "outputs": [
    {
     "name": "stdout",
     "output_type": "stream",
     "text": [
      "['This', 'is', 'NageswaraRao.', 'My', 'mobile', 'number', 'is', '+91-9381252014.', 'My', 'alternative', 'role', 'is', '+91-9381ac2520.', 'My', 'fax', 'is', '+91-928374.']\n"
     ]
    }
   ],
   "source": [
    "s = \"This is NageswaraRao. My mobile number is +91-9381252014. My alternative role is +91-9381ac2520. My fax is +91-928374.\"\n",
    "data = s.split()\n",
    "print(data)"
   ]
  },
  {
   "cell_type": "code",
   "execution_count": 4,
   "id": "312a064b",
   "metadata": {},
   "outputs": [
    {
     "name": "stdout",
     "output_type": "stream",
     "text": [
      "+91-9381252014.\n",
      "+91-9381ac2520.\n",
      "+91-928374.\n"
     ]
    }
   ],
   "source": [
    "for x in data:\n",
    "    if \"+91\" in x:\n",
    "        print(x)"
   ]
  },
  {
   "cell_type": "code",
   "execution_count": 6,
   "id": "6a0664f2",
   "metadata": {},
   "outputs": [
    {
     "name": "stdout",
     "output_type": "stream",
     "text": [
      "+91-9381252014.\n"
     ]
    }
   ],
   "source": [
    "for x in data:\n",
    "    if x.startswith(\"+91\") and x[4:4+10].isnumeric():\n",
    "        print(x)"
   ]
  },
  {
   "cell_type": "code",
   "execution_count": 5,
   "id": "2747f578",
   "metadata": {},
   "outputs": [
    {
     "name": "stdout",
     "output_type": "stream",
     "text": [
      "['__add__', '__class__', '__contains__', '__delattr__', '__dir__', '__doc__', '__eq__', '__format__', '__ge__', '__getattribute__', '__getitem__', '__getnewargs__', '__gt__', '__hash__', '__init__', '__init_subclass__', '__iter__', '__le__', '__len__', '__lt__', '__mod__', '__mul__', '__ne__', '__new__', '__reduce__', '__reduce_ex__', '__repr__', '__rmod__', '__rmul__', '__setattr__', '__sizeof__', '__str__', '__subclasshook__', 'capitalize', 'casefold', 'center', 'count', 'encode', 'endswith', 'expandtabs', 'find', 'format', 'format_map', 'index', 'isalnum', 'isalpha', 'isascii', 'isdecimal', 'isdigit', 'isidentifier', 'islower', 'isnumeric', 'isprintable', 'isspace', 'istitle', 'isupper', 'join', 'ljust', 'lower', 'lstrip', 'maketrans', 'partition', 'removeprefix', 'removesuffix', 'replace', 'rfind', 'rindex', 'rjust', 'rpartition', 'rsplit', 'rstrip', 'split', 'splitlines', 'startswith', 'strip', 'swapcase', 'title', 'translate', 'upper', 'zfill']\n"
     ]
    }
   ],
   "source": [
    "print(dir(s))"
   ]
  },
  {
   "cell_type": "code",
   "execution_count": 7,
   "id": "ca934801",
   "metadata": {},
   "outputs": [
    {
     "name": "stdout",
     "output_type": "stream",
     "text": [
      "+91-9381252014\n"
     ]
    }
   ],
   "source": [
    "for x in data:\n",
    "    if x.startswith(\"+91\") and x[4:4+10].isnumeric():\n",
    "        print(x[:-1])"
   ]
  },
  {
   "cell_type": "code",
   "execution_count": 9,
   "id": "b1227746",
   "metadata": {},
   "outputs": [
    {
     "name": "stdout",
     "output_type": "stream",
     "text": [
      "+91-9381252014\n"
     ]
    }
   ],
   "source": [
    "import re\n",
    "res = re.search(r\"\\+91-\\d\\d\\d\\d\\d\\d\\d\\d\\d\\d\", s)\n",
    "print(res.group())"
   ]
  },
  {
   "cell_type": "code",
   "execution_count": 12,
   "id": "4f74a787",
   "metadata": {},
   "outputs": [],
   "source": [
    "s1 = \"10@20$30_40\"\n",
    "res = re.split(r\"[^0-9a-zA-Z]\", s1)"
   ]
  },
  {
   "cell_type": "code",
   "execution_count": 13,
   "id": "2759d673",
   "metadata": {},
   "outputs": [
    {
     "name": "stdout",
     "output_type": "stream",
     "text": [
      "['10', '20', '30', '40']\n"
     ]
    }
   ],
   "source": [
    "print(res)"
   ]
  },
  {
   "cell_type": "code",
   "execution_count": 14,
   "id": "219a769d",
   "metadata": {},
   "outputs": [],
   "source": [
    "s1 = \"10@20$30_40\"\n",
    "res = re.split(r\"[@$_]\", s1)"
   ]
  },
  {
   "cell_type": "code",
   "execution_count": 15,
   "id": "0175d88d",
   "metadata": {},
   "outputs": [
    {
     "name": "stdout",
     "output_type": "stream",
     "text": [
      "['10', '20', '30', '40']\n"
     ]
    }
   ],
   "source": [
    "print(res)"
   ]
  },
  {
   "cell_type": "code",
   "execution_count": 16,
   "id": "c7693cf5",
   "metadata": {},
   "outputs": [
    {
     "name": "stdout",
     "output_type": "stream",
     "text": [
      "+91-9381252014\n"
     ]
    }
   ],
   "source": [
    "import re\n",
    "res = re.search(r\"\\+91-\\d{10}\", s)\n",
    "print(res.group())"
   ]
  },
  {
   "cell_type": "code",
   "execution_count": 17,
   "id": "6af50444",
   "metadata": {},
   "outputs": [
    {
     "name": "stdout",
     "output_type": "stream",
     "text": [
      "+91-9381252014\n"
     ]
    }
   ],
   "source": [
    "import re\n",
    "res = re.search(r\"\\+91-\\d{6,10}\", s)\n",
    "print(res.group())"
   ]
  },
  {
   "cell_type": "code",
   "execution_count": 19,
   "id": "17f118d9",
   "metadata": {},
   "outputs": [
    {
     "name": "stdout",
     "output_type": "stream",
     "text": [
      "['+91-9381252014', '+91-928374']\n"
     ]
    }
   ],
   "source": [
    "import re\n",
    "res = re.findall(r\"\\+91-\\d{6,10}\", s)\n",
    "print(res)"
   ]
  },
  {
   "cell_type": "code",
   "execution_count": 18,
   "id": "3bed2714",
   "metadata": {},
   "outputs": [
    {
     "name": "stdout",
     "output_type": "stream",
     "text": [
      "['A', 'ASCII', 'DEBUG', 'DOTALL', 'I', 'IGNORECASE', 'L', 'LOCALE', 'M', 'MULTILINE', 'Match', 'Pattern', 'RegexFlag', 'S', 'Scanner', 'T', 'TEMPLATE', 'U', 'UNICODE', 'VERBOSE', 'X', '_MAXCACHE', '__all__', '__builtins__', '__cached__', '__doc__', '__file__', '__loader__', '__name__', '__package__', '__spec__', '__version__', '_cache', '_compile', '_compile_repl', '_expand', '_locale', '_pickle', '_special_chars_map', '_subx', 'compile', 'copyreg', 'enum', 'error', 'escape', 'findall', 'finditer', 'fullmatch', 'functools', 'match', 'purge', 'search', 'split', 'sre_compile', 'sre_parse', 'sub', 'subn', 'template']\n"
     ]
    }
   ],
   "source": [
    "print(dir(re))"
   ]
  },
  {
   "cell_type": "code",
   "execution_count": 21,
   "id": "e2d7a29f",
   "metadata": {},
   "outputs": [
    {
     "name": "stdout",
     "output_type": "stream",
     "text": [
      "+91-9381252014\n",
      "9381252014\n"
     ]
    }
   ],
   "source": [
    "import re\n",
    "res = re.search(r\"\\+91-(\\d{6,10})\", s)\n",
    "print(res.group())\n",
    "print(res.group(1))"
   ]
  },
  {
   "cell_type": "code",
   "execution_count": 22,
   "id": "39add85c",
   "metadata": {},
   "outputs": [
    {
     "name": "stdout",
     "output_type": "stream",
     "text": [
      "+91-9381252014\n",
      "+91\n",
      "9381252014\n"
     ]
    }
   ],
   "source": [
    "import re\n",
    "res = re.search(r\"(\\+91)-(\\d{6,10})\", s)\n",
    "print(res.group())\n",
    "print(res.group(1))\n",
    "print(res.group(2))"
   ]
  },
  {
   "cell_type": "code",
   "execution_count": 23,
   "id": "d62713f2",
   "metadata": {},
   "outputs": [
    {
     "name": "stdout",
     "output_type": "stream",
     "text": [
      "+91-9381252014\n",
      "+91\n",
      "9381252014\n"
     ]
    }
   ],
   "source": [
    "s = \"This is NageswaraRao. My mobile number is +91-9381252014123. My alternative role is +91-9381ac2520. My fax is +91-928374.\"\n",
    "res = re.search(r\"(\\+91)-(\\d{6,10})\", s)\n",
    "print(res.group())\n",
    "print(res.group(1))\n",
    "print(res.group(2))"
   ]
  },
  {
   "cell_type": "code",
   "execution_count": 25,
   "id": "537b9258",
   "metadata": {},
   "outputs": [
    {
     "name": "stdout",
     "output_type": "stream",
     "text": [
      "[('+91', '928374')]\n",
      "[('+91', '9381252014'), ('+91', '928374')]\n"
     ]
    }
   ],
   "source": [
    "s = \"This is NageswaraRao. My mobile number is +91-9381252014123. My alternative role is +91-9381ac2520. My fax is +91-928374.\"\n",
    "s1 = \"This is NageswaraRao. My mobile number is +91-9381252014. My alternative role is +91-9381ac2520. My fax is +91-928374.\"\n",
    "res = re.findall(r\"(\\+91)-(\\d{6,10})\\.\", s)\n",
    "print(res)\n",
    "res = re.findall(r\"(\\+91)-(\\d{6,10})\\.\", s1)\n",
    "print(res)"
   ]
  },
  {
   "cell_type": "code",
   "execution_count": 26,
   "id": "e754820c",
   "metadata": {},
   "outputs": [
    {
     "name": "stdout",
     "output_type": "stream",
     "text": [
      "[('+91', '9381252014')]\n"
     ]
    }
   ],
   "source": [
    "#s = \"This is NageswaraRao. My mobile number is +91-9381252014123. My alternative role is +91-9381ac2520. My fax is +91-928374.\"\n",
    "s1 = \"This is NageswaraRao. My mobile number is +91-9381252014. My alternative role is +91-9381ac2520. My fax is +91-928374.\"\n",
    "#res = re.findall(r\"(\\+91)-(\\d{6,10})\\.\", s)\n",
    "#print(res)\n",
    "res = re.findall(r\"(\\+91)-([6789]\\d{9})\\.\", s1)\n",
    "print(res)"
   ]
  },
  {
   "cell_type": "code",
   "execution_count": 27,
   "id": "42113c8e",
   "metadata": {},
   "outputs": [
    {
     "name": "stdout",
     "output_type": "stream",
     "text": [
      "[('+91', '9381252014')]\n"
     ]
    }
   ],
   "source": [
    "#s = \"This is NageswaraRao. My mobile number is +91-9381252014123. My alternative role is +91-9381ac2520. My fax is +91-928374.\"\n",
    "s1 = \"This is NageswaraRao. My mobile number is +91-9381252014. My alternative role is +91-9381ac2520. My fax is +91-928374.\"\n",
    "#res = re.findall(r\"(\\+91)-(\\d{6,10})\\.\", s)\n",
    "#print(res)\n",
    "res = re.findall(r\"(\\+91)-([6-9]\\d{9})\\.\", s1)\n",
    "print(res)"
   ]
  },
  {
   "cell_type": "code",
   "execution_count": 28,
   "id": "40d5c06f",
   "metadata": {},
   "outputs": [
    {
     "name": "stdout",
     "output_type": "stream",
     "text": [
      "[('+91', '9381252014')]\n"
     ]
    }
   ],
   "source": [
    "#s = \"This is NageswaraRao. My mobile number is +91-9381252014123. My alternative role is +91-9381ac2520. My fax is +91-928374.\"\n",
    "s1 = \"This is NageswaraRao. My mobile number is +91-9381252014. My alternative role is +91-9381ac2520. My fax is +91-928374.\"\n",
    "#res = re.findall(r\"(\\+91)-(\\d{6,10})\\.\", s)\n",
    "#print(res)\n",
    "res = re.findall(r\"(\\+91)-([^0-5]\\d{9})\\.\", s1)\n",
    "print(res)"
   ]
  },
  {
   "cell_type": "code",
   "execution_count": 29,
   "id": "09abc8d4",
   "metadata": {},
   "outputs": [
    {
     "name": "stdout",
     "output_type": "stream",
     "text": [
      "['i', 'i', 'a', 'e', 'a', 'a', 'a', 'o', 'o', 'i', 'e', 'u', 'e', 'i', 'a', 'e', 'a', 'i', 'e', 'o', 'e', 'i', 'a', 'a', 'i']\n"
     ]
    }
   ],
   "source": [
    "s1 = \"This is NageswaraRao. My mobile number is +91-9381252014. My alternative role is +91-9381ac2520. My fax is +91-928374.\"\n",
    "res = re.findall(r\"[aeiouAEIOU]\", s1)\n",
    "print(res)"
   ]
  },
  {
   "cell_type": "code",
   "execution_count": 30,
   "id": "63ccdde6",
   "metadata": {},
   "outputs": [
    {
     "name": "stdout",
     "output_type": "stream",
     "text": [
      "['T', 'h', 's', ' ', 's', ' ', 'N', 'g', 's', 'w', 'r', 'R', '.', ' ', 'M', 'y', ' ', 'm', 'b', 'l', ' ', 'n', 'm', 'b', 'r', ' ', 's', ' ', '+', '9', '1', '-', '9', '3', '8', '1', '2', '5', '2', '0', '1', '4', '.', ' ', 'M', 'y', ' ', 'l', 't', 'r', 'n', 't', 'v', ' ', 'r', 'l', ' ', 's', ' ', '+', '9', '1', '-', '9', '3', '8', '1', 'c', '2', '5', '2', '0', '.', ' ', 'M', 'y', ' ', 'f', 'x', ' ', 's', ' ', '+', '9', '1', '-', '9', '2', '8', '3', '7', '4', '.']\n"
     ]
    }
   ],
   "source": [
    "s1 = \"This is NageswaraRao. My mobile number is +91-9381252014. My alternative role is +91-9381ac2520. My fax is +91-928374.\"\n",
    "res = re.findall(r\"[^aeiouAEIOU]\", s1)\n",
    "print(res)"
   ]
  },
  {
   "cell_type": "code",
   "execution_count": 31,
   "id": "84c503b2",
   "metadata": {},
   "outputs": [
    {
     "name": "stdout",
     "output_type": "stream",
     "text": [
      "['T', 'h', 's', 's', 'N', 'g', 's', 'w', 'r', 'R', '.', 'M', 'y', 'm', 'b', 'l', 'n', 'm', 'b', 'r', 's', '+', '9', '1', '9', '3', '8', '1', '2', '5', '2', '0', '1', '4', '.', 'M', 'y', 'l', 't', 'r', 'n', 't', 'v', 'r', 'l', 's', '+', '9', '1', '9', '3', '8', '1', 'c', '2', '5', '2', '0', '.', 'M', 'y', 'f', 'x', 's', '+', '9', '1', '9', '2', '8', '3', '7', '4', '.']\n"
     ]
    }
   ],
   "source": [
    "s1 = \"This is NageswaraRao. My mobile number is +91-9381252014. My alternative role is +91-9381ac2520. My fax is +91-928374.\"\n",
    "res = re.findall(r\"[^aeiouAEIOU\\s\\-]\", s1)\n",
    "print(res)"
   ]
  },
  {
   "cell_type": "code",
   "execution_count": 33,
   "id": "5585fb3f",
   "metadata": {},
   "outputs": [
    {
     "name": "stdout",
     "output_type": "stream",
     "text": [
      "['T', 'h', 's', 's', 'N', 'g', 's', 'w', 'r', 'R', '.', 'M', 'y', 'm', 'b', 'l', 'n', 'm', 'b', 'r', 's', '+', '9', '1', '9', '3', '8', '1', '2', '5', '2', '0', '1', '4', '.', 'M', 'y', 'l', 'r', 'n', 'v', 'r', 'l', 's', '+', '9', '1', '9', '3', '8', '1', 'c', '2', '5', '2', '0', '.', 'M', 'y', 'f', 'x', 's', '+', '9', '1', '9', '2', '8', '3', '7', '4', '.']\n"
     ]
    }
   ],
   "source": [
    "s1 = \"This is NageswaraRao. My mobile number is +91-9381252014. My alternative role is +91-9381ac2520. My fax is +91-928374.\"\n",
    "res = re.findall(r\"[^aeiout\\s\\-]\", s1)\n",
    "print(res)"
   ]
  },
  {
   "cell_type": "code",
   "execution_count": 34,
   "id": "d0da943f",
   "metadata": {},
   "outputs": [
    {
     "name": "stdout",
     "output_type": "stream",
     "text": [
      "['h', 's', 's', 'N', 'g', 's', 'w', 'r', 'R', '.', 'M', 'y', 'm', 'b', 'l', 'n', 'm', 'b', 'r', 's', '+', '9', '1', '9', '3', '8', '1', '2', '5', '2', '0', '1', '4', '.', 'M', 'y', 'l', 'r', 'n', 'v', 'r', 'l', 's', '+', '9', '1', '9', '3', '8', '1', 'c', '2', '5', '2', '0', '.', 'M', 'y', 'f', 'x', 's', '+', '9', '1', '9', '2', '8', '3', '7', '4', '.']\n"
     ]
    }
   ],
   "source": [
    "s1 = \"This is NageswaraRao. My mobile number is +91-9381252014. My alternative role is +91-9381ac2520. My fax is +91-928374.\"\n",
    "res = re.findall(r\"[^aeiout\\s\\-]\", s1, re.I)\n",
    "print(res)"
   ]
  },
  {
   "cell_type": "code",
   "execution_count": 35,
   "id": "18f14a61",
   "metadata": {},
   "outputs": [
    {
     "name": "stdout",
     "output_type": "stream",
     "text": [
      "['ao', 'ae']\n"
     ]
    }
   ],
   "source": [
    "s1 = \"This is NageswaraRao. My mobile number is +91-9381252014. My aelternative role is +91-9381ac2520. My fax is +91-928374.\"\n",
    "res = re.findall(r\"[aeiou][aeiou]\", s1, re.I)\n",
    "print(res)"
   ]
  },
  {
   "cell_type": "code",
   "execution_count": 36,
   "id": "55078e21",
   "metadata": {},
   "outputs": [
    {
     "name": "stdout",
     "output_type": "stream",
     "text": [
      "['ao', 'ae']\n"
     ]
    }
   ],
   "source": [
    "s1 = \"This is NageswaraRao. My mobile number is +91-9381252014. My aelternative role is +91-9381ac2520. My fax is +91-928374.\"\n",
    "res = re.findall(r\"[aeiou]{2}\", s1, re.I)\n",
    "print(res)"
   ]
  },
  {
   "cell_type": "code",
   "execution_count": 37,
   "id": "cd0dfa39",
   "metadata": {},
   "outputs": [
    {
     "name": "stdout",
     "output_type": "stream",
     "text": [
      "[('+91', '9381252014'), ('+91', '9381252015')]\n"
     ]
    }
   ],
   "source": [
    "#s = \"This is NageswaraRao. My mobile number is +91-9381252014123. My alternative role is +91-9381ac2520. My fax is +91-928374.\"\n",
    "s1 = \"This is NageswaraRao. My mobile number is +91 9381252014. My friend mobile number is  My mobile number is +91-9381252015. My alternative role is +91-9381ac2520. My fax is +91-928374.\"\n",
    "#res = re.findall(r\"(\\+91)-(\\d{6,10})\\.\", s)\n",
    "#print(res)\n",
    "res = re.findall(r\"(\\+91)[\\-\\s]([6789]\\d{9})\\.\", s1)\n",
    "print(res)"
   ]
  },
  {
   "cell_type": "code",
   "execution_count": 38,
   "id": "bff87c11",
   "metadata": {},
   "outputs": [
    {
     "name": "stdout",
     "output_type": "stream",
     "text": [
      "[('+91', '9381252014'), ('+91', '9381252015')]\n"
     ]
    }
   ],
   "source": [
    "#s = \"This is NageswaraRao. My mobile number is +91-9381252014123. My alternative role is +91-9381ac2520. My fax is +91-928374.\"\n",
    "s1 = \"This is NageswaraRao. My mobile number is +91n9381252014. My friend mobile number is  My mobile number is +91-9381252015. My alternative role is +91-9381ac2520. My fax is +91-928374.\"\n",
    "#res = re.findall(r\"(\\+91)-(\\d{6,10})\\.\", s)\n",
    "#print(res)\n",
    "res = re.findall(r\"(\\+91).([6789]\\d{9})\\.\", s1)\n",
    "print(res)"
   ]
  },
  {
   "cell_type": "code",
   "execution_count": 39,
   "id": "0d19daf3",
   "metadata": {},
   "outputs": [
    {
     "name": "stdout",
     "output_type": "stream",
     "text": [
      "[('+91', 'n', '9381252014'), ('+91', '-', '9381252015')]\n"
     ]
    }
   ],
   "source": [
    "#s = \"This is NageswaraRao. My mobile number is +91-9381252014123. My alternative role is +91-9381ac2520. My fax is +91-928374.\"\n",
    "s1 = \"This is NageswaraRao. My mobile number is +91n9381252014. My friend mobile number is  My mobile number is +91-9381252015. My alternative role is +91-9381ac2520. My fax is +91-928374.\"\n",
    "#res = re.findall(r\"(\\+91)-(\\d{6,10})\\.\", s)\n",
    "#print(res)\n",
    "res = re.findall(r\"(\\+91)(.)([6789]\\d{9})\\.\", s1)\n",
    "print(res)"
   ]
  },
  {
   "cell_type": "code",
   "execution_count": 51,
   "id": "07fff9d1",
   "metadata": {},
   "outputs": [
    {
     "name": "stdout",
     "output_type": "stream",
     "text": [
      "['10', '500', '300', '40', '1000']\n"
     ]
    }
   ],
   "source": [
    "r1 = \"10@$500_@300..40__1000\"\n",
    "print(re.split(r\"[^0-9a-z]{2}\", r1))"
   ]
  },
  {
   "cell_type": "code",
   "execution_count": 52,
   "id": "1648a5e7",
   "metadata": {},
   "outputs": [
    {
     "name": "stdout",
     "output_type": "stream",
     "text": [
      "['@$', '_@', '..', '__']\n"
     ]
    }
   ],
   "source": [
    "r1 = \"10@$500_@300..40__1000\"\n",
    "print(re.findall(r\"[^0-9a-z]{2}\", r1))"
   ]
  },
  {
   "cell_type": "code",
   "execution_count": 53,
   "id": "de81b269",
   "metadata": {},
   "outputs": [
    {
     "name": "stdout",
     "output_type": "stream",
     "text": [
      "['10', '500', '300', '40', '1000']\n"
     ]
    }
   ],
   "source": [
    "r1 = \"10@$500_@300..40__1000\"\n",
    "print(re.findall(r\"[0-9]{1,}\", r1))"
   ]
  },
  {
   "cell_type": "code",
   "execution_count": 55,
   "id": "74fe679a",
   "metadata": {},
   "outputs": [
    {
     "name": "stdout",
     "output_type": "stream",
     "text": [
      "['Th', 'Th']\n"
     ]
    }
   ],
   "source": [
    "s = \"\"\"This is NageswaraRao.\\n\n",
    "This is a python\"\"\"\n",
    "print(re.findall(r\"T.\", s))"
   ]
  },
  {
   "cell_type": "code",
   "execution_count": 57,
   "id": "3be7f6b8",
   "metadata": {},
   "outputs": [
    {
     "name": "stdout",
     "output_type": "stream",
     "text": [
      "['This is NageswaraRao.', 'This is a python']\n"
     ]
    }
   ],
   "source": [
    "s = \"\"\"This is NageswaraRao.\n",
    "This is a python\"\"\"\n",
    "print(re.findall(r\"T.*\", s))"
   ]
  },
  {
   "cell_type": "code",
   "execution_count": 58,
   "id": "a93f3c59",
   "metadata": {},
   "outputs": [
    {
     "name": "stdout",
     "output_type": "stream",
     "text": [
      "['This is NageswaraRao.\\nThis is a python']\n"
     ]
    }
   ],
   "source": [
    "s = \"\"\"This is NageswaraRao.\n",
    "This is a python\"\"\"\n",
    "print(re.findall(r\"T.*\", s, re.DOTALL))"
   ]
  },
  {
   "cell_type": "code",
   "execution_count": 59,
   "id": "e21bb654",
   "metadata": {},
   "outputs": [
    {
     "name": "stdout",
     "output_type": "stream",
     "text": [
      "['babu']\n"
     ]
    }
   ],
   "source": [
    "s = \"mahesh babuuu acted in bharat ane nenu\"\n",
    "print(re.findall('bab.', s))\n",
    "#print(re.findall('bab(u+)', s))"
   ]
  },
  {
   "cell_type": "code",
   "execution_count": 60,
   "id": "f2626660",
   "metadata": {},
   "outputs": [
    {
     "name": "stdout",
     "output_type": "stream",
     "text": [
      "['babuuu']\n"
     ]
    }
   ],
   "source": [
    "s = \"mahesh babuuu acted in bharat ane nenu\"\n",
    "print(re.findall('babu*', s))\n",
    "#print(re.findall('bab(u+)', s))"
   ]
  },
  {
   "cell_type": "code",
   "execution_count": 61,
   "id": "e295d639",
   "metadata": {},
   "outputs": [
    {
     "name": "stdout",
     "output_type": "stream",
     "text": [
      "['bab']\n"
     ]
    }
   ],
   "source": [
    "s = \"mahesh babuuu acted in bharat ane nenu\"\n",
    "print(re.findall('baba*', s))\n",
    "#print(re.findall('bab(u+)', s))"
   ]
  },
  {
   "cell_type": "code",
   "execution_count": 62,
   "id": "fb98bcc7",
   "metadata": {},
   "outputs": [
    {
     "name": "stdout",
     "output_type": "stream",
     "text": [
      "['babuuu']\n"
     ]
    }
   ],
   "source": [
    "s = \"mahesh babuuu acted in bharat ane nenu\"\n",
    "print(re.findall('babu+', s))\n",
    "#print(re.findall('bab(u+)', s))"
   ]
  },
  {
   "cell_type": "code",
   "execution_count": 63,
   "id": "b4388c70",
   "metadata": {},
   "outputs": [
    {
     "name": "stdout",
     "output_type": "stream",
     "text": [
      "[]\n"
     ]
    }
   ],
   "source": [
    "s = \"mahesh babuuu acted in bharat ane nenu\"\n",
    "print(re.findall('baba+', s))\n",
    "#print(re.findall('bab(u+)', s))"
   ]
  },
  {
   "cell_type": "code",
   "execution_count": 65,
   "id": "bb77994e",
   "metadata": {},
   "outputs": [
    {
     "name": "stdout",
     "output_type": "stream",
     "text": [
      "babu\n"
     ]
    }
   ],
   "source": [
    "s = \"mahesh babuuu acted in bharat ane nenu\"\n",
    "print(re.search('ba(bu)+', s).group())"
   ]
  },
  {
   "cell_type": "code",
   "execution_count": 66,
   "id": "3572c9e8",
   "metadata": {},
   "outputs": [
    {
     "name": "stdout",
     "output_type": "stream",
     "text": [
      "[]\n"
     ]
    }
   ],
   "source": [
    "s = \"mahesh babuuu acted in bharat ane nenu\"\n",
    "print(re.findall('ba(ba)+', s))"
   ]
  },
  {
   "cell_type": "code",
   "execution_count": 68,
   "id": "042bd17d",
   "metadata": {},
   "outputs": [
    {
     "name": "stdout",
     "output_type": "stream",
     "text": [
      "bababababa\n"
     ]
    }
   ],
   "source": [
    "s = \"mahesh bababababa acted in bharat ane nenu\"\n",
    "print(re.search('ba(ba)+', s).group())"
   ]
  },
  {
   "cell_type": "code",
   "execution_count": 69,
   "id": "926f7169",
   "metadata": {},
   "outputs": [
    {
     "name": "stdout",
     "output_type": "stream",
     "text": [
      "babu\n"
     ]
    }
   ],
   "source": [
    "s = \"mahesh babuuauaaau acted in bharat ane nenu\"\n",
    "print(re.search('bab[au]', s).group())"
   ]
  },
  {
   "cell_type": "code",
   "execution_count": 70,
   "id": "6d53d01b",
   "metadata": {},
   "outputs": [
    {
     "name": "stdout",
     "output_type": "stream",
     "text": [
      "babuuauaaau\n"
     ]
    }
   ],
   "source": [
    "s = \"mahesh babuuauaaau acted in bharat ane nenu\"\n",
    "print(re.search('bab[au]+', s).group())"
   ]
  },
  {
   "cell_type": "code",
   "execution_count": 71,
   "id": "be62ff41",
   "metadata": {},
   "outputs": [
    {
     "name": "stdout",
     "output_type": "stream",
     "text": [
      "babu\n"
     ]
    }
   ],
   "source": [
    "s = \"mahesh babuuauaaau acted in bharat ane nenu\"\n",
    "print(re.search('bab[au]+?', s).group())"
   ]
  },
  {
   "cell_type": "code",
   "execution_count": 72,
   "id": "f067d130",
   "metadata": {},
   "outputs": [
    {
     "name": "stdout",
     "output_type": "stream",
     "text": [
      "bab\n"
     ]
    }
   ],
   "source": [
    "s = \"mahesh babuuauaaau acted in bharat ane nenu\"\n",
    "print(re.search('bab[au]*?', s).group())"
   ]
  },
  {
   "cell_type": "code",
   "execution_count": 73,
   "id": "3bfa3940",
   "metadata": {},
   "outputs": [
    {
     "name": "stdout",
     "output_type": "stream",
     "text": [
      "\r\n",
      "Windows IP Configuration\r\n",
      "\r\n",
      "\r\n",
      "Ethernet adapter Ethernet:\r\n",
      "\r\n",
      "   Media State . . . . . . . . . . . : Media disconnected\r\n",
      "   Connection-specific DNS Suffix  . : \r\n",
      "\r\n",
      "Ethernet adapter VirtualBox Host-Only Network:\r\n",
      "\r\n",
      "   Connection-specific DNS Suffix  . : \r\n",
      "   Link-local IPv6 Address . . . . . : fe80::2902:a27d:665b:e1e2%11\r\n",
      "   IPv4 Address. . . . . . . . . . . : 192.168.56.1\r\n",
      "   Subnet Mask . . . . . . . . . . . : 255.255.255.0\r\n",
      "   Default Gateway . . . . . . . . . : \r\n",
      "\r\n",
      "Wireless LAN adapter Local Area Connection* 1:\r\n",
      "\r\n",
      "   Media State . . . . . . . . . . . : Media disconnected\r\n",
      "   Connection-specific DNS Suffix  . : \r\n",
      "\r\n",
      "Wireless LAN adapter Local Area Connection* 2:\r\n",
      "\r\n",
      "   Media State . . . . . . . . . . . : Media disconnected\r\n",
      "   Connection-specific DNS Suffix  . : \r\n",
      "\r\n",
      "Wireless LAN adapter Wi-Fi:\r\n",
      "\r\n",
      "   Connection-specific DNS Suffix  . : \r\n",
      "   Link-local IPv6 Address . . . . . : fe80::d8a0:9adf:8a60:ab50%9\r\n",
      "   IPv4 Address. . . . . . . . . . . : 192.168.1.109\r\n",
      "   Subnet Mask . . . . . . . . . . . : 255.255.255.0\r\n",
      "   Default Gateway . . . . . . . . . : 192.168.1.1\r\n",
      "\n"
     ]
    }
   ],
   "source": [
    "import subprocess\n",
    "res = subprocess.check_output([\"ipconfig\"]).decode('utf-8')\n",
    "print(res)"
   ]
  },
  {
   "cell_type": "code",
   "execution_count": 83,
   "id": "df2464eb",
   "metadata": {},
   "outputs": [
    {
     "name": "stdout",
     "output_type": "stream",
     "text": [
      "['192.168.56.1', '192.168.1.109']\n"
     ]
    }
   ],
   "source": [
    "print(re.findall(\"IPv4.*: ([0-9.]+)\", res))"
   ]
  },
  {
   "cell_type": "code",
   "execution_count": 84,
   "id": "4498ce6b",
   "metadata": {},
   "outputs": [
    {
     "name": "stdout",
     "output_type": "stream",
     "text": [
      "['192.168.1.1']\n"
     ]
    }
   ],
   "source": [
    "print(re.findall(\"IPv4.*: ([0-9.]+)\", res, re.DOTALL))"
   ]
  },
  {
   "cell_type": "code",
   "execution_count": 85,
   "id": "7d846c1c",
   "metadata": {},
   "outputs": [
    {
     "name": "stdout",
     "output_type": "stream",
     "text": [
      "['192.168.56.1', '192.168.1.109']\n"
     ]
    }
   ],
   "source": [
    "print(re.findall(\"IPv4.*?: ([0-9.]+)\", res, re.DOTALL))"
   ]
  },
  {
   "cell_type": "code",
   "execution_count": null,
   "id": "64ac07a6",
   "metadata": {},
   "outputs": [],
   "source": []
  }
 ],
 "metadata": {
  "kernelspec": {
   "display_name": "Python 3.10.8 64-bit (microsoft store)",
   "language": "python",
   "name": "python3"
  },
  "language_info": {
   "codemirror_mode": {
    "name": "ipython",
    "version": 3
   },
   "file_extension": ".py",
   "mimetype": "text/x-python",
   "name": "python",
   "nbconvert_exporter": "python",
   "pygments_lexer": "ipython3",
   "version": "3.10.8"
  },
  "vscode": {
   "interpreter": {
    "hash": "5b2be777496b2849047af42cabadf02476432879d9e548930d6ce5219944811f"
   }
  }
 },
 "nbformat": 4,
 "nbformat_minor": 5
}
