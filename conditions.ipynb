{
 "cells": [
  {
   "cell_type": "markdown",
   "id": "190baf62",
   "metadata": {},
   "source": [
    "# conditon?"
   ]
  },
  {
   "cell_type": "raw",
   "id": "cbede3c5",
   "metadata": {},
   "source": [
    "Generally I can consider all relational operators as condition. But in case of python, python is a dynamic typing programming language, So I can consider anything that outputs as boolean is called condition"
   ]
  },
  {
   "cell_type": "raw",
   "id": "274832c0",
   "metadata": {},
   "source": [
    "5 > 3\n",
    "5 == 2 \n",
    "True\n",
    "False\n",
    "5\n",
    "0\n",
    "3.5"
   ]
  },
  {
   "cell_type": "markdown",
   "id": "9c4d5cdf",
   "metadata": {},
   "source": [
    "# execute block of statements only when condition satisfies"
   ]
  },
  {
   "cell_type": "raw",
   "id": "dfbb39d4",
   "metadata": {},
   "source": [
    "# syntax \n",
    "if <condition>:\n",
    "    st1\n",
    "    st2\n",
    "    |\n",
    "    |\n",
    "    |\n",
    "    stn\n",
    "nst ---> always gets executed"
   ]
  },
  {
   "cell_type": "code",
   "execution_count": 1,
   "id": "80981a4b",
   "metadata": {},
   "outputs": [
    {
     "name": "stdout",
     "output_type": "stream",
     "text": [
      "b is greater 15\n",
      "completed\n"
     ]
    }
   ],
   "source": [
    "a = 3\n",
    "b = 5\n",
    "if b>a:\n",
    "    b += 10\n",
    "    print(\"b is greater\", b)\n",
    "print(\"completed\")"
   ]
  },
  {
   "cell_type": "code",
   "execution_count": 2,
   "id": "0d3dc2c6",
   "metadata": {},
   "outputs": [
    {
     "name": "stdout",
     "output_type": "stream",
     "text": [
      "completed\n"
     ]
    }
   ],
   "source": [
    "a = 3\n",
    "b = 5\n",
    "if b<a:\n",
    "    b += 10\n",
    "    print(\"b is greater\", b)\n",
    "print(\"completed\")"
   ]
  },
  {
   "cell_type": "code",
   "execution_count": null,
   "id": "e5f78f5d",
   "metadata": {},
   "outputs": [],
   "source": [
    "a = 10\n",
    "b = 20\n",
    "if a > b:\n",
    "    b = b+20\n",
    "  print(\"hello\")\n",
    "  print(b)"
   ]
  },
  {
   "cell_type": "code",
   "execution_count": 5,
   "id": "dcbd9e3f",
   "metadata": {},
   "outputs": [
    {
     "name": "stdout",
     "output_type": "stream",
     "text": [
      "hello\n",
      "40\n"
     ]
    }
   ],
   "source": [
    "a = 10\n",
    "b = 20\n",
    "if a < b:\n",
    "  b = b+20\n",
    "  print(\"hello\")\n",
    "  print(b)"
   ]
  },
  {
   "cell_type": "code",
   "execution_count": 8,
   "id": "231b1ca6",
   "metadata": {},
   "outputs": [
    {
     "name": "stdout",
     "output_type": "stream",
     "text": [
      "hello\n",
      "40\n",
      "hello\n",
      "60\n"
     ]
    }
   ],
   "source": [
    "a = 10\n",
    "b = 20\n",
    "c  = 30\n",
    "if a < b:\n",
    "  b = b+20\n",
    "  print(\"hello\")\n",
    "  print(b)\n",
    "if a < c:\n",
    "    b = b+20\n",
    "    print(\"hello\")\n",
    "    print(b)"
   ]
  },
  {
   "cell_type": "code",
   "execution_count": 9,
   "id": "65b88f0f",
   "metadata": {},
   "outputs": [
    {
     "name": "stdout",
     "output_type": "stream",
     "text": [
      "20\n",
      "python\n"
     ]
    }
   ],
   "source": [
    "a = 10\n",
    "b = 20\n",
    "if a > b:\n",
    "    b = b+20\n",
    "    print(\"hello\")\n",
    "print(b)\n",
    "print(\"python\")"
   ]
  },
  {
   "cell_type": "code",
   "execution_count": 10,
   "id": "1e53a312",
   "metadata": {},
   "outputs": [
    {
     "ename": "IndentationError",
     "evalue": "unexpected indent (4271192134.py, line 7)",
     "output_type": "error",
     "traceback": [
      "\u001b[1;36m  Input \u001b[1;32mIn [10]\u001b[1;36m\u001b[0m\n\u001b[1;33m    print(\"python\")\u001b[0m\n\u001b[1;37m    ^\u001b[0m\n\u001b[1;31mIndentationError\u001b[0m\u001b[1;31m:\u001b[0m unexpected indent\n"
     ]
    }
   ],
   "source": [
    "a = 10\n",
    "b = 20\n",
    "if a > b:\n",
    "    b = b+20\n",
    "    print(\"hello\")\n",
    "print(b)\n",
    "    print(\"python\")"
   ]
  },
  {
   "cell_type": "raw",
   "id": "ff358dda",
   "metadata": {},
   "source": [
    "swap 2 variables in following ways \n",
    "i. using arthematic operator\n",
    "ii. using temporary variable\n",
    "iii. in pythonic way(assignment way)\n",
    "a = 20\n",
    "b = 30 \n",
    "======>\n",
    "a --> 30\n",
    "b --> 20"
   ]
  },
  {
   "cell_type": "raw",
   "id": "1b21a409",
   "metadata": {},
   "source": [
    "read the tomato price from user.\n",
    "if price is greater than 50 then increase the price(margin value) by 20% and print final price\n",
    "if price is less than 50 then increase the price(margin value) by 40% and print final price\n",
    "price = 20 ---> 28\n",
    "price = 80 ---> 96"
   ]
  },
  {
   "cell_type": "raw",
   "id": "c60ac7f3",
   "metadata": {},
   "source": [
    "read two values from the console. if first value is greater the second one the multiply first with second and print the result\n",
    "otherwise multiply the second value by 2 and print the result.\n",
    "#5 4 ---> 20\n",
    "#3 6 ---> 12"
   ]
  },
  {
   "cell_type": "code",
   "execution_count": null,
   "id": "a812b8d6",
   "metadata": {},
   "outputs": [],
   "source": []
  }
 ],
 "metadata": {
  "kernelspec": {
   "display_name": "Python 3.10.8 64-bit (microsoft store)",
   "language": "python",
   "name": "python3"
  },
  "language_info": {
   "codemirror_mode": {
    "name": "ipython",
    "version": 3
   },
   "file_extension": ".py",
   "mimetype": "text/x-python",
   "name": "python",
   "nbconvert_exporter": "python",
   "pygments_lexer": "ipython3",
   "version": "3.10.8"
  },
  "vscode": {
   "interpreter": {
    "hash": "5b2be777496b2849047af42cabadf02476432879d9e548930d6ce5219944811f"
   }
  }
 },
 "nbformat": 4,
 "nbformat_minor": 5
}
