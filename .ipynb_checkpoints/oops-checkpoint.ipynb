{
 "cells": [
  {
   "cell_type": "code",
   "execution_count": 1,
   "id": "e459f9f0",
   "metadata": {},
   "outputs": [],
   "source": [
    "class Myclass:\n",
    "    a = 10\n",
    "    b = 20\n",
    "    def display(self):\n",
    "        return self.a, self.b"
   ]
  },
  {
   "cell_type": "code",
   "execution_count": 2,
   "id": "5e550fc5",
   "metadata": {},
   "outputs": [],
   "source": [
    "class Account:\n",
    "    name = \"xyz\"\n",
    "    bal = 200\n",
    "    def deposit(self, amount):\n",
    "        self.bal += amount\n",
    "    def withdrawl(self, amount):\n",
    "        self.bal -= amount"
   ]
  },
  {
   "cell_type": "code",
   "execution_count": 3,
   "id": "afc37b5b",
   "metadata": {},
   "outputs": [
    {
     "name": "stdout",
     "output_type": "stream",
     "text": [
      "<__main__.Account object at 0x000001DDDE42F7F0>\n"
     ]
    }
   ],
   "source": [
    "a1 = Account()\n",
    "print(a1)"
   ]
  },
  {
   "cell_type": "code",
   "execution_count": 4,
   "id": "96dc787b",
   "metadata": {},
   "outputs": [
    {
     "name": "stdout",
     "output_type": "stream",
     "text": [
      "True\n"
     ]
    }
   ],
   "source": [
    "print(isinstance(a1, Account))"
   ]
  },
  {
   "cell_type": "code",
   "execution_count": 5,
   "id": "005df3fc",
   "metadata": {},
   "outputs": [
    {
     "name": "stdout",
     "output_type": "stream",
     "text": [
      "<class '__main__.Account'>\n"
     ]
    }
   ],
   "source": [
    "print(type(a1))"
   ]
  },
  {
   "cell_type": "code",
   "execution_count": 6,
   "id": "6e4cf18a",
   "metadata": {},
   "outputs": [
    {
     "name": "stdout",
     "output_type": "stream",
     "text": [
      "<__main__.Account object at 0x000001DDDE42F490>\n"
     ]
    }
   ],
   "source": [
    "a2 = Account()\n",
    "print(a2)"
   ]
  },
  {
   "cell_type": "code",
   "execution_count": 7,
   "id": "72ea9a10",
   "metadata": {},
   "outputs": [
    {
     "name": "stdout",
     "output_type": "stream",
     "text": [
      "200\n"
     ]
    }
   ],
   "source": [
    "print(a1.bal)"
   ]
  },
  {
   "cell_type": "code",
   "execution_count": 9,
   "id": "f94d1152",
   "metadata": {},
   "outputs": [
    {
     "name": "stdout",
     "output_type": "stream",
     "text": [
      "200\n"
     ]
    }
   ],
   "source": [
    "print(a2.bal)"
   ]
  },
  {
   "cell_type": "code",
   "execution_count": 10,
   "id": "c489e4ce",
   "metadata": {},
   "outputs": [
    {
     "name": "stdout",
     "output_type": "stream",
     "text": [
      "500 500\n",
      "500 1000\n"
     ]
    }
   ],
   "source": [
    "class Account:\n",
    "    def __init__(self):\n",
    "        self.name = \"xyz\"\n",
    "        self.bal = 500\n",
    "a1 = Account()\n",
    "a2 = Account()\n",
    "print(a1.bal, a2.bal)\n",
    "a2.bal = 1000\n",
    "print(a1.bal, a2.bal)"
   ]
  },
  {
   "cell_type": "code",
   "execution_count": 11,
   "id": "16111244",
   "metadata": {},
   "outputs": [
    {
     "name": "stdout",
     "output_type": "stream",
     "text": [
      "Hello VNS\n",
      "Hello VNS\n"
     ]
    }
   ],
   "source": [
    "class Account:\n",
    "    def __init__(self):\n",
    "        print(\"Hello VNS\")\n",
    "        self.name = \"xyz\"\n",
    "        self.bal = 500\n",
    "a1 = Account()\n",
    "a2 = Account()\n",
    "#print(a1.bal, a2.bal)\n",
    "a2.bal = 1000\n",
    "#print(a1.bal, a2.bal)"
   ]
  },
  {
   "cell_type": "code",
   "execution_count": 14,
   "id": "f9370e9e",
   "metadata": {},
   "outputs": [
    {
     "name": "stdout",
     "output_type": "stream",
     "text": [
      "25000 20000\n",
      "25000 22000\n"
     ]
    }
   ],
   "source": [
    "class Account:\n",
    "    def __init__(self, name, bal):\n",
    "        self.name = name\n",
    "        self.bal = bal\n",
    "    def deposit(self, amount):\n",
    "        self.bal += amount\n",
    "        \n",
    "        \n",
    "a1 = Account(\"Nag\", 25000)\n",
    "a2 = Account(\"Nag1\", 20000)\n",
    "print(a1.bal, a2.bal)\n",
    "a2.deposit(2000)\n",
    "print(a1.bal, a2.bal)"
   ]
  },
  {
   "cell_type": "code",
   "execution_count": 15,
   "id": "0d0da879",
   "metadata": {},
   "outputs": [
    {
     "ename": "AttributeError",
     "evalue": "'Account' object has no attribute 'bal'",
     "output_type": "error",
     "traceback": [
      "\u001b[1;31m---------------------------------------------------------------------------\u001b[0m",
      "\u001b[1;31mAttributeError\u001b[0m                            Traceback (most recent call last)",
      "Input \u001b[1;32mIn [15]\u001b[0m, in \u001b[0;36m<cell line: 14>\u001b[1;34m()\u001b[0m\n\u001b[0;32m     12\u001b[0m a1 \u001b[38;5;241m=\u001b[39m Account(\u001b[38;5;124m\"\u001b[39m\u001b[38;5;124mNag\u001b[39m\u001b[38;5;124m\"\u001b[39m, \u001b[38;5;241m25000\u001b[39m)\n\u001b[0;32m     13\u001b[0m a2 \u001b[38;5;241m=\u001b[39m Account(\u001b[38;5;124m\"\u001b[39m\u001b[38;5;124mNag1\u001b[39m\u001b[38;5;124m\"\u001b[39m, \u001b[38;5;241m20000\u001b[39m)\n\u001b[1;32m---> 14\u001b[0m \u001b[38;5;28mprint\u001b[39m(\u001b[43ma1\u001b[49m\u001b[38;5;241;43m.\u001b[39;49m\u001b[43mbal\u001b[49m, a2\u001b[38;5;241m.\u001b[39mbal)\n\u001b[0;32m     15\u001b[0m a2\u001b[38;5;241m.\u001b[39mdeposit(\u001b[38;5;241m2000\u001b[39m)\n\u001b[0;32m     16\u001b[0m \u001b[38;5;28mprint\u001b[39m(a1\u001b[38;5;241m.\u001b[39mbal, a2\u001b[38;5;241m.\u001b[39mbal)\n",
      "\u001b[1;31mAttributeError\u001b[0m: 'Account' object has no attribute 'bal'"
     ]
    }
   ],
   "source": [
    "class Account:\n",
    "    def __init__(self, name, bal):\n",
    "        self.name = name\n",
    "        self.balance = bal\n",
    "        self.transactions = 0\n",
    "    def deposit(self, amount):\n",
    "        self.balance += amount\n",
    "        self.transactions += 1\n",
    "        \n",
    "        \n",
    "        \n",
    "a1 = Account(\"Nag\", 25000)\n",
    "a2 = Account(\"Nag1\", 20000)\n",
    "print(a1.bal, a2.bal)\n",
    "a2.deposit(2000)\n",
    "print(a1.bal, a2.bal)"
   ]
  },
  {
   "cell_type": "code",
   "execution_count": 16,
   "id": "f8252dea",
   "metadata": {},
   "outputs": [
    {
     "name": "stdout",
     "output_type": "stream",
     "text": [
      "25000 20000\n",
      "25000 22000\n"
     ]
    }
   ],
   "source": [
    "class Account:\n",
    "    def __init__(self, name, bal):\n",
    "        self.name = name\n",
    "        self.balance = bal\n",
    "        self.transactions = 0\n",
    "    def deposit(self, amount):\n",
    "        self.balance += amount\n",
    "        self.transactions += 1\n",
    "        \n",
    "        \n",
    "        \n",
    "a1 = Account(\"Nag\", 25000)\n",
    "a2 = Account(\"Nag1\", 20000)\n",
    "print(a1.balance, a2.balance)\n",
    "a2.deposit(2000)\n",
    "print(a1.balance, a2.balance)"
   ]
  },
  {
   "cell_type": "code",
   "execution_count": 17,
   "id": "74895e2a",
   "metadata": {},
   "outputs": [
    {
     "name": "stdout",
     "output_type": "stream",
     "text": [
      "<__main__.Account object at 0x000001DDDF6D3040>\n",
      "25000\n",
      "self <__main__.Account object at 0x000001DDDF6D3040>\n",
      "<__main__.Account object at 0x000001DDDF6D3700>\n",
      "self <__main__.Account object at 0x000001DDDF6D3700>\n"
     ]
    }
   ],
   "source": [
    "class Account:\n",
    "    def __init__(self, name, bal):\n",
    "        self.name = name\n",
    "        self.balance = bal\n",
    "        self.transactions = 0\n",
    "    def deposit(self, amount):\n",
    "        print(\"self\", self)\n",
    "        self.balance += amount\n",
    "        self.transactions += 1\n",
    "        \n",
    "        \n",
    "        \n",
    "a1 = Account(\"Nag\", 25000)\n",
    "a2 = Account(\"Nag1\", 20000)\n",
    "print(a1)\n",
    "print(a1.balance)\n",
    "a1.deposit(1000)\n",
    "print(a2)\n",
    "a2.deposit(5000)"
   ]
  },
  {
   "cell_type": "code",
   "execution_count": 18,
   "id": "d7f56c4a",
   "metadata": {},
   "outputs": [
    {
     "name": "stdout",
     "output_type": "stream",
     "text": [
      "<__main__.Account object at 0x000001DDDF6E7130>\n",
      "25000\n",
      "self <__main__.Account object at 0x000001DDDF6E7130>\n",
      "<__main__.Account object at 0x000001DDDF6E7C10>\n",
      "self <__main__.Account object at 0x000001DDDF6E7C10>\n"
     ]
    }
   ],
   "source": [
    "class Account:\n",
    "    def __init__(self, name, bal):\n",
    "        self.name = name\n",
    "        self.balance = bal\n",
    "        self.transactions = 0\n",
    "    def deposit(c, amount):\n",
    "        print(\"self\", c)\n",
    "        c.balance += amount\n",
    "        c.transactions += 1\n",
    "        \n",
    "        \n",
    "        \n",
    "a1 = Account(\"Nag\", 25000)\n",
    "a2 = Account(\"Nag1\", 20000)\n",
    "print(a1)\n",
    "print(a1.balance)\n",
    "a1.deposit(1000)\n",
    "print(a2)\n",
    "a2.deposit(5000)"
   ]
  },
  {
   "cell_type": "markdown",
   "id": "7b9820a8",
   "metadata": {},
   "source": [
    "# variables"
   ]
  },
  {
   "cell_type": "code",
   "execution_count": 19,
   "id": "2778de5b",
   "metadata": {},
   "outputs": [
    {
     "name": "stdout",
     "output_type": "stream",
     "text": [
      "5 10 10 15\n",
      "5 10 20 25\n"
     ]
    }
   ],
   "source": [
    "class Myclass():\n",
    "    a = 5\n",
    "    b = 10\n",
    "    def __init__(self, c, d):\n",
    "        self.c = c\n",
    "        self.d = d\n",
    "obj1 = Myclass(10, 15)\n",
    "obj2 = Myclass(20, 25)\n",
    "print(obj1.a,obj1.b,obj1.c,obj1.d)\n",
    "print(obj2.a,obj2.b,obj2.c,obj2.d)"
   ]
  },
  {
   "cell_type": "code",
   "execution_count": 20,
   "id": "abad7bd1",
   "metadata": {},
   "outputs": [
    {
     "name": "stdout",
     "output_type": "stream",
     "text": [
      "5 10 100 15\n",
      "5 10 20 25\n"
     ]
    }
   ],
   "source": [
    "obj1.c = 100\n",
    "print(obj1.a,obj1.b,obj1.c,obj1.d)\n",
    "print(obj2.a,obj2.b,obj2.c,obj2.d)"
   ]
  },
  {
   "cell_type": "code",
   "execution_count": 21,
   "id": "19ec5c92",
   "metadata": {},
   "outputs": [
    {
     "name": "stdout",
     "output_type": "stream",
     "text": [
      "5 10 100 15\n",
      "5 10 20 200\n"
     ]
    }
   ],
   "source": [
    "obj2.d = 200\n",
    "print(obj1.a,obj1.b,obj1.c,obj1.d)\n",
    "print(obj2.a,obj2.b,obj2.c,obj2.d)"
   ]
  },
  {
   "cell_type": "code",
   "execution_count": 22,
   "id": "5ef11bb9",
   "metadata": {},
   "outputs": [
    {
     "name": "stdout",
     "output_type": "stream",
     "text": [
      "5 10 10 15\n",
      "5 10 20 25\n"
     ]
    }
   ],
   "source": [
    "class Myclass():\n",
    "    a = 5\n",
    "    b = 10\n",
    "    def __init__(self, c, d):\n",
    "        self.c = c\n",
    "        self.d = d\n",
    "obj1 = Myclass(10, 15)\n",
    "obj2 = Myclass(20, 25)\n",
    "print(obj1.a,obj1.b,obj1.c,obj1.d)\n",
    "print(obj2.a,obj2.b,obj2.c,obj2.d)"
   ]
  },
  {
   "cell_type": "code",
   "execution_count": 23,
   "id": "7cb13b4f",
   "metadata": {},
   "outputs": [
    {
     "name": "stdout",
     "output_type": "stream",
     "text": [
      "50 10 10 15\n",
      "50 10 20 25\n"
     ]
    }
   ],
   "source": [
    "Myclass.a = 50\n",
    "print(obj1.a,obj1.b,obj1.c,obj1.d)\n",
    "print(obj2.a,obj2.b,obj2.c,obj2.d)"
   ]
  },
  {
   "cell_type": "code",
   "execution_count": 24,
   "id": "5dbb4139",
   "metadata": {},
   "outputs": [
    {
     "name": "stdout",
     "output_type": "stream",
     "text": [
      "500 10 10 15\n",
      "50 10 20 25\n"
     ]
    }
   ],
   "source": [
    "obj1.a = 500\n",
    "print(obj1.a,obj1.b,obj1.c,obj1.d)\n",
    "print(obj2.a,obj2.b,obj2.c,obj2.d)"
   ]
  },
  {
   "cell_type": "code",
   "execution_count": 25,
   "id": "6fc15258",
   "metadata": {},
   "outputs": [
    {
     "name": "stdout",
     "output_type": "stream",
     "text": [
      "50\n"
     ]
    }
   ],
   "source": [
    "print(Myclass.a)"
   ]
  },
  {
   "cell_type": "code",
   "execution_count": 26,
   "id": "229d3446",
   "metadata": {},
   "outputs": [
    {
     "name": "stdout",
     "output_type": "stream",
     "text": [
      "50\n"
     ]
    }
   ],
   "source": [
    "print(obj2.a)"
   ]
  },
  {
   "cell_type": "code",
   "execution_count": 27,
   "id": "7bf210c1",
   "metadata": {},
   "outputs": [
    {
     "name": "stdout",
     "output_type": "stream",
     "text": [
      "50\n"
     ]
    }
   ],
   "source": [
    "obj3 = Myclass(100, 200)\n",
    "print(obj3.a)"
   ]
  },
  {
   "cell_type": "code",
   "execution_count": 29,
   "id": "0eb8c937",
   "metadata": {},
   "outputs": [
    {
     "name": "stdout",
     "output_type": "stream",
     "text": [
      "25000\n",
      "25900\n"
     ]
    }
   ],
   "source": [
    "class Account:\n",
    "    def __init__(self, name, bal):\n",
    "        self.name = name\n",
    "        self.balance = bal\n",
    "        self.transactions = 0\n",
    "    def deposit(self, amount):\n",
    "        self.balance += amount\n",
    "        self.transactions += 1\n",
    "        self.withdrawl(100)\n",
    "    def withdrawl(self, amount):\n",
    "        self.balance -= amount\n",
    "        \n",
    "        \n",
    "        \n",
    "a1 = Account(\"Nag\", 25000)\n",
    "a2 = Account(\"Nag1\", 20000)\n",
    "print(a1.balance)\n",
    "a1.deposit(1000)\n",
    "print(a1.balance)\n"
   ]
  },
  {
   "cell_type": "code",
   "execution_count": 30,
   "id": "7915ff6d",
   "metadata": {},
   "outputs": [
    {
     "name": "stdout",
     "output_type": "stream",
     "text": [
      "<class 'object'>\n"
     ]
    }
   ],
   "source": [
    "print(object)"
   ]
  },
  {
   "cell_type": "code",
   "execution_count": 31,
   "id": "f1ef3925",
   "metadata": {},
   "outputs": [
    {
     "name": "stdout",
     "output_type": "stream",
     "text": [
      "1.25\n"
     ]
    }
   ],
   "source": [
    "print(10/8)"
   ]
  },
  {
   "cell_type": "code",
   "execution_count": 32,
   "id": "ac50266f",
   "metadata": {},
   "outputs": [
    {
     "name": "stdout",
     "output_type": "stream",
     "text": [
      "10/8\n"
     ]
    }
   ],
   "source": [
    "print(\"10/8\")"
   ]
  },
  {
   "cell_type": "code",
   "execution_count": 33,
   "id": "cca90c18",
   "metadata": {},
   "outputs": [
    {
     "name": "stdout",
     "output_type": "stream",
     "text": [
      "10/8\n"
     ]
    }
   ],
   "source": [
    "num = 10\n",
    "denom = 8\n",
    "print(f\"{num}/{denom}\")"
   ]
  },
  {
   "cell_type": "code",
   "execution_count": 34,
   "id": "9cc04f25",
   "metadata": {},
   "outputs": [
    {
     "name": "stdout",
     "output_type": "stream",
     "text": [
      "<__main__.Fraction object at 0x000001DDDF6E6350>\n"
     ]
    }
   ],
   "source": [
    "class Fraction:\n",
    "    def __init__(self, num, denom):\n",
    "        self.n = num\n",
    "        self.d = denom\n",
    "    \n",
    "    def display(self):\n",
    "        return f\"{self.n}/{self.d}\"\n",
    "f1 = Fraction(3, 5)\n",
    "print(f1)"
   ]
  },
  {
   "cell_type": "code",
   "execution_count": 35,
   "id": "f721551c",
   "metadata": {},
   "outputs": [
    {
     "name": "stdout",
     "output_type": "stream",
     "text": [
      "3/5\n"
     ]
    }
   ],
   "source": [
    "print(f1.display())"
   ]
  },
  {
   "cell_type": "code",
   "execution_count": 36,
   "id": "bee60073",
   "metadata": {},
   "outputs": [
    {
     "name": "stdout",
     "output_type": "stream",
     "text": [
      "2/3\n"
     ]
    }
   ],
   "source": [
    "f2 = Fraction(2, 3)\n",
    "print(f2.display())"
   ]
  },
  {
   "cell_type": "code",
   "execution_count": 37,
   "id": "a6050189",
   "metadata": {},
   "outputs": [
    {
     "name": "stdout",
     "output_type": "stream",
     "text": [
      "3/5\n"
     ]
    }
   ],
   "source": [
    "class Fraction:\n",
    "    def __init__(self, num, denom):\n",
    "        self.n = num\n",
    "        self.d = denom\n",
    "    \n",
    "    def __str__(self):\n",
    "        return f\"{self.n}/{self.d}\"\n",
    "f1 = Fraction(3, 5)\n",
    "print(f1)"
   ]
  },
  {
   "cell_type": "code",
   "execution_count": 38,
   "id": "307de6a0",
   "metadata": {},
   "outputs": [
    {
     "name": "stdout",
     "output_type": "stream",
     "text": [
      "<class '__main__.Fraction'>\n"
     ]
    }
   ],
   "source": [
    "print(type(f1))"
   ]
  },
  {
   "cell_type": "code",
   "execution_count": 39,
   "id": "d1d94d42",
   "metadata": {},
   "outputs": [
    {
     "name": "stdout",
     "output_type": "stream",
     "text": [
      "19/15\n"
     ]
    }
   ],
   "source": [
    "class Fraction:\n",
    "    def __init__(self, num, denom):\n",
    "        self.n = num\n",
    "        self.d = denom\n",
    "    \n",
    "    def __str__(self):\n",
    "        return f\"{self.n}/{self.d}\"\n",
    "    \n",
    "    def add(self, other):\n",
    "        num = self.n*other.d+other.n*self.d\n",
    "        denom = self.d*other.d\n",
    "        return f\"{num}/{denom}\"\n",
    "f1 = Fraction(3, 5)\n",
    "f2 = Fraction(2, 3)\n",
    "print(f1.add(f2))"
   ]
  },
  {
   "cell_type": "code",
   "execution_count": 40,
   "id": "249e5964",
   "metadata": {},
   "outputs": [
    {
     "name": "stdout",
     "output_type": "stream",
     "text": [
      "19/15\n"
     ]
    }
   ],
   "source": [
    "class Fraction:\n",
    "    def __init__(self, num, denom):\n",
    "        self.n = num\n",
    "        self.d = denom\n",
    "    \n",
    "    def __str__(self):\n",
    "        return f\"{self.n}/{self.d}\"\n",
    "    \n",
    "    def __add__(self, other):\n",
    "        num = self.n*other.d+other.n*self.d\n",
    "        denom = self.d*other.d\n",
    "        return f\"{num}/{denom}\"\n",
    "f1 = Fraction(3, 5)\n",
    "f2 = Fraction(2, 3)\n",
    "print(f1+f2)"
   ]
  },
  {
   "cell_type": "code",
   "execution_count": 48,
   "id": "13a298c5",
   "metadata": {},
   "outputs": [
    {
     "name": "stdout",
     "output_type": "stream",
     "text": [
      "22/20\n"
     ]
    }
   ],
   "source": [
    "class Fraction:\n",
    "    def __init__(self, num, denom):\n",
    "        self.n = num\n",
    "        self.d = denom\n",
    "    \n",
    "    def __str__(self):\n",
    "        return f\"{self.n}/{self.d}\"\n",
    "    \n",
    "    def __add__(self, other):\n",
    "        num = self.n*other.d+other.n*self.d\n",
    "        denom = self.d*other.d\n",
    "        return f\"{num}/{denom}\"\n",
    "f1 = Fraction(3, 5)\n",
    "f2 = Fraction(2, 4)\n",
    "print(f1+f2)"
   ]
  },
  {
   "cell_type": "code",
   "execution_count": 49,
   "id": "7031aadb",
   "metadata": {},
   "outputs": [
    {
     "name": "stdout",
     "output_type": "stream",
     "text": [
      "return from parent\n"
     ]
    }
   ],
   "source": [
    "class Parent():\n",
    "    def fun(self):\n",
    "        return \"return from parent\"\n",
    "class Child(Parent):\n",
    "    pass\n",
    "o = Child()\n",
    "print(o.fun())"
   ]
  },
  {
   "cell_type": "code",
   "execution_count": 50,
   "id": "c2499738",
   "metadata": {},
   "outputs": [
    {
     "name": "stdout",
     "output_type": "stream",
     "text": [
      "return from child\n"
     ]
    }
   ],
   "source": [
    "class Parent():\n",
    "    def fun(self):\n",
    "        return \"return from parent\"\n",
    "class Child(Parent):\n",
    "    def fun(self):\n",
    "        return \"return from child\"\n",
    "o = Child()\n",
    "print(o.fun())"
   ]
  },
  {
   "cell_type": "code",
   "execution_count": 51,
   "id": "fcc99337",
   "metadata": {},
   "outputs": [
    {
     "name": "stdout",
     "output_type": "stream",
     "text": [
      "return from child\n"
     ]
    }
   ],
   "source": [
    "class Parent():\n",
    "    def fun(self):\n",
    "        return self.fun1()\n",
    "        return \"return from parent\"\n",
    "class Child(Parent):\n",
    "    def fun1(self):\n",
    "        return \"return from child\"\n",
    "o = Child()\n",
    "print(o.fun())"
   ]
  },
  {
   "cell_type": "code",
   "execution_count": 52,
   "id": "0e0e8e80",
   "metadata": {},
   "outputs": [
    {
     "ename": "AttributeError",
     "evalue": "'Parent' object has no attribute 'fun1'",
     "output_type": "error",
     "traceback": [
      "\u001b[1;31m---------------------------------------------------------------------------\u001b[0m",
      "\u001b[1;31mAttributeError\u001b[0m                            Traceback (most recent call last)",
      "Input \u001b[1;32mIn [52]\u001b[0m, in \u001b[0;36m<cell line: 2>\u001b[1;34m()\u001b[0m\n\u001b[0;32m      1\u001b[0m p \u001b[38;5;241m=\u001b[39m Parent()\n\u001b[1;32m----> 2\u001b[0m \u001b[38;5;28mprint\u001b[39m(\u001b[43mp\u001b[49m\u001b[38;5;241;43m.\u001b[39;49m\u001b[43mfun\u001b[49m\u001b[43m(\u001b[49m\u001b[43m)\u001b[49m)\n",
      "Input \u001b[1;32mIn [51]\u001b[0m, in \u001b[0;36mParent.fun\u001b[1;34m(self)\u001b[0m\n\u001b[0;32m      2\u001b[0m \u001b[38;5;28;01mdef\u001b[39;00m \u001b[38;5;21mfun\u001b[39m(\u001b[38;5;28mself\u001b[39m):\n\u001b[1;32m----> 3\u001b[0m     \u001b[38;5;28;01mreturn\u001b[39;00m \u001b[38;5;28;43mself\u001b[39;49m\u001b[38;5;241;43m.\u001b[39;49m\u001b[43mfun1\u001b[49m()\n\u001b[0;32m      4\u001b[0m     \u001b[38;5;28;01mreturn\u001b[39;00m \u001b[38;5;124m\"\u001b[39m\u001b[38;5;124mreturn from parent\u001b[39m\u001b[38;5;124m\"\u001b[39m\n",
      "\u001b[1;31mAttributeError\u001b[0m: 'Parent' object has no attribute 'fun1'"
     ]
    }
   ],
   "source": [
    "p = Parent()\n",
    "print(p.fun())"
   ]
  },
  {
   "cell_type": "code",
   "execution_count": 53,
   "id": "f3d03c16",
   "metadata": {},
   "outputs": [
    {
     "name": "stdout",
     "output_type": "stream",
     "text": [
      "return from child\n",
      "return from parent\n"
     ]
    }
   ],
   "source": [
    "class Parent():\n",
    "    def fun(self):\n",
    "        print(self.fun1())\n",
    "        return \"return from parent\"\n",
    "class Child(Parent):\n",
    "    def fun1(self):\n",
    "        return \"return from child\"\n",
    "o = Child()\n",
    "print(o.fun())"
   ]
  },
  {
   "cell_type": "code",
   "execution_count": 54,
   "id": "f8dbb5b4",
   "metadata": {},
   "outputs": [
    {
     "name": "stdout",
     "output_type": "stream",
     "text": [
      "return from parent\n"
     ]
    }
   ],
   "source": [
    "class Parent():\n",
    "    def fun(self):\n",
    "        return \"return from parent\"\n",
    "        return self.fun1()\n",
    "class Child(Parent):\n",
    "    def fun1(self):\n",
    "        return \"return from child\"\n",
    "o = Child()\n",
    "print(o.fun())"
   ]
  },
  {
   "cell_type": "code",
   "execution_count": 55,
   "id": "0fac6338",
   "metadata": {},
   "outputs": [
    {
     "name": "stdout",
     "output_type": "stream",
     "text": [
      "10 20\n",
      "return from derive\n",
      "10 20\n"
     ]
    }
   ],
   "source": [
    "class Myclass():\n",
    "    def __init__(self, a, b):\n",
    "        self.a = a\n",
    "        self.b = b\n",
    "class DeriveClass(Myclass):\n",
    "    def fun(self):\n",
    "        print(self.a, self.b)\n",
    "        return \"return from derive\"\n",
    "o = DeriveClass(10, 20)\n",
    "print(o.fun())\n",
    "print(o.a, o.b)"
   ]
  },
  {
   "cell_type": "code",
   "execution_count": 56,
   "id": "28497b88",
   "metadata": {},
   "outputs": [
    {
     "ename": "AttributeError",
     "evalue": "'DeriveClass' object has no attribute 'a'",
     "output_type": "error",
     "traceback": [
      "\u001b[1;31m---------------------------------------------------------------------------\u001b[0m",
      "\u001b[1;31mAttributeError\u001b[0m                            Traceback (most recent call last)",
      "Input \u001b[1;32mIn [56]\u001b[0m, in \u001b[0;36m<cell line: 13>\u001b[1;34m()\u001b[0m\n\u001b[0;32m     11\u001b[0m         \u001b[38;5;28;01mreturn\u001b[39;00m \u001b[38;5;124m\"\u001b[39m\u001b[38;5;124mreturn from derive\u001b[39m\u001b[38;5;124m\"\u001b[39m\n\u001b[0;32m     12\u001b[0m o \u001b[38;5;241m=\u001b[39m DeriveClass(\u001b[38;5;241m10\u001b[39m, \u001b[38;5;241m20\u001b[39m)\n\u001b[1;32m---> 13\u001b[0m \u001b[38;5;28mprint\u001b[39m(\u001b[43mo\u001b[49m\u001b[38;5;241;43m.\u001b[39;49m\u001b[43mfun\u001b[49m\u001b[43m(\u001b[49m\u001b[43m)\u001b[49m)\n\u001b[0;32m     14\u001b[0m \u001b[38;5;28mprint\u001b[39m(o\u001b[38;5;241m.\u001b[39ma, o\u001b[38;5;241m.\u001b[39mb)\n",
      "Input \u001b[1;32mIn [56]\u001b[0m, in \u001b[0;36mDeriveClass.fun\u001b[1;34m(self)\u001b[0m\n\u001b[0;32m      9\u001b[0m \u001b[38;5;28;01mdef\u001b[39;00m \u001b[38;5;21mfun\u001b[39m(\u001b[38;5;28mself\u001b[39m):\n\u001b[1;32m---> 10\u001b[0m     \u001b[38;5;28mprint\u001b[39m(\u001b[38;5;28;43mself\u001b[39;49m\u001b[38;5;241;43m.\u001b[39;49m\u001b[43ma\u001b[49m, \u001b[38;5;28mself\u001b[39m\u001b[38;5;241m.\u001b[39mb)\n\u001b[0;32m     11\u001b[0m     \u001b[38;5;28;01mreturn\u001b[39;00m \u001b[38;5;124m\"\u001b[39m\u001b[38;5;124mreturn from derive\u001b[39m\u001b[38;5;124m\"\u001b[39m\n",
      "\u001b[1;31mAttributeError\u001b[0m: 'DeriveClass' object has no attribute 'a'"
     ]
    }
   ],
   "source": [
    "class Myclass():\n",
    "    def __init__(self, a, b):\n",
    "        self.a = a\n",
    "        self.b = b\n",
    "class DeriveClass(Myclass):\n",
    "    def __init__(self, c, d):\n",
    "        self.c = c\n",
    "        self.d = d\n",
    "    def fun(self):\n",
    "        print(self.a, self.b)\n",
    "        return \"return from derive\"\n",
    "o = DeriveClass(10, 20)\n",
    "print(o.fun())\n",
    "print(o.a, o.b)"
   ]
  },
  {
   "cell_type": "code",
   "execution_count": 57,
   "id": "e40cb908",
   "metadata": {},
   "outputs": [
    {
     "name": "stdout",
     "output_type": "stream",
     "text": [
      "30 40\n",
      "return from derive\n"
     ]
    }
   ],
   "source": [
    "class Myclass(object):\n",
    "    def __init__(self, a, b):\n",
    "        self.a = a\n",
    "        self.b = b\n",
    "class DeriveClass(Myclass):\n",
    "    def __init__(self, a, b, c, d):\n",
    "        self.c = a\n",
    "        self.d = b\n",
    "        super().__init__(c,d)\n",
    "    def fun(self):\n",
    "        print(self.a, self.b)\n",
    "        return \"return from derive\"\n",
    "o = DeriveClass(10, 20, 30, 40)\n",
    "print(o.fun())"
   ]
  },
  {
   "cell_type": "code",
   "execution_count": 58,
   "id": "3ab5f6be",
   "metadata": {},
   "outputs": [
    {
     "name": "stdout",
     "output_type": "stream",
     "text": [
      "50\n"
     ]
    }
   ],
   "source": [
    "class Myclass(object):\n",
    "    def fun(self):\n",
    "        print(self.a)\n",
    "class DeriveClass(Myclass):\n",
    "    def fun(self):\n",
    "        self.a = 50\n",
    "        super(DeriveClass, self).fun()\n",
    "o = DeriveClass()\n",
    "o.fun()"
   ]
  },
  {
   "cell_type": "code",
   "execution_count": 59,
   "id": "420155bc",
   "metadata": {},
   "outputs": [
    {
     "ename": "AttributeError",
     "evalue": "'DeriveClass' object has no attribute 'a'",
     "output_type": "error",
     "traceback": [
      "\u001b[1;31m---------------------------------------------------------------------------\u001b[0m",
      "\u001b[1;31mAttributeError\u001b[0m                            Traceback (most recent call last)",
      "Input \u001b[1;32mIn [59]\u001b[0m, in \u001b[0;36m<cell line: 9>\u001b[1;34m()\u001b[0m\n\u001b[0;32m      7\u001b[0m         \u001b[38;5;28mself\u001b[39m\u001b[38;5;241m.\u001b[39ma \u001b[38;5;241m=\u001b[39m \u001b[38;5;241m50\u001b[39m\n\u001b[0;32m      8\u001b[0m o \u001b[38;5;241m=\u001b[39m DeriveClass()\n\u001b[1;32m----> 9\u001b[0m \u001b[43mo\u001b[49m\u001b[38;5;241;43m.\u001b[39;49m\u001b[43mfun\u001b[49m\u001b[43m(\u001b[49m\u001b[43m)\u001b[49m\n",
      "Input \u001b[1;32mIn [59]\u001b[0m, in \u001b[0;36mDeriveClass.fun\u001b[1;34m(self)\u001b[0m\n\u001b[0;32m      5\u001b[0m \u001b[38;5;28;01mdef\u001b[39;00m \u001b[38;5;21mfun\u001b[39m(\u001b[38;5;28mself\u001b[39m):\n\u001b[1;32m----> 6\u001b[0m     \u001b[38;5;28;43msuper\u001b[39;49m\u001b[43m(\u001b[49m\u001b[43mDeriveClass\u001b[49m\u001b[43m,\u001b[49m\u001b[43m \u001b[49m\u001b[38;5;28;43mself\u001b[39;49m\u001b[43m)\u001b[49m\u001b[38;5;241;43m.\u001b[39;49m\u001b[43mfun\u001b[49m\u001b[43m(\u001b[49m\u001b[43m)\u001b[49m\n\u001b[0;32m      7\u001b[0m     \u001b[38;5;28mself\u001b[39m\u001b[38;5;241m.\u001b[39ma \u001b[38;5;241m=\u001b[39m \u001b[38;5;241m50\u001b[39m\n",
      "Input \u001b[1;32mIn [59]\u001b[0m, in \u001b[0;36mMyclass.fun\u001b[1;34m(self)\u001b[0m\n\u001b[0;32m      2\u001b[0m \u001b[38;5;28;01mdef\u001b[39;00m \u001b[38;5;21mfun\u001b[39m(\u001b[38;5;28mself\u001b[39m):\n\u001b[1;32m----> 3\u001b[0m     \u001b[38;5;28mprint\u001b[39m(\u001b[38;5;28;43mself\u001b[39;49m\u001b[38;5;241;43m.\u001b[39;49m\u001b[43ma\u001b[49m)\n",
      "\u001b[1;31mAttributeError\u001b[0m: 'DeriveClass' object has no attribute 'a'"
     ]
    }
   ],
   "source": [
    "class Myclass(object):\n",
    "    def fun(self):\n",
    "        print(self.a)\n",
    "class DeriveClass(Myclass):\n",
    "    def fun(self):\n",
    "        super(DeriveClass, self).fun()\n",
    "        self.a = 50\n",
    "o = DeriveClass()\n",
    "o.fun()"
   ]
  },
  {
   "cell_type": "code",
   "execution_count": 60,
   "id": "feacc6d4",
   "metadata": {},
   "outputs": [
    {
     "ename": "AttributeError",
     "evalue": "'DeriveClass' object has no attribute 'a'",
     "output_type": "error",
     "traceback": [
      "\u001b[1;31m---------------------------------------------------------------------------\u001b[0m",
      "\u001b[1;31mAttributeError\u001b[0m                            Traceback (most recent call last)",
      "Input \u001b[1;32mIn [60]\u001b[0m, in \u001b[0;36m<cell line: 9>\u001b[1;34m()\u001b[0m\n\u001b[0;32m      7\u001b[0m         \u001b[38;5;28mself\u001b[39m\u001b[38;5;241m.\u001b[39ma \u001b[38;5;241m=\u001b[39m \u001b[38;5;241m50\u001b[39m\n\u001b[0;32m      8\u001b[0m o \u001b[38;5;241m=\u001b[39m DeriveClass()\n\u001b[1;32m----> 9\u001b[0m \u001b[43mo\u001b[49m\u001b[38;5;241;43m.\u001b[39;49m\u001b[43mfun\u001b[49m\u001b[43m(\u001b[49m\u001b[43m)\u001b[49m\n",
      "Input \u001b[1;32mIn [60]\u001b[0m, in \u001b[0;36mDeriveClass.fun\u001b[1;34m(self)\u001b[0m\n\u001b[0;32m      5\u001b[0m \u001b[38;5;28;01mdef\u001b[39;00m \u001b[38;5;21mfun\u001b[39m(\u001b[38;5;28mself\u001b[39m):\n\u001b[1;32m----> 6\u001b[0m     \u001b[38;5;28;43msuper\u001b[39;49m\u001b[43m(\u001b[49m\u001b[43mDeriveClass\u001b[49m\u001b[43m,\u001b[49m\u001b[43m \u001b[49m\u001b[38;5;28;43mself\u001b[39;49m\u001b[43m)\u001b[49m\u001b[38;5;241;43m.\u001b[39;49m\u001b[43mfun\u001b[49m\u001b[43m(\u001b[49m\u001b[43m)\u001b[49m\n\u001b[0;32m      7\u001b[0m     \u001b[38;5;28mself\u001b[39m\u001b[38;5;241m.\u001b[39ma \u001b[38;5;241m=\u001b[39m \u001b[38;5;241m50\u001b[39m\n",
      "Input \u001b[1;32mIn [60]\u001b[0m, in \u001b[0;36mMyclass.fun\u001b[1;34m(self)\u001b[0m\n\u001b[0;32m      2\u001b[0m \u001b[38;5;28;01mdef\u001b[39;00m \u001b[38;5;21mfun\u001b[39m(\u001b[38;5;28mself\u001b[39m):\n\u001b[1;32m----> 3\u001b[0m     \u001b[38;5;28mprint\u001b[39m(\u001b[38;5;28;43mself\u001b[39;49m\u001b[38;5;241;43m.\u001b[39;49m\u001b[43ma\u001b[49m)\n",
      "\u001b[1;31mAttributeError\u001b[0m: 'DeriveClass' object has no attribute 'a'"
     ]
    }
   ],
   "source": [
    "class Myclass(object):\n",
    "    def fun(self):\n",
    "        print(self.a)\n",
    "class DeriveClass(Myclass):\n",
    "    def fun(self):\n",
    "        super(DeriveClass, self).fun()\n",
    "        self.a = 50\n",
    "o = DeriveClass()\n",
    "o.fun()"
   ]
  },
  {
   "cell_type": "code",
   "execution_count": 61,
   "id": "23a8ff33",
   "metadata": {},
   "outputs": [
    {
     "name": "stdout",
     "output_type": "stream",
     "text": [
      "I am from C\n"
     ]
    }
   ],
   "source": [
    "class A:\n",
    "    def myfun(self):\n",
    "        return \"I am from A\"\n",
    "class B(A):\n",
    "    def myfun(self):\n",
    "        return \"I am from B\"\n",
    "class C(B):\n",
    "    def myfun(self):\n",
    "        return \"I am from C\"\n",
    "o = C()\n",
    "print(o.myfun())\n"
   ]
  },
  {
   "cell_type": "code",
   "execution_count": null,
   "id": "3a547ae7",
   "metadata": {},
   "outputs": [],
   "source": [
    "class A:\n",
    "    def myfun(self):\n",
    "        return \"I am from A\"\n",
    "class B(A):\n",
    "    def myfun(self):\n",
    "        return \"I am from B\"\n",
    "class C(B):\n",
    "    def myfun(self):\n",
    "        return super().myfun()\n",
    "        return \"I am from C\"\n",
    "o = C()\n",
    "print(o.myfun())\n"
   ]
  }
 ],
 "metadata": {
  "kernelspec": {
   "display_name": "Python 3 (ipykernel)",
   "language": "python",
   "name": "python3"
  },
  "language_info": {
   "codemirror_mode": {
    "name": "ipython",
    "version": 3
   },
   "file_extension": ".py",
   "mimetype": "text/x-python",
   "name": "python",
   "nbconvert_exporter": "python",
   "pygments_lexer": "ipython3",
   "version": "3.10.8"
  }
 },
 "nbformat": 4,
 "nbformat_minor": 5
}
