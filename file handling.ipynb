{
 "cells": [
  {
   "cell_type": "code",
   "execution_count": 1,
   "id": "f3049c03",
   "metadata": {},
   "outputs": [
    {
     "ename": "FileNotFoundError",
     "evalue": "[Errno 2] No such file or directory: 'aa.txt'",
     "output_type": "error",
     "traceback": [
      "\u001b[1;31m---------------------------------------------------------------------------\u001b[0m",
      "\u001b[1;31mFileNotFoundError\u001b[0m                         Traceback (most recent call last)",
      "Input \u001b[1;32mIn [1]\u001b[0m, in \u001b[0;36m<cell line: 1>\u001b[1;34m()\u001b[0m\n\u001b[1;32m----> 1\u001b[0m f \u001b[38;5;241m=\u001b[39m \u001b[38;5;28;43mopen\u001b[39;49m\u001b[43m(\u001b[49m\u001b[38;5;124;43m\"\u001b[39;49m\u001b[38;5;124;43maa.txt\u001b[39;49m\u001b[38;5;124;43m\"\u001b[39;49m\u001b[43m)\u001b[49m\n",
      "\u001b[1;31mFileNotFoundError\u001b[0m: [Errno 2] No such file or directory: 'aa.txt'"
     ]
    }
   ],
   "source": [
    "f = open(\"aa.txt\")"
   ]
  },
  {
   "cell_type": "code",
   "execution_count": 2,
   "id": "55658d76",
   "metadata": {},
   "outputs": [],
   "source": [
    "import os"
   ]
  },
  {
   "cell_type": "code",
   "execution_count": 3,
   "id": "5acbfd9f",
   "metadata": {},
   "outputs": [
    {
     "name": "stdout",
     "output_type": "stream",
     "text": [
      "['DirEntry', 'F_OK', 'GenericAlias', 'Mapping', 'MutableMapping', 'O_APPEND', 'O_BINARY', 'O_CREAT', 'O_EXCL', 'O_NOINHERIT', 'O_RANDOM', 'O_RDONLY', 'O_RDWR', 'O_SEQUENTIAL', 'O_SHORT_LIVED', 'O_TEMPORARY', 'O_TEXT', 'O_TRUNC', 'O_WRONLY', 'P_DETACH', 'P_NOWAIT', 'P_NOWAITO', 'P_OVERLAY', 'P_WAIT', 'PathLike', 'R_OK', 'SEEK_CUR', 'SEEK_END', 'SEEK_SET', 'TMP_MAX', 'W_OK', 'X_OK', '_AddedDllDirectory', '_Environ', '__all__', '__builtins__', '__cached__', '__doc__', '__file__', '__loader__', '__name__', '__package__', '__spec__', '_check_methods', '_execvpe', '_exists', '_exit', '_fspath', '_get_exports_list', '_walk', '_wrap_close', 'abc', 'abort', 'access', 'add_dll_directory', 'altsep', 'chdir', 'chmod', 'close', 'closerange', 'cpu_count', 'curdir', 'defpath', 'device_encoding', 'devnull', 'dup', 'dup2', 'environ', 'error', 'execl', 'execle', 'execlp', 'execlpe', 'execv', 'execve', 'execvp', 'execvpe', 'extsep', 'fdopen', 'fsdecode', 'fsencode', 'fspath', 'fstat', 'fsync', 'ftruncate', 'get_exec_path', 'get_handle_inheritable', 'get_inheritable', 'get_terminal_size', 'getcwd', 'getcwdb', 'getenv', 'getlogin', 'getpid', 'getppid', 'isatty', 'kill', 'linesep', 'link', 'listdir', 'lseek', 'lstat', 'makedirs', 'mkdir', 'name', 'open', 'pardir', 'path', 'pathsep', 'pipe', 'popen', 'putenv', 'read', 'readlink', 'remove', 'removedirs', 'rename', 'renames', 'replace', 'rmdir', 'scandir', 'sep', 'set_handle_inheritable', 'set_inheritable', 'spawnl', 'spawnle', 'spawnv', 'spawnve', 'st', 'startfile', 'stat', 'stat_result', 'statvfs_result', 'strerror', 'supports_bytes_environ', 'supports_dir_fd', 'supports_effective_ids', 'supports_fd', 'supports_follow_symlinks', 'symlink', 'sys', 'system', 'terminal_size', 'times', 'times_result', 'truncate', 'umask', 'uname_result', 'unlink', 'unsetenv', 'urandom', 'utime', 'waitpid', 'waitstatus_to_exitcode', 'walk', 'write']\n"
     ]
    }
   ],
   "source": [
    "print(dir(os))"
   ]
  },
  {
   "cell_type": "code",
   "execution_count": 4,
   "id": "0f5dd539",
   "metadata": {},
   "outputs": [
    {
     "name": "stdout",
     "output_type": "stream",
     "text": [
      "C:\\Users\\pytho\\OneDrive\\Desktop\\class\\git\\batch03\n"
     ]
    }
   ],
   "source": [
    "print(os.getcwd())"
   ]
  },
  {
   "cell_type": "code",
   "execution_count": 6,
   "id": "12488103",
   "metadata": {},
   "outputs": [
    {
     "name": "stdout",
     "output_type": "stream",
     "text": [
      "True\n"
     ]
    }
   ],
   "source": [
    "print(os.path.exists(\"first.py\"))"
   ]
  },
  {
   "cell_type": "code",
   "execution_count": 7,
   "id": "d8c02289",
   "metadata": {},
   "outputs": [
    {
     "name": "stdout",
     "output_type": "stream",
     "text": [
      "False\n"
     ]
    }
   ],
   "source": [
    "print(os.path.exists(\"first1.py\"))"
   ]
  },
  {
   "cell_type": "code",
   "execution_count": null,
   "id": "676b635e",
   "metadata": {},
   "outputs": [],
   "source": [
    "os.path?"
   ]
  },
  {
   "cell_type": "code",
   "execution_count": 9,
   "id": "c11fac17",
   "metadata": {},
   "outputs": [
    {
     "name": "stdout",
     "output_type": "stream",
     "text": [
      "13\n"
     ]
    }
   ],
   "source": [
    "print(13)"
   ]
  },
  {
   "cell_type": "code",
   "execution_count": 10,
   "id": "cfe6b02f",
   "metadata": {},
   "outputs": [
    {
     "name": "stdout",
     "output_type": "stream",
     "text": [
      "15\n"
     ]
    }
   ],
   "source": [
    "print(15)"
   ]
  },
  {
   "cell_type": "code",
   "execution_count": 11,
   "id": "6e315373",
   "metadata": {},
   "outputs": [
    {
     "name": "stdout",
     "output_type": "stream",
     "text": [
      "True\n"
     ]
    }
   ],
   "source": [
    "print(os.path.exists(r'C:\\Users\\pytho\\OneDrive\\Desktop\\my photo.jpg'))"
   ]
  },
  {
   "cell_type": "code",
   "execution_count": 12,
   "id": "8f8078c7",
   "metadata": {},
   "outputs": [
    {
     "name": "stdout",
     "output_type": "stream",
     "text": [
      "False\n"
     ]
    }
   ],
   "source": [
    "print(os.path.exists(r'my photo.jpg'))"
   ]
  },
  {
   "cell_type": "code",
   "execution_count": 13,
   "id": "f6bbdee5",
   "metadata": {},
   "outputs": [
    {
     "name": "stdout",
     "output_type": "stream",
     "text": [
      "True\n"
     ]
    }
   ],
   "source": [
    "print(os.path.exists(r'..\\..\\..\\my photo.jpg'))"
   ]
  },
  {
   "cell_type": "code",
   "execution_count": 14,
   "id": "782eb689",
   "metadata": {},
   "outputs": [
    {
     "name": "stdout",
     "output_type": "stream",
     "text": [
      "C:\\Users\\pytho\\OneDrive\\Desktop\n"
     ]
    }
   ],
   "source": [
    "print(os.path.dirname(r'C:\\Users\\pytho\\OneDrive\\Desktop\\my photo.jpg'))"
   ]
  },
  {
   "cell_type": "code",
   "execution_count": 15,
   "id": "7ff34e34",
   "metadata": {},
   "outputs": [
    {
     "name": "stdout",
     "output_type": "stream",
     "text": [
      "my photo.jpg\n"
     ]
    }
   ],
   "source": [
    "print(os.path.basename(r'C:\\Users\\pytho\\OneDrive\\Desktop\\my photo.jpg'))"
   ]
  },
  {
   "cell_type": "code",
   "execution_count": 16,
   "id": "40933f37",
   "metadata": {},
   "outputs": [
    {
     "name": "stdout",
     "output_type": "stream",
     "text": [
      "True\n"
     ]
    }
   ],
   "source": [
    "print(os.path.isfile(r'C:\\Users\\pytho\\OneDrive\\Desktop\\my photo.jpg'))"
   ]
  },
  {
   "cell_type": "code",
   "execution_count": 17,
   "id": "43466b7a",
   "metadata": {},
   "outputs": [
    {
     "name": "stdout",
     "output_type": "stream",
     "text": [
      "False\n"
     ]
    }
   ],
   "source": [
    "print(os.path.isdir(r'C:\\Users\\pytho\\OneDrive\\Desktop\\my photo.jpg'))"
   ]
  },
  {
   "cell_type": "code",
   "execution_count": 18,
   "id": "b550d732",
   "metadata": {},
   "outputs": [
    {
     "name": "stdout",
     "output_type": "stream",
     "text": [
      "True\n"
     ]
    }
   ],
   "source": [
    "print(os.path.isdir(r'C:\\Users\\pytho\\OneDrive\\Desktop'))"
   ]
  },
  {
   "cell_type": "code",
   "execution_count": 19,
   "id": "31bee7e3",
   "metadata": {},
   "outputs": [
    {
     "name": "stdout",
     "output_type": "stream",
     "text": [
      "['.git', '.ipynb_checkpoints', 'assignment.py', 'class_data.txt', 'condition', 'conditions.ipynb', 'file handling.ipynb', 'first.py', 'input.py', 'int_arth.py', 'LICENSE', 'output.py', 'rel_int.py', 'special.ipynb', 'Untitled.ipynb', 'Untitled1.ipynb', 'variables.ipynb']\n"
     ]
    }
   ],
   "source": [
    "print(os.listdir(\".\"))"
   ]
  },
  {
   "cell_type": "code",
   "execution_count": 22,
   "id": "284d706d",
   "metadata": {},
   "outputs": [
    {
     "name": "stdout",
     "output_type": "stream",
     "text": [
      "['.849C9593-D756-4E56-8D6E-42412F2A707B', 'Desktop', 'desktop.ini', 'Documents', 'Getting started with OneDrive.pdf', 'Pictures']\n"
     ]
    }
   ],
   "source": [
    "print(os.listdir(r\"C:\\Users\\pytho\\OneDrive\"))"
   ]
  },
  {
   "cell_type": "code",
   "execution_count": 23,
   "id": "a14f0d99",
   "metadata": {},
   "outputs": [
    {
     "name": "stdout",
     "output_type": "stream",
     "text": [
      "C:\\Users\\pytho\\OneDrive\\.849C9593-D756-4E56-8D6E-42412F2A707B\n",
      "yes it is a file C:\\Users\\pytho\\OneDrive\\.849C9593-D756-4E56-8D6E-42412F2A707B\n",
      "C:\\Users\\pytho\\OneDrive\\Desktop\n",
      "C:\\Users\\pytho\\OneDrive\\desktop.ini\n",
      "yes it is a file C:\\Users\\pytho\\OneDrive\\desktop.ini\n",
      "C:\\Users\\pytho\\OneDrive\\Documents\n",
      "C:\\Users\\pytho\\OneDrive\\Getting started with OneDrive.pdf\n",
      "yes it is a file C:\\Users\\pytho\\OneDrive\\Getting started with OneDrive.pdf\n",
      "C:\\Users\\pytho\\OneDrive\\Pictures\n"
     ]
    }
   ],
   "source": [
    "p = r\"C:\\Users\\pytho\\OneDrive\"\n",
    "ls = os.listdir(r\"C:\\Users\\pytho\\OneDrive\")\n",
    "for x in ls:\n",
    "    file = os.path.join(p, x)\n",
    "    print(file)\n",
    "    if os.path.isfile(file):\n",
    "        print(\"yes it is a file\", file)"
   ]
  },
  {
   "cell_type": "code",
   "execution_count": 24,
   "id": "41996bb7",
   "metadata": {},
   "outputs": [
    {
     "name": "stdout",
     "output_type": "stream",
     "text": [
      "0\n"
     ]
    }
   ],
   "source": [
    "#local machine ----> os.system, subprocess(module)\n",
    "#remote machine -----> paramiko(module)\n",
    "res = os.system('ipconfig')\n",
    "print(res)"
   ]
  },
  {
   "cell_type": "code",
   "execution_count": 25,
   "id": "ce4c16b3",
   "metadata": {},
   "outputs": [
    {
     "name": "stdout",
     "output_type": "stream",
     "text": [
      "Help on built-in function system in module nt:\n",
      "\n",
      "system(command)\n",
      "    Execute the command in a subshell.\n",
      "\n",
      "None\n"
     ]
    }
   ],
   "source": [
    "print(help(os.system))"
   ]
  },
  {
   "cell_type": "code",
   "execution_count": 41,
   "id": "219dfe49",
   "metadata": {},
   "outputs": [],
   "source": [
    "import subprocess\n",
    "res = subprocess.run([\"powershell\", \"ipconfig\"], shell=True)"
   ]
  },
  {
   "cell_type": "code",
   "execution_count": 42,
   "id": "7d1eabb6",
   "metadata": {},
   "outputs": [
    {
     "name": "stdout",
     "output_type": "stream",
     "text": [
      "CompletedProcess(args=['powershell', 'ipconfig'], returncode=0)\n"
     ]
    }
   ],
   "source": [
    "print(res)"
   ]
  },
  {
   "cell_type": "code",
   "execution_count": 43,
   "id": "5fc8fcbc",
   "metadata": {},
   "outputs": [
    {
     "name": "stdout",
     "output_type": "stream",
     "text": [
      "['__class__', '__class_getitem__', '__delattr__', '__dict__', '__dir__', '__doc__', '__eq__', '__format__', '__ge__', '__getattribute__', '__gt__', '__hash__', '__init__', '__init_subclass__', '__le__', '__lt__', '__module__', '__ne__', '__new__', '__reduce__', '__reduce_ex__', '__repr__', '__setattr__', '__sizeof__', '__str__', '__subclasshook__', '__weakref__', 'args', 'check_returncode', 'returncode', 'stderr', 'stdout']\n"
     ]
    }
   ],
   "source": [
    "print(dir(res))"
   ]
  },
  {
   "cell_type": "code",
   "execution_count": 44,
   "id": "0b374a8e",
   "metadata": {},
   "outputs": [
    {
     "name": "stdout",
     "output_type": "stream",
     "text": [
      "None\n"
     ]
    }
   ],
   "source": [
    "print(res.stdout)"
   ]
  },
  {
   "cell_type": "code",
   "execution_count": 40,
   "id": "116045e4",
   "metadata": {},
   "outputs": [
    {
     "name": "stdout",
     "output_type": "stream",
     "text": [
      "0\n"
     ]
    }
   ],
   "source": [
    "print(os.system(\"ipconfig\"))"
   ]
  },
  {
   "cell_type": "code",
   "execution_count": 51,
   "id": "ee2e1d4c",
   "metadata": {},
   "outputs": [
    {
     "name": "stdout",
     "output_type": "stream",
     "text": [
      "b'\\r\\nWindows IP Configuration\\r\\n\\r\\n\\r\\nEthernet adapter Ethernet:\\r\\n\\r\\n   Media State . . . . . . . . . . . : Media disconnected\\r\\n   Connection-specific DNS Suffix  . : \\r\\n\\r\\nEthernet adapter VirtualBox Host-Only Network:\\r\\n\\r\\n   Connection-specific DNS Suffix  . : \\r\\n   Link-local IPv6 Address . . . . . : fe80::2902:a27d:665b:e1e2%11\\r\\n   IPv4 Address. . . . . . . . . . . : 192.168.56.1\\r\\n   Subnet Mask . . . . . . . . . . . : 255.255.255.0\\r\\n   Default Gateway . . . . . . . . . : \\r\\n\\r\\nWireless LAN adapter Local Area Connection* 1:\\r\\n\\r\\n   Media State . . . . . . . . . . . : Media disconnected\\r\\n   Connection-specific DNS Suffix  . : \\r\\n\\r\\nWireless LAN adapter Local Area Connection* 2:\\r\\n\\r\\n   Media State . . . . . . . . . . . : Media disconnected\\r\\n   Connection-specific DNS Suffix  . : \\r\\n\\r\\nWireless LAN adapter Wi-Fi:\\r\\n\\r\\n   Connection-specific DNS Suffix  . : \\r\\n   Link-local IPv6 Address . . . . . : fe80::d8a0:9adf:8a60:ab50%9\\r\\n   IPv4 Address. . . . . . . . . . . : 192.168.1.100\\r\\n   Subnet Mask . . . . . . . . . . . : 255.255.255.0\\r\\n   Default Gateway . . . . . . . . . : 192.168.1.1\\r\\n'\n"
     ]
    }
   ],
   "source": [
    "import subprocess\n",
    "res = subprocess.check_output([\"ipconfig\"])\n",
    "print(res)"
   ]
  },
  {
   "cell_type": "code",
   "execution_count": 53,
   "id": "f6116a32",
   "metadata": {},
   "outputs": [],
   "source": [
    "res = res.decode(\"utf-8\")"
   ]
  },
  {
   "cell_type": "code",
   "execution_count": 54,
   "id": "caba9d09",
   "metadata": {},
   "outputs": [
    {
     "name": "stdout",
     "output_type": "stream",
     "text": [
      "\r\n",
      "Windows IP Configuration\r\n",
      "\r\n",
      "\r\n",
      "Ethernet adapter Ethernet:\r\n",
      "\r\n",
      "   Media State . . . . . . . . . . . : Media disconnected\r\n",
      "   Connection-specific DNS Suffix  . : \r\n",
      "\r\n",
      "Ethernet adapter VirtualBox Host-Only Network:\r\n",
      "\r\n",
      "   Connection-specific DNS Suffix  . : \r\n",
      "   Link-local IPv6 Address . . . . . : fe80::2902:a27d:665b:e1e2%11\r\n",
      "   IPv4 Address. . . . . . . . . . . : 192.168.56.1\r\n",
      "   Subnet Mask . . . . . . . . . . . : 255.255.255.0\r\n",
      "   Default Gateway . . . . . . . . . : \r\n",
      "\r\n",
      "Wireless LAN adapter Local Area Connection* 1:\r\n",
      "\r\n",
      "   Media State . . . . . . . . . . . : Media disconnected\r\n",
      "   Connection-specific DNS Suffix  . : \r\n",
      "\r\n",
      "Wireless LAN adapter Local Area Connection* 2:\r\n",
      "\r\n",
      "   Media State . . . . . . . . . . . : Media disconnected\r\n",
      "   Connection-specific DNS Suffix  . : \r\n",
      "\r\n",
      "Wireless LAN adapter Wi-Fi:\r\n",
      "\r\n",
      "   Connection-specific DNS Suffix  . : \r\n",
      "   Link-local IPv6 Address . . . . . : fe80::d8a0:9adf:8a60:ab50%9\r\n",
      "   IPv4 Address. . . . . . . . . . . : 192.168.1.100\r\n",
      "   Subnet Mask . . . . . . . . . . . : 255.255.255.0\r\n",
      "   Default Gateway . . . . . . . . . : 192.168.1.1\r\n",
      "\n"
     ]
    }
   ],
   "source": [
    "print(res)"
   ]
  },
  {
   "cell_type": "code",
   "execution_count": 55,
   "id": "e1b357bc",
   "metadata": {},
   "outputs": [
    {
     "name": "stdout",
     "output_type": "stream",
     "text": [
      "['', 'Windows IP Configuration', '', '', 'Ethernet adapter Ethernet:', '', '   Media State . . . . . . . . . . . : Media disconnected', '   Connection-specific DNS Suffix  . : ', '', 'Ethernet adapter VirtualBox Host-Only Network:', '', '   Connection-specific DNS Suffix  . : ', '   Link-local IPv6 Address . . . . . : fe80::2902:a27d:665b:e1e2%11', '   IPv4 Address. . . . . . . . . . . : 192.168.56.1', '   Subnet Mask . . . . . . . . . . . : 255.255.255.0', '   Default Gateway . . . . . . . . . : ', '', 'Wireless LAN adapter Local Area Connection* 1:', '', '   Media State . . . . . . . . . . . : Media disconnected', '   Connection-specific DNS Suffix  . : ', '', 'Wireless LAN adapter Local Area Connection* 2:', '', '   Media State . . . . . . . . . . . : Media disconnected', '   Connection-specific DNS Suffix  . : ', '', 'Wireless LAN adapter Wi-Fi:', '', '   Connection-specific DNS Suffix  . : ', '   Link-local IPv6 Address . . . . . : fe80::d8a0:9adf:8a60:ab50%9', '   IPv4 Address. . . . . . . . . . . : 192.168.1.100', '   Subnet Mask . . . . . . . . . . . : 255.255.255.0', '   Default Gateway . . . . . . . . . : 192.168.1.1', '']\n"
     ]
    }
   ],
   "source": [
    "print(res.split(\"\\r\\n\"))"
   ]
  },
  {
   "cell_type": "code",
   "execution_count": 57,
   "id": "911c8964",
   "metadata": {},
   "outputs": [],
   "source": [
    "data = res.split(\"\\r\\n\")"
   ]
  },
  {
   "cell_type": "code",
   "execution_count": 59,
   "id": "5714c354",
   "metadata": {},
   "outputs": [
    {
     "name": "stdout",
     "output_type": "stream",
     "text": [
      "192.168.1.100\n"
     ]
    }
   ],
   "source": [
    "flag = False\n",
    "for x in data:\n",
    "    if x == \"Wireless LAN adapter Wi-Fi:\":\n",
    "        flag = True\n",
    "        continue\n",
    "    elif not flag:\n",
    "        continue\n",
    "    if x.strip().startswith(\"IPv4\"):\n",
    "        print(x.split(\":\")[-1].strip())"
   ]
  },
  {
   "cell_type": "code",
   "execution_count": 60,
   "id": "27aa5ba8",
   "metadata": {},
   "outputs": [
    {
     "name": "stdout",
     "output_type": "stream",
     "text": [
      "['', 'Windows IP Configuration', '', '', 'Ethernet adapter Ethernet:', '', '   Media State . . . . . . . . . . . : Media disconnected', '   Connection-specific DNS Suffix  . : ', '', 'Ethernet adapter VirtualBox Host-Only Network:', '', '   Connection-specific DNS Suffix  . : ', '   Link-local IPv6 Address . . . . . : fe80::2902:a27d:665b:e1e2%11', '   IPv4 Address. . . . . . . . . . . : 192.168.56.1', '   Subnet Mask . . . . . . . . . . . : 255.255.255.0', '   Default Gateway . . . . . . . . . : ', '', 'Wireless LAN adapter Local Area Connection* 1:', '', '   Media State . . . . . . . . . . . : Media disconnected', '   Connection-specific DNS Suffix  . : ', '', 'Wireless LAN adapter Local Area Connection* 2:', '', '   Media State . . . . . . . . . . . : Media disconnected', '   Connection-specific DNS Suffix  . : ', '', 'Wireless LAN adapter Wi-Fi:', '', '   Connection-specific DNS Suffix  . : ', '   Link-local IPv6 Address . . . . . : fe80::d8a0:9adf:8a60:ab50%9', '   IPv4 Address. . . . . . . . . . . : 192.168.1.100', '   Subnet Mask . . . . . . . . . . . : 255.255.255.0', '   Default Gateway . . . . . . . . . : 192.168.1.1', '']\n"
     ]
    }
   ],
   "source": [
    "print(data)"
   ]
  },
  {
   "cell_type": "code",
   "execution_count": 61,
   "id": "0bb796af",
   "metadata": {},
   "outputs": [
    {
     "name": "stdout",
     "output_type": "stream",
     "text": [
      "['', '   Connection-specific DNS Suffix  . : ', '   Link-local IPv6 Address . . . . . : fe80::d8a0:9adf:8a60:ab50%9', '   IPv4 Address. . . . . . . . . . . : 192.168.1.100', '   Subnet Mask . . . . . . . . . . . : 255.255.255.0', '   Default Gateway . . . . . . . . . : 192.168.1.1', '']\n"
     ]
    }
   ],
   "source": [
    "ind = data.index(\"Wireless LAN adapter Wi-Fi:\")\n",
    "data1 = data[ind+1: ]\n",
    "print(data1)"
   ]
  },
  {
   "cell_type": "code",
   "execution_count": 62,
   "id": "5b573d58",
   "metadata": {},
   "outputs": [
    {
     "name": "stdout",
     "output_type": "stream",
     "text": [
      " 192.168.1.100\n"
     ]
    }
   ],
   "source": [
    "for x in data1:\n",
    "    if x.strip().startswith(\"IPv4\"):\n",
    "        print(x.split(\":\")[1])\n",
    "        break\n",
    "        "
   ]
  },
  {
   "cell_type": "code",
   "execution_count": 66,
   "id": "3736afce",
   "metadata": {},
   "outputs": [
    {
     "name": "stdout",
     "output_type": "stream",
     "text": [
      "['10', '20', '30']\n"
     ]
    }
   ],
   "source": [
    "s = \"10@20@30\"\n",
    "initial = 0\n",
    "l = len(s)\n",
    "res = []\n",
    "for x in range(l):\n",
    "    if s[x] == \"@\":\n",
    "        res.append(s[initial:x])\n",
    "        initial = x+1\n",
    "res.append(s[initial:])\n",
    "print(res)\n",
    "    "
   ]
  },
  {
   "cell_type": "code",
   "execution_count": 67,
   "id": "23fe1de0",
   "metadata": {},
   "outputs": [
    {
     "name": "stdout",
     "output_type": "stream",
     "text": [
      "a\n"
     ]
    }
   ],
   "source": [
    "print(chr(97))"
   ]
  },
  {
   "cell_type": "code",
   "execution_count": 68,
   "id": "326e50c7",
   "metadata": {},
   "outputs": [
    {
     "name": "stdout",
     "output_type": "stream",
     "text": [
      "97\n"
     ]
    }
   ],
   "source": [
    "print(ord('a'))"
   ]
  },
  {
   "cell_type": "code",
   "execution_count": 70,
   "id": "6b4055ec",
   "metadata": {},
   "outputs": [
    {
     "name": "stdout",
     "output_type": "stream",
     "text": [
      "{'a': 1, 'b': 2, 'c': 3, 'd': 4, 'e': 5, 'f': 6, 'g': 7, 'h': 8, 'i': 9, 'j': 10, 'k': 11, 'l': 12, 'm': 13, 'n': 14, 'o': 15, 'p': 16, 'q': 17, 'r': 18, 's': 19, 't': 20, 'u': 21, 'v': 22, 'w': 23, 'x': 24, 'y': 25, 'z': 26}\n"
     ]
    }
   ],
   "source": [
    "d = {}\n",
    "start = ord('a')\n",
    "for x in range(97, 97+26):\n",
    "    d[chr(x)] = x-96\n",
    "print(d)"
   ]
  },
  {
   "cell_type": "code",
   "execution_count": 1,
   "id": "00085d23",
   "metadata": {},
   "outputs": [
    {
     "name": "stdout",
     "output_type": "stream",
     "text": [
      "C:\\Users\\pytho\\OneDrive\\Desktop\\class\\git\\batch03\n"
     ]
    }
   ],
   "source": [
    "import os\n",
    "print(os.getcwd())"
   ]
  },
  {
   "cell_type": "code",
   "execution_count": 2,
   "id": "fe431310",
   "metadata": {},
   "outputs": [
    {
     "name": "stdout",
     "output_type": "stream",
     "text": [
      "<_io.TextIOWrapper name='sample.txt' mode='w' encoding='cp1252'>\n"
     ]
    }
   ],
   "source": [
    "f = open(\"sample.txt\", \"w\")\n",
    "print(f)"
   ]
  },
  {
   "cell_type": "code",
   "execution_count": 3,
   "id": "8510b7c1",
   "metadata": {},
   "outputs": [],
   "source": [
    "f.write(\"Hello VNS\")\n",
    "f.close()"
   ]
  },
  {
   "cell_type": "code",
   "execution_count": 4,
   "id": "827f725d",
   "metadata": {},
   "outputs": [],
   "source": [
    "f = open(\"sample.txt\", \"w\")"
   ]
  },
  {
   "cell_type": "code",
   "execution_count": 5,
   "id": "c6568d77",
   "metadata": {},
   "outputs": [
    {
     "data": {
      "text/plain": [
       "9"
      ]
     },
     "execution_count": 5,
     "metadata": {},
     "output_type": "execute_result"
    }
   ],
   "source": [
    "f.write(\"Hello VNS\")"
   ]
  },
  {
   "cell_type": "code",
   "execution_count": 6,
   "id": "44f10a12",
   "metadata": {},
   "outputs": [],
   "source": [
    "f.close()"
   ]
  },
  {
   "cell_type": "code",
   "execution_count": 7,
   "id": "d58ff6eb",
   "metadata": {},
   "outputs": [
    {
     "data": {
      "text/plain": [
       "9"
      ]
     },
     "execution_count": 7,
     "metadata": {},
     "output_type": "execute_result"
    }
   ],
   "source": [
    "f = open(\"sample.txt\", \"w\")\n",
    "f.write(\"Hello VNS\")"
   ]
  },
  {
   "cell_type": "code",
   "execution_count": 8,
   "id": "b846fb71",
   "metadata": {},
   "outputs": [],
   "source": [
    "f.flush()"
   ]
  },
  {
   "cell_type": "code",
   "execution_count": 9,
   "id": "df1e4ab0",
   "metadata": {},
   "outputs": [
    {
     "data": {
      "text/plain": [
       "10"
      ]
     },
     "execution_count": 9,
     "metadata": {},
     "output_type": "execute_result"
    }
   ],
   "source": [
    "f.write(\"Hello VNS1\")"
   ]
  },
  {
   "cell_type": "code",
   "execution_count": 10,
   "id": "ef1ee2c8",
   "metadata": {},
   "outputs": [],
   "source": [
    "f.flush()"
   ]
  },
  {
   "cell_type": "code",
   "execution_count": 11,
   "id": "f6a5ac61",
   "metadata": {},
   "outputs": [],
   "source": [
    "f.write(\"\\nHello VNS1\")\n",
    "f.close()"
   ]
  },
  {
   "cell_type": "code",
   "execution_count": 12,
   "id": "9e9bbb63",
   "metadata": {},
   "outputs": [
    {
     "name": "stdout",
     "output_type": "stream",
     "text": [
      "w\n"
     ]
    }
   ],
   "source": [
    "print(f.mode)"
   ]
  },
  {
   "cell_type": "code",
   "execution_count": 13,
   "id": "c2536106",
   "metadata": {},
   "outputs": [
    {
     "ename": "TypeError",
     "evalue": "write() argument must be str, not int",
     "output_type": "error",
     "traceback": [
      "\u001b[1;31m---------------------------------------------------------------------------\u001b[0m",
      "\u001b[1;31mTypeError\u001b[0m                                 Traceback (most recent call last)",
      "Input \u001b[1;32mIn [13]\u001b[0m, in \u001b[0;36m<cell line: 2>\u001b[1;34m()\u001b[0m\n\u001b[0;32m      1\u001b[0m f \u001b[38;5;241m=\u001b[39m \u001b[38;5;28mopen\u001b[39m(\u001b[38;5;124m\"\u001b[39m\u001b[38;5;124msample.txt\u001b[39m\u001b[38;5;124m\"\u001b[39m, \u001b[38;5;124m\"\u001b[39m\u001b[38;5;124mw\u001b[39m\u001b[38;5;124m\"\u001b[39m)\n\u001b[1;32m----> 2\u001b[0m \u001b[43mf\u001b[49m\u001b[38;5;241;43m.\u001b[39;49m\u001b[43mwrite\u001b[49m\u001b[43m(\u001b[49m\u001b[38;5;241;43m10\u001b[39;49m\u001b[43m)\u001b[49m\n",
      "\u001b[1;31mTypeError\u001b[0m: write() argument must be str, not int"
     ]
    }
   ],
   "source": [
    "f = open(\"sample.txt\", \"w\")\n",
    "f.write(10)"
   ]
  },
  {
   "cell_type": "code",
   "execution_count": 14,
   "id": "3183173d",
   "metadata": {},
   "outputs": [
    {
     "name": "stdout",
     "output_type": "stream",
     "text": [
      "['Hello VNS\\n', 'Hello VNS\\n', 'Hello VNS\\n', 'Hello VNS\\n', 'Hello VNS\\n']\n"
     ]
    }
   ],
   "source": [
    "l = [\"Hello VNS\\n\"]*5\n",
    "print(l)"
   ]
  },
  {
   "cell_type": "code",
   "execution_count": 15,
   "id": "87344230",
   "metadata": {},
   "outputs": [],
   "source": [
    "f = open(\"sample1.txt\", 'w')\n",
    "f.writelines(l) # for x in l: f.write(x)\n",
    "f.close()"
   ]
  },
  {
   "cell_type": "code",
   "execution_count": 16,
   "id": "e63f916f",
   "metadata": {},
   "outputs": [
    {
     "name": "stdout",
     "output_type": "stream",
     "text": [
      "Hello VNS\n",
      "Hello VNS\n",
      "Hello VNS\n",
      "Hello VNS\n",
      "Hello VNS\n",
      "\n"
     ]
    }
   ],
   "source": [
    "f = open(\"sample1.txt\", \"r\")\n",
    "data = f.read()\n",
    "f.close()\n",
    "print(data)"
   ]
  },
  {
   "cell_type": "code",
   "execution_count": 17,
   "id": "ec86a9f1",
   "metadata": {},
   "outputs": [
    {
     "name": "stdout",
     "output_type": "stream",
     "text": [
      "['Hello VNS\\n', 'Hello VNS\\n', 'Hello VNS\\n', 'Hello VNS\\n', 'Hello VNS\\n']\n"
     ]
    }
   ],
   "source": [
    "f = open(\"sample1.txt\", \"r\")\n",
    "data = f.readlines()\n",
    "f.close()\n",
    "print(data)"
   ]
  },
  {
   "cell_type": "code",
   "execution_count": 18,
   "id": "aea75416",
   "metadata": {},
   "outputs": [
    {
     "name": "stdout",
     "output_type": "stream",
     "text": [
      "Hello VNS\n",
      "\n",
      "Hello VNSIT\n",
      "\n",
      "Hello VNS\n",
      "\n",
      "Hello VNSIT\n",
      "\n",
      "Hello VNS\n",
      "\n"
     ]
    }
   ],
   "source": [
    "f = open(\"sample1.txt\", \"r\")\n",
    "data = f.readline()\n",
    "while data:\n",
    "    print(data)\n",
    "    data = f.readline()\n",
    "f.close()"
   ]
  },
  {
   "cell_type": "code",
   "execution_count": 19,
   "id": "bdf7eea6",
   "metadata": {},
   "outputs": [
    {
     "name": "stdout",
     "output_type": "stream",
     "text": [
      "Hello VNS\n",
      "\n",
      "Hello VNSIT\n",
      "\n",
      "Hello VNS\n",
      "\n"
     ]
    }
   ],
   "source": [
    "f = open(\"sample1.txt\", \"r\")\n",
    "data = f.readline()\n",
    "i = 0\n",
    "while i < 3:\n",
    "    print(data)\n",
    "    data = f.readline()\n",
    "    i += 1\n",
    "f.close()"
   ]
  },
  {
   "cell_type": "code",
   "execution_count": 20,
   "id": "17b543e4",
   "metadata": {},
   "outputs": [
    {
     "name": "stdout",
     "output_type": "stream",
     "text": [
      "['_CHUNK_SIZE', '__class__', '__del__', '__delattr__', '__dict__', '__dir__', '__doc__', '__enter__', '__eq__', '__exit__', '__format__', '__ge__', '__getattribute__', '__gt__', '__hash__', '__init__', '__init_subclass__', '__iter__', '__le__', '__lt__', '__ne__', '__new__', '__next__', '__reduce__', '__reduce_ex__', '__repr__', '__setattr__', '__sizeof__', '__str__', '__subclasshook__', '_checkClosed', '_checkReadable', '_checkSeekable', '_checkWritable', '_finalizing', 'buffer', 'close', 'closed', 'detach', 'encoding', 'errors', 'fileno', 'flush', 'isatty', 'line_buffering', 'mode', 'name', 'newlines', 'read', 'readable', 'readline', 'readlines', 'reconfigure', 'seek', 'seekable', 'tell', 'truncate', 'writable', 'write', 'write_through', 'writelines']\n"
     ]
    }
   ],
   "source": [
    "f = open(\"sample1.txt\", \"r\")\n",
    "print(dir(f))"
   ]
  },
  {
   "cell_type": "code",
   "execution_count": 21,
   "id": "3032e37e",
   "metadata": {},
   "outputs": [
    {
     "data": {
      "text/plain": [
       "0"
      ]
     },
     "execution_count": 21,
     "metadata": {},
     "output_type": "execute_result"
    }
   ],
   "source": [
    "f.tell()"
   ]
  },
  {
   "cell_type": "code",
   "execution_count": 22,
   "id": "4fc3ca7c",
   "metadata": {},
   "outputs": [
    {
     "data": {
      "text/plain": [
       "'Hello VNS\\n'"
      ]
     },
     "execution_count": 22,
     "metadata": {},
     "output_type": "execute_result"
    }
   ],
   "source": [
    "f.readline()"
   ]
  },
  {
   "cell_type": "code",
   "execution_count": 23,
   "id": "9410fbec",
   "metadata": {},
   "outputs": [
    {
     "data": {
      "text/plain": [
       "10"
      ]
     },
     "execution_count": 23,
     "metadata": {},
     "output_type": "execute_result"
    }
   ],
   "source": [
    "f.tell()"
   ]
  },
  {
   "cell_type": "code",
   "execution_count": 24,
   "id": "b4b58252",
   "metadata": {},
   "outputs": [
    {
     "data": {
      "text/plain": [
       "5"
      ]
     },
     "execution_count": 24,
     "metadata": {},
     "output_type": "execute_result"
    }
   ],
   "source": [
    "f.seek(5)"
   ]
  },
  {
   "cell_type": "code",
   "execution_count": 25,
   "id": "7d476ef1",
   "metadata": {},
   "outputs": [
    {
     "name": "stdout",
     "output_type": "stream",
     "text": [
      " VNS\n",
      "Hello VNSIT\n",
      "Hello VNS\n",
      "Hello VNSIT\n",
      "Hello VNS\n",
      "\n"
     ]
    }
   ],
   "source": [
    "data = f.read()\n",
    "print(data)\n",
    "f.close()"
   ]
  },
  {
   "cell_type": "code",
   "execution_count": 26,
   "id": "fd66c696",
   "metadata": {},
   "outputs": [
    {
     "name": "stdout",
     "output_type": "stream",
     "text": [
      "False\n",
      "True\n"
     ]
    }
   ],
   "source": [
    "with open(\"sample1.txt\", 'r') as file_obj:\n",
    "    data = file_obj\n",
    "    print(file_obj.closed)\n",
    "print(file_obj.closed)"
   ]
  },
  {
   "cell_type": "code",
   "execution_count": 27,
   "id": "5872ac3a",
   "metadata": {},
   "outputs": [
    {
     "name": "stdout",
     "output_type": "stream",
     "text": [
      "C:\\Users\\pytho\\OneDrive\\Desktop\\class\\git\\batch03\n"
     ]
    }
   ],
   "source": [
    "print(os.getcwd())"
   ]
  },
  {
   "cell_type": "code",
   "execution_count": 28,
   "id": "d6dd7f61",
   "metadata": {},
   "outputs": [
    {
     "name": "stdout",
     "output_type": "stream",
     "text": [
      "C:\\Users\\pytho\\OneDrive\\Desktop\\class\\git\n"
     ]
    }
   ],
   "source": [
    "os.chdir(\"..\")\n",
    "print(os.getcwd())"
   ]
  },
  {
   "cell_type": "code",
   "execution_count": 30,
   "id": "f7e1fe03",
   "metadata": {},
   "outputs": [
    {
     "ename": "FileNotFoundError",
     "evalue": "[Errno 2] No such file or directory: 'sample1.txt'",
     "output_type": "error",
     "traceback": [
      "\u001b[1;31m---------------------------------------------------------------------------\u001b[0m",
      "\u001b[1;31mFileNotFoundError\u001b[0m                         Traceback (most recent call last)",
      "Input \u001b[1;32mIn [30]\u001b[0m, in \u001b[0;36m<cell line: 1>\u001b[1;34m()\u001b[0m\n\u001b[1;32m----> 1\u001b[0m \u001b[38;5;28;01mwith\u001b[39;00m \u001b[38;5;28;43mopen\u001b[39;49m\u001b[43m(\u001b[49m\u001b[38;5;124;43m\"\u001b[39;49m\u001b[38;5;124;43msample1.txt\u001b[39;49m\u001b[38;5;124;43m\"\u001b[39;49m\u001b[43m,\u001b[49m\u001b[43m \u001b[49m\u001b[38;5;124;43m'\u001b[39;49m\u001b[38;5;124;43mr\u001b[39;49m\u001b[38;5;124;43m'\u001b[39;49m\u001b[43m)\u001b[49m \u001b[38;5;28;01mas\u001b[39;00m file_obj:\n\u001b[0;32m      2\u001b[0m     data \u001b[38;5;241m=\u001b[39m file_obj\u001b[38;5;241m.\u001b[39mread()\n\u001b[0;32m      3\u001b[0m     \u001b[38;5;28mprint\u001b[39m(file_obj\u001b[38;5;241m.\u001b[39mclosed)\n",
      "\u001b[1;31mFileNotFoundError\u001b[0m: [Errno 2] No such file or directory: 'sample1.txt'"
     ]
    }
   ],
   "source": [
    "with open(\"sample1.txt\", 'r') as file_obj:\n",
    "    data = file_obj.read()\n",
    "    print(file_obj.closed)\n",
    "print(file_obj.closed)"
   ]
  },
  {
   "cell_type": "code",
   "execution_count": 31,
   "id": "b4001d84",
   "metadata": {},
   "outputs": [
    {
     "name": "stdout",
     "output_type": "stream",
     "text": [
      "False\n",
      "True\n"
     ]
    }
   ],
   "source": [
    "with open(r\"batch03\\sample1.txt\", 'r') as file_obj:\n",
    "    data = file_obj.read()\n",
    "    print(file_obj.closed)\n",
    "print(file_obj.closed)"
   ]
  },
  {
   "cell_type": "code",
   "execution_count": null,
   "id": "0d1effd3",
   "metadata": {},
   "outputs": [],
   "source": []
  }
 ],
 "metadata": {
  "kernelspec": {
   "display_name": "Python 3 (ipykernel)",
   "language": "python",
   "name": "python3"
  },
  "language_info": {
   "codemirror_mode": {
    "name": "ipython",
    "version": 3
   },
   "file_extension": ".py",
   "mimetype": "text/x-python",
   "name": "python",
   "nbconvert_exporter": "python",
   "pygments_lexer": "ipython3",
   "version": "3.10.8"
  }
 },
 "nbformat": 4,
 "nbformat_minor": 5
}
