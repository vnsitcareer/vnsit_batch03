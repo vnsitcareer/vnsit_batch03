{
 "cells": [
  {
   "cell_type": "code",
   "execution_count": null,
   "id": "eab01a79",
   "metadata": {},
   "outputs": [],
   "source": [
    "class Myclass:\n",
    "    a = 10\n",
    "    b = 20\n",
    "    def display(self):\n",
    "        return self.a, self.b"
   ]
  },
  {
   "cell_type": "code",
   "execution_count": 2,
   "id": "c6ab0ef5",
   "metadata": {},
   "outputs": [],
   "source": [
    "class Account:\n",
    "    name = \"xyz\"\n",
    "    bal = 200\n",
    "    def deposit(self, amount):\n",
    "        self.bal += amount\n",
    "    def withdrawl(self, amount):\n",
    "        self.bal -= amount"
   ]
  },
  {
   "cell_type": "code",
   "execution_count": 3,
   "id": "197d5df9",
   "metadata": {},
   "outputs": [
    {
     "name": "stdout",
     "output_type": "stream",
     "text": [
      "<__main__.Account object at 0x000001DDDE42F7F0>\n"
     ]
    }
   ],
   "source": [
    "a1 = Account()\n",
    "print(a1)"
   ]
  },
  {
   "cell_type": "code",
   "execution_count": 4,
   "id": "ff930a94",
   "metadata": {},
   "outputs": [
    {
     "name": "stdout",
     "output_type": "stream",
     "text": [
      "True\n"
     ]
    }
   ],
   "source": [
    "print(isinstance(a1, Account))"
   ]
  },
  {
   "cell_type": "code",
   "execution_count": 5,
   "id": "c5c7b2e9",
   "metadata": {},
   "outputs": [
    {
     "name": "stdout",
     "output_type": "stream",
     "text": [
      "<class '__main__.Account'>\n"
     ]
    }
   ],
   "source": [
    "print(type(a1))"
   ]
  },
  {
   "cell_type": "code",
   "execution_count": 6,
   "id": "0aee96d7",
   "metadata": {},
   "outputs": [
    {
     "name": "stdout",
     "output_type": "stream",
     "text": [
      "<__main__.Account object at 0x000001DDDE42F490>\n"
     ]
    }
   ],
   "source": [
    "a2 = Account()\n",
    "print(a2)"
   ]
  },
  {
   "cell_type": "code",
   "execution_count": 7,
   "id": "0d906ba4",
   "metadata": {},
   "outputs": [
    {
     "name": "stdout",
     "output_type": "stream",
     "text": [
      "200\n"
     ]
    }
   ],
   "source": [
    "print(a1.bal)"
   ]
  },
  {
   "cell_type": "code",
   "execution_count": 9,
   "id": "4d0bf272",
   "metadata": {},
   "outputs": [
    {
     "name": "stdout",
     "output_type": "stream",
     "text": [
      "200\n"
     ]
    }
   ],
   "source": [
    "print(a2.bal)"
   ]
  },
  {
   "cell_type": "code",
   "execution_count": 10,
   "id": "a55f29ee",
   "metadata": {},
   "outputs": [
    {
     "name": "stdout",
     "output_type": "stream",
     "text": [
      "500 500\n",
      "500 1000\n"
     ]
    }
   ],
   "source": [
    "class Account:\n",
    "    def __init__(self):\n",
    "        self.name = \"xyz\"\n",
    "        self.bal = 500\n",
    "a1 = Account()\n",
    "a2 = Account()\n",
    "print(a1.bal, a2.bal)\n",
    "a2.bal = 1000\n",
    "print(a1.bal, a2.bal)"
   ]
  },
  {
   "cell_type": "code",
   "execution_count": 11,
   "id": "20e0fbf7",
   "metadata": {},
   "outputs": [
    {
     "name": "stdout",
     "output_type": "stream",
     "text": [
      "Hello VNS\n",
      "Hello VNS\n"
     ]
    }
   ],
   "source": [
    "class Account:\n",
    "    def __init__(self):\n",
    "        print(\"Hello VNS\")\n",
    "        self.name = \"xyz\"\n",
    "        self.bal = 500\n",
    "a1 = Account()\n",
    "a2 = Account()\n",
    "#print(a1.bal, a2.bal)\n",
    "a2.bal = 1000\n",
    "#print(a1.bal, a2.bal)"
   ]
  },
  {
   "cell_type": "code",
   "execution_count": 14,
   "id": "cc3fa7a5",
   "metadata": {},
   "outputs": [
    {
     "name": "stdout",
     "output_type": "stream",
     "text": [
      "25000 20000\n",
      "25000 22000\n"
     ]
    }
   ],
   "source": [
    "class Account:\n",
    "    def __init__(self, name, bal):\n",
    "        self.name = name\n",
    "        self.bal = bal\n",
    "    def deposit(self, amount):\n",
    "        self.bal += amount\n",
    "        \n",
    "        \n",
    "a1 = Account(\"Nag\", 25000)\n",
    "a2 = Account(\"Nag1\", 20000)\n",
    "print(a1.bal, a2.bal)\n",
    "a2.deposit(2000)\n",
    "print(a1.bal, a2.bal)"
   ]
  },
  {
   "cell_type": "code",
   "execution_count": 15,
   "id": "d2c162d1",
   "metadata": {},
   "outputs": [
    {
     "ename": "AttributeError",
     "evalue": "'Account' object has no attribute 'bal'",
     "output_type": "error",
     "traceback": [
      "\u001b[1;31m---------------------------------------------------------------------------\u001b[0m",
      "\u001b[1;31mAttributeError\u001b[0m                            Traceback (most recent call last)",
      "Input \u001b[1;32mIn [15]\u001b[0m, in \u001b[0;36m<cell line: 14>\u001b[1;34m()\u001b[0m\n\u001b[0;32m     12\u001b[0m a1 \u001b[38;5;241m=\u001b[39m Account(\u001b[38;5;124m\"\u001b[39m\u001b[38;5;124mNag\u001b[39m\u001b[38;5;124m\"\u001b[39m, \u001b[38;5;241m25000\u001b[39m)\n\u001b[0;32m     13\u001b[0m a2 \u001b[38;5;241m=\u001b[39m Account(\u001b[38;5;124m\"\u001b[39m\u001b[38;5;124mNag1\u001b[39m\u001b[38;5;124m\"\u001b[39m, \u001b[38;5;241m20000\u001b[39m)\n\u001b[1;32m---> 14\u001b[0m \u001b[38;5;28mprint\u001b[39m(\u001b[43ma1\u001b[49m\u001b[38;5;241;43m.\u001b[39;49m\u001b[43mbal\u001b[49m, a2\u001b[38;5;241m.\u001b[39mbal)\n\u001b[0;32m     15\u001b[0m a2\u001b[38;5;241m.\u001b[39mdeposit(\u001b[38;5;241m2000\u001b[39m)\n\u001b[0;32m     16\u001b[0m \u001b[38;5;28mprint\u001b[39m(a1\u001b[38;5;241m.\u001b[39mbal, a2\u001b[38;5;241m.\u001b[39mbal)\n",
      "\u001b[1;31mAttributeError\u001b[0m: 'Account' object has no attribute 'bal'"
     ]
    }
   ],
   "source": [
    "class Account:\n",
    "    def __init__(self, name, bal):\n",
    "        self.name = name\n",
    "        self.balance = bal\n",
    "        self.transactions = 0\n",
    "    def deposit(self, amount):\n",
    "        self.balance += amount\n",
    "        self.transactions += 1\n",
    "        \n",
    "        \n",
    "        \n",
    "a1 = Account(\"Nag\", 25000)\n",
    "a2 = Account(\"Nag1\", 20000)\n",
    "print(a1.bal, a2.bal)\n",
    "a2.deposit(2000)\n",
    "print(a1.bal, a2.bal)"
   ]
  },
  {
   "cell_type": "code",
   "execution_count": 16,
   "id": "733b3660",
   "metadata": {},
   "outputs": [
    {
     "name": "stdout",
     "output_type": "stream",
     "text": [
      "25000 20000\n",
      "25000 22000\n"
     ]
    }
   ],
   "source": [
    "class Account:\n",
    "    def __init__(self, name, bal):\n",
    "        self.name = name\n",
    "        self.balance = bal\n",
    "        self.transactions = 0\n",
    "    def deposit(self, amount):\n",
    "        self.balance += amount\n",
    "        self.transactions += 1\n",
    "        \n",
    "        \n",
    "        \n",
    "a1 = Account(\"Nag\", 25000)\n",
    "a2 = Account(\"Nag1\", 20000)\n",
    "print(a1.balance, a2.balance)\n",
    "a2.deposit(2000)\n",
    "print(a1.balance, a2.balance)"
   ]
  },
  {
   "cell_type": "code",
   "execution_count": 17,
   "id": "168d0376",
   "metadata": {},
   "outputs": [
    {
     "name": "stdout",
     "output_type": "stream",
     "text": [
      "<__main__.Account object at 0x000001DDDF6D3040>\n",
      "25000\n",
      "self <__main__.Account object at 0x000001DDDF6D3040>\n",
      "<__main__.Account object at 0x000001DDDF6D3700>\n",
      "self <__main__.Account object at 0x000001DDDF6D3700>\n"
     ]
    }
   ],
   "source": [
    "class Account:\n",
    "    def __init__(self, name, bal):\n",
    "        self.name = name\n",
    "        self.balance = bal\n",
    "        self.transactions = 0\n",
    "    def deposit(self, amount):\n",
    "        print(\"self\", self)\n",
    "        self.balance += amount\n",
    "        self.transactions += 1\n",
    "        \n",
    "        \n",
    "        \n",
    "a1 = Account(\"Nag\", 25000)\n",
    "a2 = Account(\"Nag1\", 20000)\n",
    "print(a1)\n",
    "print(a1.balance)\n",
    "a1.deposit(1000)\n",
    "print(a2)\n",
    "a2.deposit(5000)"
   ]
  },
  {
   "cell_type": "code",
   "execution_count": 18,
   "id": "cc71772f",
   "metadata": {},
   "outputs": [
    {
     "name": "stdout",
     "output_type": "stream",
     "text": [
      "<__main__.Account object at 0x000001DDDF6E7130>\n",
      "25000\n",
      "self <__main__.Account object at 0x000001DDDF6E7130>\n",
      "<__main__.Account object at 0x000001DDDF6E7C10>\n",
      "self <__main__.Account object at 0x000001DDDF6E7C10>\n"
     ]
    }
   ],
   "source": [
    "class Account:\n",
    "    def __init__(self, name, bal):\n",
    "        self.name = name\n",
    "        self.balance = bal\n",
    "        self.transactions = 0\n",
    "    def deposit(c, amount):\n",
    "        print(\"self\", c)\n",
    "        c.balance += amount\n",
    "        c.transactions += 1\n",
    "        \n",
    "        \n",
    "        \n",
    "a1 = Account(\"Nag\", 25000)\n",
    "a2 = Account(\"Nag1\", 20000)\n",
    "print(a1)\n",
    "print(a1.balance)\n",
    "a1.deposit(1000)\n",
    "print(a2)\n",
    "a2.deposit(5000)"
   ]
  },
  {
   "cell_type": "markdown",
   "id": "181ee7d8",
   "metadata": {},
   "source": [
    "# variables"
   ]
  },
  {
   "cell_type": "code",
   "execution_count": 19,
   "id": "0d888a30",
   "metadata": {},
   "outputs": [
    {
     "name": "stdout",
     "output_type": "stream",
     "text": [
      "5 10 10 15\n",
      "5 10 20 25\n"
     ]
    }
   ],
   "source": [
    "class Myclass():\n",
    "    a = 5\n",
    "    b = 10\n",
    "    def __init__(self, c, d):\n",
    "        self.c = c\n",
    "        self.d = d\n",
    "obj1 = Myclass(10, 15)\n",
    "obj2 = Myclass(20, 25)\n",
    "print(obj1.a,obj1.b,obj1.c,obj1.d)\n",
    "print(obj2.a,obj2.b,obj2.c,obj2.d)"
   ]
  },
  {
   "cell_type": "code",
   "execution_count": 20,
   "id": "d20bd8bc",
   "metadata": {},
   "outputs": [
    {
     "name": "stdout",
     "output_type": "stream",
     "text": [
      "5 10 100 15\n",
      "5 10 20 25\n"
     ]
    }
   ],
   "source": [
    "obj1.c = 100\n",
    "print(obj1.a,obj1.b,obj1.c,obj1.d)\n",
    "print(obj2.a,obj2.b,obj2.c,obj2.d)"
   ]
  },
  {
   "cell_type": "code",
   "execution_count": 21,
   "id": "783dee96",
   "metadata": {},
   "outputs": [
    {
     "name": "stdout",
     "output_type": "stream",
     "text": [
      "5 10 100 15\n",
      "5 10 20 200\n"
     ]
    }
   ],
   "source": [
    "obj2.d = 200\n",
    "print(obj1.a,obj1.b,obj1.c,obj1.d)\n",
    "print(obj2.a,obj2.b,obj2.c,obj2.d)"
   ]
  },
  {
   "cell_type": "code",
   "execution_count": 22,
   "id": "f019e929",
   "metadata": {},
   "outputs": [
    {
     "name": "stdout",
     "output_type": "stream",
     "text": [
      "5 10 10 15\n",
      "5 10 20 25\n"
     ]
    }
   ],
   "source": [
    "class Myclass():\n",
    "    a = 5\n",
    "    b = 10\n",
    "    def __init__(self, c, d):\n",
    "        self.c = c\n",
    "        self.d = d\n",
    "obj1 = Myclass(10, 15)\n",
    "obj2 = Myclass(20, 25)\n",
    "print(obj1.a,obj1.b,obj1.c,obj1.d)\n",
    "print(obj2.a,obj2.b,obj2.c,obj2.d)"
   ]
  },
  {
   "cell_type": "code",
   "execution_count": 23,
   "id": "e163f5eb",
   "metadata": {},
   "outputs": [
    {
     "name": "stdout",
     "output_type": "stream",
     "text": [
      "50 10 10 15\n",
      "50 10 20 25\n"
     ]
    }
   ],
   "source": [
    "Myclass.a = 50\n",
    "print(obj1.a,obj1.b,obj1.c,obj1.d)\n",
    "print(obj2.a,obj2.b,obj2.c,obj2.d)"
   ]
  },
  {
   "cell_type": "code",
   "execution_count": 24,
   "id": "b400afcf",
   "metadata": {},
   "outputs": [
    {
     "name": "stdout",
     "output_type": "stream",
     "text": [
      "500 10 10 15\n",
      "50 10 20 25\n"
     ]
    }
   ],
   "source": [
    "obj1.a = 500\n",
    "print(obj1.a,obj1.b,obj1.c,obj1.d)\n",
    "print(obj2.a,obj2.b,obj2.c,obj2.d)"
   ]
  },
  {
   "cell_type": "code",
   "execution_count": 25,
   "id": "c0317556",
   "metadata": {},
   "outputs": [
    {
     "name": "stdout",
     "output_type": "stream",
     "text": [
      "50\n"
     ]
    }
   ],
   "source": [
    "print(Myclass.a)"
   ]
  },
  {
   "cell_type": "code",
   "execution_count": 26,
   "id": "c0353868",
   "metadata": {},
   "outputs": [
    {
     "name": "stdout",
     "output_type": "stream",
     "text": [
      "50\n"
     ]
    }
   ],
   "source": [
    "print(obj2.a)"
   ]
  },
  {
   "cell_type": "code",
   "execution_count": 27,
   "id": "6f5635da",
   "metadata": {},
   "outputs": [
    {
     "name": "stdout",
     "output_type": "stream",
     "text": [
      "50\n"
     ]
    }
   ],
   "source": [
    "obj3 = Myclass(100, 200)\n",
    "print(obj3.a)"
   ]
  },
  {
   "cell_type": "code",
   "execution_count": 29,
   "id": "33680663",
   "metadata": {},
   "outputs": [
    {
     "name": "stdout",
     "output_type": "stream",
     "text": [
      "25000\n",
      "25900\n"
     ]
    }
   ],
   "source": [
    "class Account:\n",
    "    def __init__(self, name, bal):\n",
    "        self.name = name\n",
    "        self.balance = bal\n",
    "        self.transactions = 0\n",
    "    def deposit(self, amount):\n",
    "        self.balance += amount\n",
    "        self.transactions += 1\n",
    "        self.withdrawl(100)\n",
    "    def withdrawl(self, amount):\n",
    "        self.balance -= amount\n",
    "        \n",
    "        \n",
    "        \n",
    "a1 = Account(\"Nag\", 25000)\n",
    "a2 = Account(\"Nag1\", 20000)\n",
    "print(a1.balance)\n",
    "a1.deposit(1000)\n",
    "print(a1.balance)\n"
   ]
  },
  {
   "cell_type": "code",
   "execution_count": 30,
   "id": "02fafeb8",
   "metadata": {},
   "outputs": [
    {
     "name": "stdout",
     "output_type": "stream",
     "text": [
      "<class 'object'>\n"
     ]
    }
   ],
   "source": [
    "print(object)"
   ]
  },
  {
   "cell_type": "code",
   "execution_count": 31,
   "id": "9f58f898",
   "metadata": {},
   "outputs": [
    {
     "name": "stdout",
     "output_type": "stream",
     "text": [
      "1.25\n"
     ]
    }
   ],
   "source": [
    "print(10/8)"
   ]
  },
  {
   "cell_type": "code",
   "execution_count": 32,
   "id": "3179ec9a",
   "metadata": {},
   "outputs": [
    {
     "name": "stdout",
     "output_type": "stream",
     "text": [
      "10/8\n"
     ]
    }
   ],
   "source": [
    "print(\"10/8\")"
   ]
  },
  {
   "cell_type": "code",
   "execution_count": 33,
   "id": "884d642a",
   "metadata": {},
   "outputs": [
    {
     "name": "stdout",
     "output_type": "stream",
     "text": [
      "10/8\n"
     ]
    }
   ],
   "source": [
    "num = 10\n",
    "denom = 8\n",
    "print(f\"{num}/{denom}\")"
   ]
  },
  {
   "cell_type": "code",
   "execution_count": 34,
   "id": "4767aa6e",
   "metadata": {},
   "outputs": [
    {
     "name": "stdout",
     "output_type": "stream",
     "text": [
      "<__main__.Fraction object at 0x000001DDDF6E6350>\n"
     ]
    }
   ],
   "source": [
    "class Fraction:\n",
    "    def __init__(self, num, denom):\n",
    "        self.n = num\n",
    "        self.d = denom\n",
    "    \n",
    "    def display(self):\n",
    "        return f\"{self.n}/{self.d}\"\n",
    "f1 = Fraction(3, 5)\n",
    "print(f1)"
   ]
  },
  {
   "cell_type": "code",
   "execution_count": 35,
   "id": "7d312d93",
   "metadata": {},
   "outputs": [
    {
     "name": "stdout",
     "output_type": "stream",
     "text": [
      "3/5\n"
     ]
    }
   ],
   "source": [
    "print(f1.display())"
   ]
  },
  {
   "cell_type": "code",
   "execution_count": 36,
   "id": "cf781767",
   "metadata": {},
   "outputs": [
    {
     "name": "stdout",
     "output_type": "stream",
     "text": [
      "2/3\n"
     ]
    }
   ],
   "source": [
    "f2 = Fraction(2, 3)\n",
    "print(f2.display())"
   ]
  },
  {
   "cell_type": "code",
   "execution_count": 37,
   "id": "bbdc9420",
   "metadata": {},
   "outputs": [
    {
     "name": "stdout",
     "output_type": "stream",
     "text": [
      "3/5\n"
     ]
    }
   ],
   "source": [
    "class Fraction:\n",
    "    def __init__(self, num, denom):\n",
    "        self.n = num\n",
    "        self.d = denom\n",
    "    \n",
    "    def __str__(self):\n",
    "        return f\"{self.n}/{self.d}\"\n",
    "f1 = Fraction(3, 5)\n",
    "print(f1)"
   ]
  },
  {
   "cell_type": "code",
   "execution_count": 38,
   "id": "725f112b",
   "metadata": {},
   "outputs": [
    {
     "name": "stdout",
     "output_type": "stream",
     "text": [
      "<class '__main__.Fraction'>\n"
     ]
    }
   ],
   "source": [
    "print(type(f1))"
   ]
  },
  {
   "cell_type": "code",
   "execution_count": 39,
   "id": "c502d805",
   "metadata": {},
   "outputs": [
    {
     "name": "stdout",
     "output_type": "stream",
     "text": [
      "19/15\n"
     ]
    }
   ],
   "source": [
    "class Fraction:\n",
    "    def __init__(self, num, denom):\n",
    "        self.n = num\n",
    "        self.d = denom\n",
    "    \n",
    "    def __str__(self):\n",
    "        return f\"{self.n}/{self.d}\"\n",
    "    \n",
    "    def add(self, other):\n",
    "        num = self.n*other.d+other.n*self.d\n",
    "        denom = self.d*other.d\n",
    "        return f\"{num}/{denom}\"\n",
    "f1 = Fraction(3, 5)\n",
    "f2 = Fraction(2, 3)\n",
    "print(f1.add(f2))"
   ]
  },
  {
   "cell_type": "code",
   "execution_count": 40,
   "id": "fb1f3808",
   "metadata": {},
   "outputs": [
    {
     "name": "stdout",
     "output_type": "stream",
     "text": [
      "19/15\n"
     ]
    }
   ],
   "source": [
    "class Fraction:\n",
    "    def __init__(self, num, denom):\n",
    "        self.n = num\n",
    "        self.d = denom\n",
    "    \n",
    "    def __str__(self):\n",
    "        return f\"{self.n}/{self.d}\"\n",
    "    \n",
    "    def __add__(self, other):\n",
    "        num = self.n*other.d+other.n*self.d\n",
    "        denom = self.d*other.d\n",
    "        return f\"{num}/{denom}\"\n",
    "f1 = Fraction(3, 5)\n",
    "f2 = Fraction(2, 3)\n",
    "print(f1+f2)"
   ]
  },
  {
   "cell_type": "code",
   "execution_count": 48,
   "id": "aba0c7a8",
   "metadata": {},
   "outputs": [
    {
     "name": "stdout",
     "output_type": "stream",
     "text": [
      "22/20\n"
     ]
    }
   ],
   "source": [
    "class Fraction:\n",
    "    def __init__(self, num, denom):\n",
    "        self.n = num\n",
    "        self.d = denom\n",
    "    \n",
    "    def __str__(self):\n",
    "        return f\"{self.n}/{self.d}\"\n",
    "    \n",
    "    def __add__(self, other):\n",
    "        num = self.n*other.d+other.n*self.d\n",
    "        denom = self.d*other.d\n",
    "        return f\"{num}/{denom}\"\n",
    "f1 = Fraction(3, 5)\n",
    "f2 = Fraction(2, 4)\n",
    "print(f1+f2)"
   ]
  },
  {
   "cell_type": "code",
   "execution_count": 49,
   "id": "1afd5862",
   "metadata": {},
   "outputs": [
    {
     "name": "stdout",
     "output_type": "stream",
     "text": [
      "return from parent\n"
     ]
    }
   ],
   "source": [
    "class Parent():\n",
    "    def fun(self):\n",
    "        return \"return from parent\"\n",
    "class Child(Parent):\n",
    "    pass\n",
    "o = Child()\n",
    "print(o.fun())"
   ]
  },
  {
   "cell_type": "code",
   "execution_count": 50,
   "id": "81b48281",
   "metadata": {},
   "outputs": [
    {
     "name": "stdout",
     "output_type": "stream",
     "text": [
      "return from child\n"
     ]
    }
   ],
   "source": [
    "class Parent():\n",
    "    def fun(self):\n",
    "        return \"return from parent\"\n",
    "class Child(Parent):\n",
    "    def fun(self):\n",
    "        return \"return from child\"\n",
    "o = Child()\n",
    "print(o.fun())"
   ]
  },
  {
   "cell_type": "code",
   "execution_count": 51,
   "id": "5ad285a8",
   "metadata": {},
   "outputs": [
    {
     "name": "stdout",
     "output_type": "stream",
     "text": [
      "return from child\n"
     ]
    }
   ],
   "source": [
    "class Parent():\n",
    "    def fun(self):\n",
    "        return self.fun1()\n",
    "        return \"return from parent\"\n",
    "class Child(Parent):\n",
    "    def fun1(self):\n",
    "        return \"return from child\"\n",
    "o = Child()\n",
    "print(o.fun())"
   ]
  },
  {
   "cell_type": "code",
   "execution_count": 52,
   "id": "5d1d27b6",
   "metadata": {},
   "outputs": [
    {
     "ename": "AttributeError",
     "evalue": "'Parent' object has no attribute 'fun1'",
     "output_type": "error",
     "traceback": [
      "\u001b[1;31m---------------------------------------------------------------------------\u001b[0m",
      "\u001b[1;31mAttributeError\u001b[0m                            Traceback (most recent call last)",
      "Input \u001b[1;32mIn [52]\u001b[0m, in \u001b[0;36m<cell line: 2>\u001b[1;34m()\u001b[0m\n\u001b[0;32m      1\u001b[0m p \u001b[38;5;241m=\u001b[39m Parent()\n\u001b[1;32m----> 2\u001b[0m \u001b[38;5;28mprint\u001b[39m(\u001b[43mp\u001b[49m\u001b[38;5;241;43m.\u001b[39;49m\u001b[43mfun\u001b[49m\u001b[43m(\u001b[49m\u001b[43m)\u001b[49m)\n",
      "Input \u001b[1;32mIn [51]\u001b[0m, in \u001b[0;36mParent.fun\u001b[1;34m(self)\u001b[0m\n\u001b[0;32m      2\u001b[0m \u001b[38;5;28;01mdef\u001b[39;00m \u001b[38;5;21mfun\u001b[39m(\u001b[38;5;28mself\u001b[39m):\n\u001b[1;32m----> 3\u001b[0m     \u001b[38;5;28;01mreturn\u001b[39;00m \u001b[38;5;28;43mself\u001b[39;49m\u001b[38;5;241;43m.\u001b[39;49m\u001b[43mfun1\u001b[49m()\n\u001b[0;32m      4\u001b[0m     \u001b[38;5;28;01mreturn\u001b[39;00m \u001b[38;5;124m\"\u001b[39m\u001b[38;5;124mreturn from parent\u001b[39m\u001b[38;5;124m\"\u001b[39m\n",
      "\u001b[1;31mAttributeError\u001b[0m: 'Parent' object has no attribute 'fun1'"
     ]
    }
   ],
   "source": [
    "p = Parent()\n",
    "print(p.fun())"
   ]
  },
  {
   "cell_type": "code",
   "execution_count": 53,
   "id": "d32c3ab2",
   "metadata": {},
   "outputs": [
    {
     "name": "stdout",
     "output_type": "stream",
     "text": [
      "return from child\n",
      "return from parent\n"
     ]
    }
   ],
   "source": [
    "class Parent():\n",
    "    def fun(self):\n",
    "        print(self.fun1())\n",
    "        return \"return from parent\"\n",
    "class Child(Parent):\n",
    "    def fun1(self):\n",
    "        return \"return from child\"\n",
    "o = Child()\n",
    "print(o.fun())"
   ]
  },
  {
   "cell_type": "code",
   "execution_count": 54,
   "id": "5c87657a",
   "metadata": {},
   "outputs": [
    {
     "name": "stdout",
     "output_type": "stream",
     "text": [
      "return from parent\n"
     ]
    }
   ],
   "source": [
    "class Parent():\n",
    "    def fun(self):\n",
    "        return \"return from parent\"\n",
    "        return self.fun1()\n",
    "class Child(Parent):\n",
    "    def fun1(self):\n",
    "        return \"return from child\"\n",
    "o = Child()\n",
    "print(o.fun())"
   ]
  },
  {
   "cell_type": "code",
   "execution_count": 55,
   "id": "09f5b08e",
   "metadata": {},
   "outputs": [
    {
     "name": "stdout",
     "output_type": "stream",
     "text": [
      "10 20\n",
      "return from derive\n",
      "10 20\n"
     ]
    }
   ],
   "source": [
    "class Myclass():\n",
    "    def __init__(self, a, b):\n",
    "        self.a = a\n",
    "        self.b = b\n",
    "class DeriveClass(Myclass):\n",
    "    def fun(self):\n",
    "        print(self.a, self.b)\n",
    "        return \"return from derive\"\n",
    "o = DeriveClass(10, 20)\n",
    "print(o.fun())\n",
    "print(o.a, o.b)"
   ]
  },
  {
   "cell_type": "code",
   "execution_count": 56,
   "id": "f49c798c",
   "metadata": {},
   "outputs": [
    {
     "ename": "AttributeError",
     "evalue": "'DeriveClass' object has no attribute 'a'",
     "output_type": "error",
     "traceback": [
      "\u001b[1;31m---------------------------------------------------------------------------\u001b[0m",
      "\u001b[1;31mAttributeError\u001b[0m                            Traceback (most recent call last)",
      "Input \u001b[1;32mIn [56]\u001b[0m, in \u001b[0;36m<cell line: 13>\u001b[1;34m()\u001b[0m\n\u001b[0;32m     11\u001b[0m         \u001b[38;5;28;01mreturn\u001b[39;00m \u001b[38;5;124m\"\u001b[39m\u001b[38;5;124mreturn from derive\u001b[39m\u001b[38;5;124m\"\u001b[39m\n\u001b[0;32m     12\u001b[0m o \u001b[38;5;241m=\u001b[39m DeriveClass(\u001b[38;5;241m10\u001b[39m, \u001b[38;5;241m20\u001b[39m)\n\u001b[1;32m---> 13\u001b[0m \u001b[38;5;28mprint\u001b[39m(\u001b[43mo\u001b[49m\u001b[38;5;241;43m.\u001b[39;49m\u001b[43mfun\u001b[49m\u001b[43m(\u001b[49m\u001b[43m)\u001b[49m)\n\u001b[0;32m     14\u001b[0m \u001b[38;5;28mprint\u001b[39m(o\u001b[38;5;241m.\u001b[39ma, o\u001b[38;5;241m.\u001b[39mb)\n",
      "Input \u001b[1;32mIn [56]\u001b[0m, in \u001b[0;36mDeriveClass.fun\u001b[1;34m(self)\u001b[0m\n\u001b[0;32m      9\u001b[0m \u001b[38;5;28;01mdef\u001b[39;00m \u001b[38;5;21mfun\u001b[39m(\u001b[38;5;28mself\u001b[39m):\n\u001b[1;32m---> 10\u001b[0m     \u001b[38;5;28mprint\u001b[39m(\u001b[38;5;28;43mself\u001b[39;49m\u001b[38;5;241;43m.\u001b[39;49m\u001b[43ma\u001b[49m, \u001b[38;5;28mself\u001b[39m\u001b[38;5;241m.\u001b[39mb)\n\u001b[0;32m     11\u001b[0m     \u001b[38;5;28;01mreturn\u001b[39;00m \u001b[38;5;124m\"\u001b[39m\u001b[38;5;124mreturn from derive\u001b[39m\u001b[38;5;124m\"\u001b[39m\n",
      "\u001b[1;31mAttributeError\u001b[0m: 'DeriveClass' object has no attribute 'a'"
     ]
    }
   ],
   "source": [
    "class Myclass():\n",
    "    def __init__(self, a, b):\n",
    "        self.a = a\n",
    "        self.b = b\n",
    "class DeriveClass(Myclass):\n",
    "    def __init__(self, c, d):\n",
    "        self.c = c\n",
    "        self.d = d\n",
    "    def fun(self):\n",
    "        print(self.a, self.b)\n",
    "        return \"return from derive\"\n",
    "o = DeriveClass(10, 20)\n",
    "print(o.fun())\n",
    "print(o.a, o.b)"
   ]
  },
  {
   "cell_type": "code",
   "execution_count": 57,
   "id": "09c90bc9",
   "metadata": {},
   "outputs": [
    {
     "name": "stdout",
     "output_type": "stream",
     "text": [
      "30 40\n",
      "return from derive\n"
     ]
    }
   ],
   "source": [
    "class Myclass(object):\n",
    "    def __init__(self, a, b):\n",
    "        self.a = a\n",
    "        self.b = b\n",
    "class DeriveClass(Myclass):\n",
    "    def __init__(self, a, b, c, d):\n",
    "        self.c = a\n",
    "        self.d = b\n",
    "        super().__init__(c,d)\n",
    "    def fun(self):\n",
    "        print(self.a, self.b)\n",
    "        return \"return from derive\"\n",
    "o = DeriveClass(10, 20, 30, 40)\n",
    "print(o.fun())"
   ]
  },
  {
   "cell_type": "code",
   "execution_count": 58,
   "id": "3b90db18",
   "metadata": {},
   "outputs": [
    {
     "name": "stdout",
     "output_type": "stream",
     "text": [
      "50\n"
     ]
    }
   ],
   "source": [
    "class Myclass(object):\n",
    "    def fun(self):\n",
    "        print(self.a)\n",
    "class DeriveClass(Myclass):\n",
    "    def fun(self):\n",
    "        self.a = 50\n",
    "        super(DeriveClass, self).fun()\n",
    "o = DeriveClass()\n",
    "o.fun()"
   ]
  },
  {
   "cell_type": "code",
   "execution_count": 59,
   "id": "32a5d2a4",
   "metadata": {},
   "outputs": [
    {
     "ename": "AttributeError",
     "evalue": "'DeriveClass' object has no attribute 'a'",
     "output_type": "error",
     "traceback": [
      "\u001b[1;31m---------------------------------------------------------------------------\u001b[0m",
      "\u001b[1;31mAttributeError\u001b[0m                            Traceback (most recent call last)",
      "Input \u001b[1;32mIn [59]\u001b[0m, in \u001b[0;36m<cell line: 9>\u001b[1;34m()\u001b[0m\n\u001b[0;32m      7\u001b[0m         \u001b[38;5;28mself\u001b[39m\u001b[38;5;241m.\u001b[39ma \u001b[38;5;241m=\u001b[39m \u001b[38;5;241m50\u001b[39m\n\u001b[0;32m      8\u001b[0m o \u001b[38;5;241m=\u001b[39m DeriveClass()\n\u001b[1;32m----> 9\u001b[0m \u001b[43mo\u001b[49m\u001b[38;5;241;43m.\u001b[39;49m\u001b[43mfun\u001b[49m\u001b[43m(\u001b[49m\u001b[43m)\u001b[49m\n",
      "Input \u001b[1;32mIn [59]\u001b[0m, in \u001b[0;36mDeriveClass.fun\u001b[1;34m(self)\u001b[0m\n\u001b[0;32m      5\u001b[0m \u001b[38;5;28;01mdef\u001b[39;00m \u001b[38;5;21mfun\u001b[39m(\u001b[38;5;28mself\u001b[39m):\n\u001b[1;32m----> 6\u001b[0m     \u001b[38;5;28;43msuper\u001b[39;49m\u001b[43m(\u001b[49m\u001b[43mDeriveClass\u001b[49m\u001b[43m,\u001b[49m\u001b[43m \u001b[49m\u001b[38;5;28;43mself\u001b[39;49m\u001b[43m)\u001b[49m\u001b[38;5;241;43m.\u001b[39;49m\u001b[43mfun\u001b[49m\u001b[43m(\u001b[49m\u001b[43m)\u001b[49m\n\u001b[0;32m      7\u001b[0m     \u001b[38;5;28mself\u001b[39m\u001b[38;5;241m.\u001b[39ma \u001b[38;5;241m=\u001b[39m \u001b[38;5;241m50\u001b[39m\n",
      "Input \u001b[1;32mIn [59]\u001b[0m, in \u001b[0;36mMyclass.fun\u001b[1;34m(self)\u001b[0m\n\u001b[0;32m      2\u001b[0m \u001b[38;5;28;01mdef\u001b[39;00m \u001b[38;5;21mfun\u001b[39m(\u001b[38;5;28mself\u001b[39m):\n\u001b[1;32m----> 3\u001b[0m     \u001b[38;5;28mprint\u001b[39m(\u001b[38;5;28;43mself\u001b[39;49m\u001b[38;5;241;43m.\u001b[39;49m\u001b[43ma\u001b[49m)\n",
      "\u001b[1;31mAttributeError\u001b[0m: 'DeriveClass' object has no attribute 'a'"
     ]
    }
   ],
   "source": [
    "class Myclass(object):\n",
    "    def fun(self):\n",
    "        print(self.a)\n",
    "class DeriveClass(Myclass):\n",
    "    def fun(self):\n",
    "        super(DeriveClass, self).fun()\n",
    "        self.a = 50\n",
    "o = DeriveClass()\n",
    "o.fun()"
   ]
  },
  {
   "cell_type": "code",
   "execution_count": 60,
   "id": "51882de0",
   "metadata": {},
   "outputs": [
    {
     "ename": "AttributeError",
     "evalue": "'DeriveClass' object has no attribute 'a'",
     "output_type": "error",
     "traceback": [
      "\u001b[1;31m---------------------------------------------------------------------------\u001b[0m",
      "\u001b[1;31mAttributeError\u001b[0m                            Traceback (most recent call last)",
      "Input \u001b[1;32mIn [60]\u001b[0m, in \u001b[0;36m<cell line: 9>\u001b[1;34m()\u001b[0m\n\u001b[0;32m      7\u001b[0m         \u001b[38;5;28mself\u001b[39m\u001b[38;5;241m.\u001b[39ma \u001b[38;5;241m=\u001b[39m \u001b[38;5;241m50\u001b[39m\n\u001b[0;32m      8\u001b[0m o \u001b[38;5;241m=\u001b[39m DeriveClass()\n\u001b[1;32m----> 9\u001b[0m \u001b[43mo\u001b[49m\u001b[38;5;241;43m.\u001b[39;49m\u001b[43mfun\u001b[49m\u001b[43m(\u001b[49m\u001b[43m)\u001b[49m\n",
      "Input \u001b[1;32mIn [60]\u001b[0m, in \u001b[0;36mDeriveClass.fun\u001b[1;34m(self)\u001b[0m\n\u001b[0;32m      5\u001b[0m \u001b[38;5;28;01mdef\u001b[39;00m \u001b[38;5;21mfun\u001b[39m(\u001b[38;5;28mself\u001b[39m):\n\u001b[1;32m----> 6\u001b[0m     \u001b[38;5;28;43msuper\u001b[39;49m\u001b[43m(\u001b[49m\u001b[43mDeriveClass\u001b[49m\u001b[43m,\u001b[49m\u001b[43m \u001b[49m\u001b[38;5;28;43mself\u001b[39;49m\u001b[43m)\u001b[49m\u001b[38;5;241;43m.\u001b[39;49m\u001b[43mfun\u001b[49m\u001b[43m(\u001b[49m\u001b[43m)\u001b[49m\n\u001b[0;32m      7\u001b[0m     \u001b[38;5;28mself\u001b[39m\u001b[38;5;241m.\u001b[39ma \u001b[38;5;241m=\u001b[39m \u001b[38;5;241m50\u001b[39m\n",
      "Input \u001b[1;32mIn [60]\u001b[0m, in \u001b[0;36mMyclass.fun\u001b[1;34m(self)\u001b[0m\n\u001b[0;32m      2\u001b[0m \u001b[38;5;28;01mdef\u001b[39;00m \u001b[38;5;21mfun\u001b[39m(\u001b[38;5;28mself\u001b[39m):\n\u001b[1;32m----> 3\u001b[0m     \u001b[38;5;28mprint\u001b[39m(\u001b[38;5;28;43mself\u001b[39;49m\u001b[38;5;241;43m.\u001b[39;49m\u001b[43ma\u001b[49m)\n",
      "\u001b[1;31mAttributeError\u001b[0m: 'DeriveClass' object has no attribute 'a'"
     ]
    }
   ],
   "source": [
    "class Myclass(object):\n",
    "    def fun(self):\n",
    "        print(self.a)\n",
    "class DeriveClass(Myclass):\n",
    "    def fun(self):\n",
    "        super(DeriveClass, self).fun()\n",
    "        self.a = 50\n",
    "o = DeriveClass()\n",
    "o.fun()"
   ]
  },
  {
   "cell_type": "code",
   "execution_count": 61,
   "id": "e10d7957",
   "metadata": {},
   "outputs": [
    {
     "name": "stdout",
     "output_type": "stream",
     "text": [
      "I am from C\n"
     ]
    }
   ],
   "source": [
    "class A:\n",
    "    def myfun(self):\n",
    "        return \"I am from A\"\n",
    "class B(A):\n",
    "    def myfun(self):\n",
    "        return \"I am from B\"\n",
    "class C(B):\n",
    "    def myfun(self):\n",
    "        return \"I am from C\"\n",
    "o = C()\n",
    "print(o.myfun())\n"
   ]
  },
  {
   "cell_type": "code",
   "execution_count": 62,
   "id": "801244ed",
   "metadata": {},
   "outputs": [
    {
     "name": "stdout",
     "output_type": "stream",
     "text": [
      "I am from B\n"
     ]
    }
   ],
   "source": [
    "class A:\n",
    "    def myfun(self):\n",
    "        return \"I am from A\"\n",
    "class B(A):\n",
    "    def myfun(self):\n",
    "        return \"I am from B\"\n",
    "class C(B):\n",
    "    def myfun(self):\n",
    "        return super().myfun()\n",
    "        return \"I am from C\"\n",
    "o = C()\n",
    "print(o.myfun())\n"
   ]
  },
  {
   "cell_type": "code",
   "execution_count": 63,
   "id": "d5123f1a",
   "metadata": {},
   "outputs": [
    {
     "name": "stdout",
     "output_type": "stream",
     "text": [
      "I am from A\n"
     ]
    }
   ],
   "source": [
    "class A:\n",
    "    def myfun(self):\n",
    "        return \"I am from A\"\n",
    "class B(A):\n",
    "    def myfun(self):\n",
    "        return super().myfun()\n",
    "        return \"I am from B\"\n",
    "class C(B):\n",
    "    def myfun(self):\n",
    "        return super().myfun()\n",
    "        return \"I am from C\"\n",
    "o = C()\n",
    "print(o.myfun())\n"
   ]
  },
  {
   "cell_type": "code",
   "execution_count": 64,
   "id": "76945a78",
   "metadata": {},
   "outputs": [
    {
     "name": "stdout",
     "output_type": "stream",
     "text": [
      "I am from A\n",
      "I am from B\n",
      "I am from C\n"
     ]
    }
   ],
   "source": [
    "class A:\n",
    "    def myfun(self):\n",
    "        return \"I am from A\"\n",
    "class B(A):\n",
    "    def myfun(self):\n",
    "        print(super().myfun())\n",
    "        return \"I am from B\"\n",
    "class C(B):\n",
    "    def myfun(self):\n",
    "        print(super().myfun())\n",
    "        return \"I am from C\"\n",
    "o = C()\n",
    "print(o.myfun())\n"
   ]
  },
  {
   "cell_type": "code",
   "execution_count": 2,
   "id": "c29d5f0c",
   "metadata": {},
   "outputs": [
    {
     "name": "stdout",
     "output_type": "stream",
     "text": [
      "I am from B\n"
     ]
    }
   ],
   "source": [
    "class A:\n",
    "    def myfun(self):\n",
    "        return \"I am from A\"\n",
    "\n",
    "class B:\n",
    "    def myfun(self):\n",
    "        return \"I am from B\"\n",
    "\n",
    "class C(B, A):\n",
    "    pass\n",
    "o = C()\n",
    "print(o.myfun())"
   ]
  },
  {
   "cell_type": "code",
   "execution_count": 6,
   "id": "49faaae8",
   "metadata": {},
   "outputs": [
    {
     "name": "stdout",
     "output_type": "stream",
     "text": [
      "I am from A   I am from B\n"
     ]
    }
   ],
   "source": [
    "class A:\n",
    "    def myfun(self):\n",
    "        return \"I am from A\"\n",
    "\n",
    "class B:\n",
    "    def myfun(self):\n",
    "        return \"I am from B\"\n",
    "\n",
    "class C(B, A):\n",
    "    def myfun(self):\n",
    "        return A.myfun(self) +\"   \"+ B.myfun(self)\n",
    "o = C()\n",
    "print(o.myfun())"
   ]
  },
  {
   "cell_type": "code",
   "execution_count": 13,
   "id": "c557114f",
   "metadata": {},
   "outputs": [
    {
     "name": "stdout",
     "output_type": "stream",
     "text": [
      "[<class '__main__.C'>, <class '__main__.B'>, <class '__main__.A'>, <class 'object'>]\n"
     ]
    }
   ],
   "source": [
    "print(C.mro())"
   ]
  },
  {
   "cell_type": "code",
   "execution_count": 14,
   "id": "1672092e",
   "metadata": {},
   "outputs": [
    {
     "name": "stdout",
     "output_type": "stream",
     "text": [
      "I am from A   I am from B\n"
     ]
    }
   ],
   "source": [
    "class Z:\n",
    "    def myfun(self):\n",
    "        return \"I am from X\"\n",
    "class A(Z):\n",
    "    def myfun(self):\n",
    "        return \"I am from A\"\n",
    "\n",
    "class B(Z):\n",
    "    def myfun(self):\n",
    "        return \"I am from B\"\n",
    "\n",
    "class C(B, A):\n",
    "    def myfun(self):\n",
    "        return A.myfun(self) +\"   \"+ B.myfun(self)\n",
    "o = C()\n",
    "print(o.myfun())"
   ]
  },
  {
   "cell_type": "code",
   "execution_count": 15,
   "id": "8cf029e3",
   "metadata": {},
   "outputs": [
    {
     "name": "stdout",
     "output_type": "stream",
     "text": [
      "I am from B\n"
     ]
    }
   ],
   "source": [
    "class Z:\n",
    "    def myfun(self):\n",
    "        return \"I am from X\"\n",
    "class A(Z):\n",
    "    def myfun(self):\n",
    "        return \"I am from A\"\n",
    "\n",
    "class B(Z):\n",
    "    pass\n",
    "\n",
    "class C(B, A):\n",
    "    pass\n",
    "o = C()\n",
    "print(o.myfun())"
   ]
  },
  {
   "cell_type": "code",
   "execution_count": 16,
   "id": "a778d414",
   "metadata": {},
   "outputs": [
    {
     "name": "stdout",
     "output_type": "stream",
     "text": [
      "I am from A\n"
     ]
    }
   ],
   "source": [
    "class Z:\n",
    "    def myfun(self):\n",
    "        return \"I am from X\"\n",
    "class A(Z):\n",
    "    def myfun(self):\n",
    "        return \"I am from A\"\n",
    "\n",
    "class B(Z):\n",
    "    pass\n",
    "\n",
    "class C(B, A):\n",
    "    pass\n",
    "o = C()\n",
    "print(o.myfun())"
   ]
  },
  {
   "cell_type": "code",
   "execution_count": 17,
   "id": "d93d826a",
   "metadata": {},
   "outputs": [
    {
     "name": "stdout",
     "output_type": "stream",
     "text": [
      "[<class '__main__.C'>, <class '__main__.B'>, <class '__main__.A'>, <class '__main__.Z'>, <class 'object'>]\n"
     ]
    }
   ],
   "source": [
    "print(C.mro())"
   ]
  },
  {
   "cell_type": "code",
   "execution_count": 18,
   "id": "38be3865",
   "metadata": {},
   "outputs": [
    {
     "name": "stdout",
     "output_type": "stream",
     "text": [
      "I am from A\n"
     ]
    }
   ],
   "source": [
    "class Z:\n",
    "    def myfun(self):\n",
    "        return \"I am from X\"\n",
    "class A(Z):\n",
    "    def myfun(self):\n",
    "        return \"I am from A\"\n",
    "\n",
    "class B(Z):\n",
    "    pass\n",
    "\n",
    "class C(A, B):\n",
    "    pass\n",
    "o = C()\n",
    "print(o.myfun())"
   ]
  },
  {
   "cell_type": "code",
   "execution_count": 19,
   "id": "38f94068",
   "metadata": {},
   "outputs": [
    {
     "name": "stdout",
     "output_type": "stream",
     "text": [
      "I am from X\n"
     ]
    }
   ],
   "source": [
    "class Z:\n",
    "    def myfun(self):\n",
    "        return \"I am from X\"\n",
    "class A(Z):\n",
    "    pass\n",
    "\n",
    "class B(Z):\n",
    "    pass\n",
    "\n",
    "class C(A, B):\n",
    "    pass\n",
    "o = C()\n",
    "print(o.myfun())"
   ]
  },
  {
   "cell_type": "code",
   "execution_count": 20,
   "id": "89c6e0fb",
   "metadata": {},
   "outputs": [
    {
     "name": "stdout",
     "output_type": "stream",
     "text": [
      "I am from X\n"
     ]
    }
   ],
   "source": [
    "class Z:\n",
    "    def myfun(self):\n",
    "        return \"I am from X\"\n",
    "class A(Z):\n",
    "    pass\n",
    "\n",
    "class B(Z):\n",
    "    pass\n",
    "\n",
    "class C(B, A):\n",
    "    pass\n",
    "o = C()\n",
    "print(o.myfun())"
   ]
  },
  {
   "cell_type": "code",
   "execution_count": 21,
   "id": "f7ca7a58",
   "metadata": {},
   "outputs": [
    {
     "name": "stdout",
     "output_type": "stream",
     "text": [
      "50\n"
     ]
    }
   ],
   "source": [
    "class parent:\n",
    "    def __init__(self, a, b):\n",
    "        self.a = a\n",
    "        self.b = b\n",
    "    def add(self):\n",
    "        return self.a+self.b\n",
    "class Child(parent):\n",
    "    def __init__(self, a, b, c):\n",
    "        super().__init__(b,c)\n",
    "        self.c = a\n",
    "    def add(self):\n",
    "        return super().add()+self.c\n",
    "o = Child(10, 20, 20)\n",
    "print(o.add())"
   ]
  },
  {
   "cell_type": "code",
   "execution_count": 22,
   "id": "4aed7170",
   "metadata": {},
   "outputs": [],
   "source": [
    "class Child():\n",
    "    def __init__(self, a, b, c):\n",
    "        self.b = c\n",
    "        self.a = b\n",
    "        self.c = a\n",
    "    def add(self, x):\n",
    "        return self.a+x\n",
    "    def add(self):\n",
    "        return self.a+self.b+self.c\n",
    "o = Child(10, 20, 20)\n"
   ]
  },
  {
   "cell_type": "code",
   "execution_count": 23,
   "id": "e6631189",
   "metadata": {},
   "outputs": [
    {
     "name": "stdout",
     "output_type": "stream",
     "text": [
      "50\n"
     ]
    }
   ],
   "source": [
    "print(o.add())"
   ]
  },
  {
   "cell_type": "code",
   "execution_count": 24,
   "id": "7bc958c5",
   "metadata": {},
   "outputs": [
    {
     "ename": "TypeError",
     "evalue": "Child.add() takes 1 positional argument but 2 were given",
     "output_type": "error",
     "traceback": [
      "\u001b[1;31m---------------------------------------------------------------------------\u001b[0m",
      "\u001b[1;31mTypeError\u001b[0m                                 Traceback (most recent call last)",
      "Input \u001b[1;32mIn [24]\u001b[0m, in \u001b[0;36m<cell line: 1>\u001b[1;34m()\u001b[0m\n\u001b[1;32m----> 1\u001b[0m \u001b[38;5;28mprint\u001b[39m(\u001b[43mo\u001b[49m\u001b[38;5;241;43m.\u001b[39;49m\u001b[43madd\u001b[49m\u001b[43m(\u001b[49m\u001b[38;5;241;43m10\u001b[39;49m\u001b[43m)\u001b[49m)\n",
      "\u001b[1;31mTypeError\u001b[0m: Child.add() takes 1 positional argument but 2 were given"
     ]
    }
   ],
   "source": [
    "print(o.add(10))"
   ]
  },
  {
   "cell_type": "code",
   "execution_count": 25,
   "id": "8731010a",
   "metadata": {},
   "outputs": [
    {
     "name": "stdout",
     "output_type": "stream",
     "text": [
      "10\n",
      "30\n"
     ]
    }
   ],
   "source": [
    "class Child():\n",
    "    def __init__(self, a, b, c):\n",
    "        self.b = c\n",
    "        self.a = b\n",
    "        self.c = a\n",
    "    def add(self, *a):\n",
    "        return sum(a)\n",
    "o = Child(10, 20, 20)\n",
    "print(o.add(10))\n",
    "print(o.add(10, 20))"
   ]
  },
  {
   "cell_type": "code",
   "execution_count": 26,
   "id": "c1f96892",
   "metadata": {},
   "outputs": [
    {
     "name": "stdout",
     "output_type": "stream",
     "text": [
      "0\n"
     ]
    }
   ],
   "source": [
    "print(o.add())"
   ]
  },
  {
   "cell_type": "markdown",
   "id": "34d5fb8c",
   "metadata": {},
   "source": [
    "# private variables"
   ]
  },
  {
   "cell_type": "code",
   "execution_count": 27,
   "id": "18a6a704",
   "metadata": {},
   "outputs": [
    {
     "ename": "AttributeError",
     "evalue": "'Myclass' object has no attribute '__b'",
     "output_type": "error",
     "traceback": [
      "\u001b[1;31m---------------------------------------------------------------------------\u001b[0m",
      "\u001b[1;31mAttributeError\u001b[0m                            Traceback (most recent call last)",
      "Input \u001b[1;32mIn [27]\u001b[0m, in \u001b[0;36m<cell line: 6>\u001b[1;34m()\u001b[0m\n\u001b[0;32m      4\u001b[0m         \u001b[38;5;28mself\u001b[39m\u001b[38;5;241m.\u001b[39m__b \u001b[38;5;241m=\u001b[39m b\n\u001b[0;32m      5\u001b[0m o \u001b[38;5;241m=\u001b[39m Myclass(\u001b[38;5;241m20\u001b[39m)\n\u001b[1;32m----> 6\u001b[0m \u001b[38;5;28mprint\u001b[39m(\u001b[43mo\u001b[49m\u001b[38;5;241;43m.\u001b[39;49m\u001b[43m__b\u001b[49m)\n",
      "\u001b[1;31mAttributeError\u001b[0m: 'Myclass' object has no attribute '__b'"
     ]
    }
   ],
   "source": [
    "class Myclass:\n",
    "    __a = 10\n",
    "    def __init__(self, b):\n",
    "        self.__b = b\n",
    "o = Myclass(20)\n",
    "print(o.__b)"
   ]
  },
  {
   "cell_type": "code",
   "execution_count": 28,
   "id": "e1700275",
   "metadata": {},
   "outputs": [
    {
     "ename": "AttributeError",
     "evalue": "'Myclass' object has no attribute 'b'",
     "output_type": "error",
     "traceback": [
      "\u001b[1;31m---------------------------------------------------------------------------\u001b[0m",
      "\u001b[1;31mAttributeError\u001b[0m                            Traceback (most recent call last)",
      "Input \u001b[1;32mIn [28]\u001b[0m, in \u001b[0;36m<cell line: 1>\u001b[1;34m()\u001b[0m\n\u001b[1;32m----> 1\u001b[0m \u001b[38;5;28mprint\u001b[39m(\u001b[43mo\u001b[49m\u001b[38;5;241;43m.\u001b[39;49m\u001b[43mb\u001b[49m)\n",
      "\u001b[1;31mAttributeError\u001b[0m: 'Myclass' object has no attribute 'b'"
     ]
    }
   ],
   "source": [
    "print(o.b)"
   ]
  },
  {
   "cell_type": "code",
   "execution_count": 29,
   "id": "d7636873",
   "metadata": {},
   "outputs": [
    {
     "name": "stdout",
     "output_type": "stream",
     "text": [
      "(10, 20)\n"
     ]
    }
   ],
   "source": [
    "class Myclass:\n",
    "    __a = 10\n",
    "    def __init__(self, b):\n",
    "        self.__b = b\n",
    "    def display(self):\n",
    "        return self.__a, self.__b\n",
    "o = Myclass(20)\n",
    "print(o.display())"
   ]
  },
  {
   "cell_type": "code",
   "execution_count": 30,
   "id": "9bc39ded",
   "metadata": {},
   "outputs": [
    {
     "name": "stdout",
     "output_type": "stream",
     "text": [
      "['_Myclass__a', '_Myclass__b', '__class__', '__delattr__', '__dict__', '__dir__', '__doc__', '__eq__', '__format__', '__ge__', '__getattribute__', '__gt__', '__hash__', '__init__', '__init_subclass__', '__le__', '__lt__', '__module__', '__ne__', '__new__', '__reduce__', '__reduce_ex__', '__repr__', '__setattr__', '__sizeof__', '__str__', '__subclasshook__', '__weakref__', 'display']\n"
     ]
    }
   ],
   "source": [
    "print(dir(o))"
   ]
  },
  {
   "cell_type": "code",
   "execution_count": 35,
   "id": "bc94dc0f",
   "metadata": {},
   "outputs": [
    {
     "name": "stdout",
     "output_type": "stream",
     "text": [
      "20\n"
     ]
    }
   ],
   "source": [
    "print(o.__dict__['_Myclass__b'])"
   ]
  },
  {
   "cell_type": "code",
   "execution_count": 36,
   "id": "bcf99abe",
   "metadata": {},
   "outputs": [
    {
     "name": "stdout",
     "output_type": "stream",
     "text": [
      "{'__module__': '__main__', '_Myclass__a': 10, '__init__': <function Myclass.__init__ at 0x0000011A0EEB8E50>, 'display': <function Myclass.display at 0x0000011A0EEB8B80>, '__dict__': <attribute '__dict__' of 'Myclass' objects>, '__weakref__': <attribute '__weakref__' of 'Myclass' objects>, '__doc__': None}\n"
     ]
    }
   ],
   "source": [
    "print(Myclass.__dict__)"
   ]
  },
  {
   "cell_type": "code",
   "execution_count": 40,
   "id": "03ac6ebd",
   "metadata": {},
   "outputs": [
    {
     "name": "stdout",
     "output_type": "stream",
     "text": [
      "20\n"
     ]
    }
   ],
   "source": [
    "class Myclass:\n",
    "    __a = 10\n",
    "    def __init__(self, b):\n",
    "        self.__b = b\n",
    "    def display(self):\n",
    "        return self.__a, self.__b\n",
    "    def getB(self):\n",
    "        # validations\n",
    "        return self.__b\n",
    "    def setB(self, arg):\n",
    "        # validations\n",
    "        self.__b = arg\n",
    "o = Myclass(20)\n",
    "print(o.getB())"
   ]
  },
  {
   "cell_type": "code",
   "execution_count": 41,
   "id": "834a6d1a",
   "metadata": {},
   "outputs": [
    {
     "name": "stdout",
     "output_type": "stream",
     "text": [
      "30\n"
     ]
    }
   ],
   "source": [
    "o.setB(30)\n",
    "print(o.getB())"
   ]
  },
  {
   "cell_type": "code",
   "execution_count": 43,
   "id": "b5ee5206",
   "metadata": {
    "scrolled": true
   },
   "outputs": [
    {
     "name": "stdout",
     "output_type": "stream",
     "text": [
      "(1, 'successfully connected to facebook.com')\n",
      "sucessfully connected to facebook            comments parts\n",
      "comments are done\n"
     ]
    }
   ],
   "source": [
    "class Connect(object):\n",
    "    def __init__(self, username, password):\n",
    "        self.__username = username+\"123\"\n",
    "        self.__password = password\n",
    "    def __connect(self, address):\n",
    "        if self.__username == 'nag123':\n",
    "            return 1, \"successfully connected to \"\\\n",
    "        +address\n",
    "        return 0, \"failed to connect to \"+address\n",
    "    def connect_status(self, address=\"facebook.com\"):\n",
    "        #x = self.__connect(address)\n",
    "        #return x\n",
    "        return self.__connect(address)\n",
    "class FbConnect(Connect):\n",
    "    def comment(self):\n",
    "        address = \"facebook.com/comments\"\n",
    "        con_res = self.connect_status(address)\n",
    "        if con_res[0] == 1:\n",
    "            print(\"sucessfully connected to facebook\\\n",
    "            comments parts\")\n",
    "            return \"comments are done\"\n",
    "        return \"failed to connect to facebook\"\n",
    "obj = FbConnect('nag', 'nag')\n",
    "print(obj.connect_status())\n",
    "print(obj.comment())"
   ]
  },
  {
   "cell_type": "code",
   "execution_count": 44,
   "id": "be41f431",
   "metadata": {},
   "outputs": [
    {
     "name": "stdout",
     "output_type": "stream",
     "text": [
      "(0, 'failed to connect to facebook.com')\n",
      "failed to connect to facebook\n"
     ]
    }
   ],
   "source": [
    "obj = FbConnect('nag1', 'nag')\n",
    "print(obj.connect_status())\n",
    "print(obj.comment())"
   ]
  },
  {
   "cell_type": "markdown",
   "id": "55f48c2d",
   "metadata": {},
   "source": [
    "# instance methods, class methods and static methods"
   ]
  },
  {
   "cell_type": "code",
   "execution_count": 45,
   "id": "545ad456",
   "metadata": {},
   "outputs": [
    {
     "name": "stdout",
     "output_type": "stream",
     "text": [
      "10\n",
      "100 200\n",
      "10\n",
      "10\n"
     ]
    }
   ],
   "source": [
    "class Myclass:\n",
    "    a = 10\n",
    "    def myfun(self):\n",
    "        self.a = 100\n",
    "        self.b = 200\n",
    "o = Myclass()\n",
    "print(o.a)\n",
    "o.myfun()\n",
    "print(o.a, o.b)\n",
    "print(Myclass.a)\n",
    "o1 = Myclass()\n",
    "print(o1.a)"
   ]
  },
  {
   "cell_type": "code",
   "execution_count": 46,
   "id": "d18057e6",
   "metadata": {},
   "outputs": [
    {
     "name": "stdout",
     "output_type": "stream",
     "text": [
      "10\n",
      "100 200\n",
      "50 100\n",
      "500 100\n"
     ]
    }
   ],
   "source": [
    "class Myclass:\n",
    "    a = 10\n",
    "    def myfun(self):\n",
    "        self.a = 100\n",
    "        self.b = 200\n",
    "    @classmethod\n",
    "    def change(cls, a):\n",
    "        cls.a = a\n",
    "o = Myclass()\n",
    "print(o.a)\n",
    "o.myfun()\n",
    "print(o.a, o.b)\n",
    "o.change(50)\n",
    "print(Myclass.a, o.a)\n",
    "Myclass.change(500)\n",
    "print(Myclass.a, o.a)"
   ]
  },
  {
   "cell_type": "code",
   "execution_count": 48,
   "id": "2bfa907a",
   "metadata": {},
   "outputs": [
    {
     "name": "stdout",
     "output_type": "stream",
     "text": [
      "<class '__main__.Myclass'>\n",
      "350\n",
      "210\n",
      "<class '__main__.Myclass'>\n",
      "300\n"
     ]
    }
   ],
   "source": [
    "class Myclass:\n",
    "    a = 10\n",
    "    b = 20\n",
    "    def __init__(self, a, b):\n",
    "        self.a = a\n",
    "        self.b = b\n",
    "    def addi(self):\n",
    "        return self.adds(self.a, self.b)+50\n",
    "    @staticmethod\n",
    "    def adds(a, b):\n",
    "        return a+b\n",
    "    @classmethod\n",
    "    def addc(cls):\n",
    "        print(cls)\n",
    "        return cls.adds(cls.a, cls.b)*10\n",
    "print(Myclass)\n",
    "o = Myclass(100, 200)\n",
    "print(o.addi())\n",
    "print(Myclass.adds(10, 200))\n",
    "print(Myclass.addc())"
   ]
  },
  {
   "cell_type": "code",
   "execution_count": null,
   "id": "029ed144",
   "metadata": {},
   "outputs": [],
   "source": []
  }
 ],
 "metadata": {
  "kernelspec": {
   "display_name": "Python 3 (ipykernel)",
   "language": "python",
   "name": "python3"
  },
  "language_info": {
   "codemirror_mode": {
    "name": "ipython",
    "version": 3
   },
   "file_extension": ".py",
   "mimetype": "text/x-python",
   "name": "python",
   "nbconvert_exporter": "python",
   "pygments_lexer": "ipython3",
   "version": "3.10.8"
  },
  "vscode": {
   "interpreter": {
    "hash": "5b2be777496b2849047af42cabadf02476432879d9e548930d6ce5219944811f"
   }
  }
 },
 "nbformat": 4,
 "nbformat_minor": 5
}
